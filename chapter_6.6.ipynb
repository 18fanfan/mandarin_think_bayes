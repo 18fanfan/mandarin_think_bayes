{
 "cells": [
  {
   "cell_type": "markdown",
   "metadata": {},
   "source": [
    "## 章節 6：決策分析（Dicision Analysis）\n",
    "\n",
    "### 6.6 似然性函數（Likelihood）\n",
    "\n",
    "我們來撰寫似然性函數。通常我會定義一個新的類別繼承自 Suite 類別。"
   ]
  },
  {
   "cell_type": "code",
   "execution_count": 7,
   "metadata": {},
   "outputs": [],
   "source": [
    "from thinkbayes import Suite, EstimatedPdf, MakeCdfFromList, GaussianPdf\n",
    "\n",
    "\n",
    "class Player(object):\n",
    "    \n",
    "    def __init__(self, prices, bids, diffs):\n",
    "        # prices: 真實價格的序列\n",
    "        # bids: 參賽者出價的序列\n",
    "        # diffs: 價差的序列\n",
    "        \n",
    "        # 平滑化版本的真實價格分佈\n",
    "        self.pdf_price = EstimatedPdf(prices)\n",
    "        \n",
    "        # diff 的累積機率分佈，如上圖的 CDF\n",
    "        self.cdf_diff = MakeCdfFromList(diffs)\n",
    "        \n",
    "        mu = 0\n",
    "        sigma = numpy.std(diffs)\n",
    "        \n",
    "        # 價差的高斯分佈\n",
    "        self.pdf_error = GaussianPdf(mu, sigma)\n",
    "    \n",
    "    \n",
    "    def ErrorDensity(self, error):\n",
    "        self.pdf_error.Density(error) # 計算 error 的機率密度\n",
    "\n",
    "\n",
    "class Price(Suite):\n",
    "    \n",
    "    def __init__(self, pmf, player):\n",
    "        # pmf：先驗分佈\n",
    "        # player：player 物件\n",
    "        super().__init__(pmf)\n",
    "        self.player = player \n",
    "        \n",
    "    def Likelihood(self, data, hypo):\n",
    "        price = hypo # 假設展示品的真實價格為 price\n",
    "        guess = data # 參賽者在給定 price 下最好的出價價格\n",
    "        \n",
    "        error = price - guess\n",
    "        like  = self.player.ErrorDensity(error) # 似然性計算\n",
    "        return like\n",
    "    "
   ]
  },
  {
   "cell_type": "markdown",
   "metadata": {},
   "source": [
    "ErrorDensity 得到是一個**機率密度**，而非機率。但記得之前章節有提到似然性函數並不需要是個機率值；它只需要計算與真實機率成常數比例的數值。只要所有的似然性數值跟機率成相同的比例，最後當我們做正規化的時後這些常數會被消除掉。\n",
    "\n",
    "所以說，機率密度函數是很適合當作一個似然性函數。"
   ]
  }
 ],
 "metadata": {
  "kernelspec": {
   "display_name": "Python 3",
   "language": "python",
   "name": "python3"
  },
  "language_info": {
   "codemirror_mode": {
    "name": "ipython",
    "version": 3
   },
   "file_extension": ".py",
   "mimetype": "text/x-python",
   "name": "python",
   "nbconvert_exporter": "python",
   "pygments_lexer": "ipython3",
   "version": "3.6.6"
  }
 },
 "nbformat": 4,
 "nbformat_minor": 2
}
