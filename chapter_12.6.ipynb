{
 "cells": [
  {
   "cell_type": "markdown",
   "metadata": {},
   "source": [
    "# 章節 12：證據\n",
    "\n",
    "## 12.6 校正\n",
    "\n",
    "如果給定題目難度的分佈，我們可以用 MakeRawScoreDist 方法計算原始分數的分佈。但對我們來說有另一個問題：給定原始分數的分佈我們想要推論問題難度的分佈。\n",
    "\n",
    "這邊假設問題難度的分佈是在參數的中央根據寬度均勻分布。 MakeDifficulties 製造一序列問題困難度的參數。\n",
    "\n",
    "<pre>\n",
    "def MakeDifficulties(center, width, n):\n",
    "    low, high = center-width, center+width\n",
    "    return numpy.linspace(low, high, n)\n",
    "</pre>\n",
    "\n",
    "經過幾次參數組合的嘗試，發現 center=-0.05 和 width=1.8 產生的分佈相似於原始分佈，如下圖。"
   ]
  },
  {
   "cell_type": "code",
   "execution_count": 1,
   "metadata": {},
   "outputs": [],
   "source": [
    "#TODO"
   ]
  },
  {
   "cell_type": "markdown",
   "metadata": {},
   "source": [
    "所以假設題目難度的分佈是均勻分布，範圍約在 -1.85~1.75，而測試者功率是一個平均值為 0 標準差為 1.5 的高斯分佈。\n",
    "下表顯示不同問題難度以及測驗者功率的 ProbCorrect 分數。\n",
    "\n",
    "<table>\n",
    "    <tr><td></td><td colspan=3 align=\"center\">問題難度</td></tr>\n",
    "    <tr><td>答題效率</td><td>-1.85</td><td>-0.05</td><td>1.75</td></tr>\n",
    "    <tr><td>3.0</td><td>0.99</td><td>0.95</td><td>0.78</td></tr>\n",
    "    <tr><td>1.5</td><td>0.97</td><td>0.82</td><td>0.44</td></tr>\n",
    "    <tr><td>0.0</td><td>0.86</td><td>0.51</td><td>0.15</td></tr>\n",
    "    <tr><td>-1.5</td><td>0.59</td><td>0.19</td><td>0.04</td></tr>\n",
    "    <tr><td>-3.0</td><td>0.24</td><td>0.05</td><td>0.01</td></tr>\n",
    "</table>"
   ]
  },
  {
   "cell_type": "markdown",
   "metadata": {},
   "source": [
    "某位測試者功率為3（比平均高兩個標準差）有 99% 的機會答對最簡單的題目，78% 的機會答對最難的問題。另一個極端，比平均高低兩標準差只有 24% 的機會答對最簡單的問題。"
   ]
  }
 ],
 "metadata": {
  "kernelspec": {
   "display_name": "Python 3",
   "language": "python",
   "name": "python3"
  },
  "language_info": {
   "codemirror_mode": {
    "name": "ipython",
    "version": 3
   },
   "file_extension": ".py",
   "mimetype": "text/x-python",
   "name": "python",
   "nbconvert_exporter": "python",
   "pygments_lexer": "ipython3",
   "version": "3.6.6"
  }
 },
 "nbformat": 4,
 "nbformat_minor": 2
}
