{
 "cells": [
  {
   "cell_type": "markdown",
   "metadata": {},
   "source": [
    "# 章節 13：模擬\n",
    "\n",
    "## 13.2 一個簡單模型\n",
    "\n",
    "再嘗試有挑戰的模型之前，從一個簡單的模型開始通常是個好主意。有時候簡單的模型就能夠滿足現在的問題，如果不行你可以用簡單的模型驗證複雜的模型。\n",
    "\n",
    "這邊的簡單模型，作者假設腫瘤 2 倍成長的時間是固定的，而且它是三維的，如果最大線性2倍的話，體積要乘以 8 。\n",
    "\n",
    "我從留訊者得知從他軍隊出院到他診斷的時間相隔 3291 天（大約 9 年）。所以我的第一個計算是「如果這個腫瘤是中位數的成長率，在他從軍隊出院的那天已經有多大了？」由 Zhang 提供的報告顯示，中位數的體積翻倍率是 811 天。\n",
    "\n",
    "如果是三維幾何，線性測量的倍增時間是體積的 3 倍。"
   ]
  },
  {
   "cell_type": "code",
   "execution_count": 17,
   "metadata": {},
   "outputs": [
    {
     "name": "stdout",
     "output_type": "stream",
     "text": [
      "估計出院時腫瘤的直徑大小： 6.069363645997591 cm\n"
     ]
    }
   ],
   "source": [
    "# 軍隊出院跟診斷之間的時間（天）\n",
    "interval = 3291.0\n",
    "# 線性翻倍時間是體積翻倍時間的 3 倍\n",
    "# 因為在體積變成 8 倍之後，再量測到的的直徑才會是之前的 2 倍\n",
    "dt = 811.0 * 3\n",
    "# 從出院之後發生翻倍的次數\n",
    "doublings = interval / dt\n",
    "\n",
    "# 診斷觀察到的直徑\n",
    "d1 = 15.5\n",
    "\n",
    "# 計算軍隊出院當時的直徑大小（公分）\n",
    "d0 = d1 / 2.0 ** doublings\n",
    "print(\"估計出院時腫瘤的直徑大小：\", d0, \"cm\")"
   ]
  },
  {
   "cell_type": "markdown",
   "metadata": {},
   "source": [
    "你可以在此下載作者個程式碼：http://thinkbayes.com/kidney.py\n",
    "\n",
    "結果 d0 大約 6 公分。所以如果腫瘤是在軍隊出院之後才形成的，它的生長速度必定大幅快過中位數速率。因此作者認為比較可能是在「出院之前」就形成。\n",
    "\n",
    "除此之外，這邊還計算如果腫瘤是在軍隊出院之後才形成，它的生長速率。假設一開始的直徑是 0.1 公分，我們計算經過多少次的翻倍到達直徑 15.5 公分。"
   ]
  },
  {
   "cell_type": "code",
   "execution_count": 28,
   "metadata": {},
   "outputs": [
    {
     "name": "stdout",
     "output_type": "stream",
     "text": [
      "150.7670758357043\n",
      "RDT: 2.420952969849678\n"
     ]
    }
   ],
   "source": [
    "import math\n",
    "\n",
    "d0 = 0.1\n",
    "d1 = 15.5\n",
    "# 直徑翻倍的次數\n",
    "doubling = math.log(d1/d0, 2)\n",
    "\n",
    "# 軍隊出院跟診斷之間的時間（天）\n",
    "interval = 3291.0 \n",
    "\n",
    "# 直徑翻倍的時間（天）\n",
    "dt = interval / doubling\n",
    "\n",
    "# 體積翻倍的時間（天）\n",
    "vdt = dt/3\n",
    "\n",
    "# RDT 每年體積翻倍率\n",
    "rdt = 365/vdt\n",
    "\n",
    "print(\"RDT:\", rdt)"
   ]
  },
  {
   "cell_type": "markdown",
   "metadata": {},
   "source": [
    "線性測量的翻倍率是  7.3，RDT 就是 2.4。在 Zhang 等人的報告中，只有 20% 的腫瘤在觀察期間快速增長。\n",
    "\n",
    "因此再一次，作者認為比較可能是在「出院之前」就形成。\n",
    "\n",
    "以上的計算就足夠回答發文的問題，並且作者寫信給退伍軍人福利管理局，告訴他們他的結論。後來作者跟他一位腫瘤科的朋友說到此結論。他對 Zhang 等人觀察到的生長率及其對這些腫瘤年齡的暗示感到驚訝。他建議此結果可能會讓醫生跟研究者感興趣。\n",
    "\n",
    "但為了讓這更有用，作者希望設計一個更普遍的模型來描述年齡跟大小之間的關係。"
   ]
  }
 ],
 "metadata": {
  "kernelspec": {
   "display_name": "Python 3",
   "language": "python",
   "name": "python3"
  },
  "language_info": {
   "codemirror_mode": {
    "name": "ipython",
    "version": 3
   },
   "file_extension": ".py",
   "mimetype": "text/x-python",
   "name": "python",
   "nbconvert_exporter": "python",
   "pygments_lexer": "ipython3",
   "version": "3.6.6"
  }
 },
 "nbformat": 4,
 "nbformat_minor": 2
}
