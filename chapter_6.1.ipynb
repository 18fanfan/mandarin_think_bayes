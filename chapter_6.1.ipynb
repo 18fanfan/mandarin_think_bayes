{
 "cells": [
  {
   "cell_type": "markdown",
   "metadata": {},
   "source": [
    "## 章節 6：決策分析（Dicision Analysis）\n",
    "\n",
    "### 6.1 猜價格問題\n",
    "\n",
    "2007年11月1日，參賽者 Letia 和 Nathaniel 參加一個美國遊戲電視節目 The Price is Right。他們是遊戲項目 The Showcase 的競爭對手，這遊戲的目的是要猜展示品的價格。參賽者猜到較接近且沒有超過實際價格的人獲勝。\n",
    "\n",
    "Nathaniel 先猜。他的展示品包含洗碗機、酒櫃、筆記型電腦和汽車。他猜 26000 美元。\n",
    "\n",
    "Letia 的展示品包含打彈珠機、街機機台、撞球桌和 Bahamas 郵輪行。她猜 21500 美元。\n",
    "\n",
    "Nathaniel 展示品的真實價格為 25347 美元。他猜太高了，所以他輸了。\n",
    "\n",
    "Letia 展示品的真實價格是 21578 美元。她只差 78 美元，所以她贏得了展示品，又因為她的價差少於 250 美元，她也獲得了 Nathaniel 的展示品。\n",
    "\n",
    "對於一個貝葉斯派的思考者，這個情境下建議思考一些問題：\n",
    "\n",
    "1. 在看到展示品之前，猜賽者對於對於展品的價格有什麼先驗的信念嗎？（產生先驗分佈）\n",
    "2. 在看到展示品之後，猜賽者應該怎麼更新他的信念？（產生後驗分佈）\n",
    "3. 基於後驗分佈猜賽者要怎麼出價？（用後驗分佈做決策）\n",
    "\n",
    "第三個問題說明了貝葉斯分析的常見用法：決策分析。給定一個後驗分佈，我們選擇一個讓參賽者最大化預期回報的出價。\n",
    "\n",
    "這個問題是啟發自 Cameron Davidson-Pilon 的書 《 Bayesian Methods for Hackers 》。\n",
    "\n",
    "你可以在這裡下載作者的程式碼：http://thinkbayes.com/price.py\n",
    "\n",
    "此章節會用到的資料集：\n",
    "\n",
    "- [showcases.2011.csv](./showcases.2011.csv)\n",
    "- [showcases.2012.csv](./showcases.2012.csv)"
   ]
  }
 ],
 "metadata": {
  "kernelspec": {
   "display_name": "Python 3",
   "language": "python",
   "name": "python3"
  },
  "language_info": {
   "codemirror_mode": {
    "name": "ipython",
    "version": 3
   },
   "file_extension": ".py",
   "mimetype": "text/x-python",
   "name": "python",
   "nbconvert_exporter": "python",
   "pygments_lexer": "ipython3",
   "version": "3.6.6"
  }
 },
 "nbformat": 4,
 "nbformat_minor": 2
}
