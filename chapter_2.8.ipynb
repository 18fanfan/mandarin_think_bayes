{
 "cells": [
  {
   "cell_type": "markdown",
   "metadata": {},
   "source": [
    "## 章節 2：計算統計學 (Computational Statistics)\n",
    "\n",
    "### 2.8 習題\n",
    "\n",
    "習題 2.1\n",
    "\n",
    "小節 2.3 中的餅乾問題，作者將程式改成彈性處理抽取多個餅乾並且放回的情況（with replacement）。\n",
    "\n",
    "但是更真實的情境是我們抽出餅乾後就吃掉了，所以 Likelihood 方法會受到之前抽出的餅乾所影響（without replacement）。\n",
    "\n",
    "所以請修改之前的程式碼來處理抽出餅乾吃掉的情況。\n",
    "\n",
    "提示：\n",
    "\n",
    "在 Cookie 類別中加入一個實例變數（instance variable）代表每個假設目前碗的狀態，並且相對應的修改 Likelihood 方法。\n",
    "\n",
    "你可能需要定義一個 Bowl 物件。\n",
    "\n",
    "**以下是我個人的想法，非作者撰寫，歡迎討論。**"
   ]
  },
  {
   "cell_type": "code",
   "execution_count": 22,
   "metadata": {},
   "outputs": [
    {
     "name": "stdout",
     "output_type": "stream",
     "text": [
      "初始分佈 {'Bowl1': 0.5, 'Bowl2': 0.5}\n",
      "抽到 vanilla 後分佈 {'Bowl1': 0.6, 'Bowl2': 0.4}\n",
      "因吃掉餅乾，更新碗內狀態:  Bowl2 少一個 vanilla\n",
      "Bowl2 {'vanilla': 19, 'chocolate': 20}\n",
      "\n",
      "抽到 chocolate 後分佈 {'Bowl1': 0.42857142857142855, 'Bowl2': 0.5714285714285714}\n",
      "因吃掉餅乾，更新碗內狀態:  Bowl1 少一個 chocolate\n",
      "Bowl1 {'vanilla': 30, 'chocolate': 9}\n",
      "\n",
      "抽到 vanilla 後分佈 {'Bowl1': 0.5421686746987951, 'Bowl2': 0.4578313253012048}\n",
      "因吃掉餅乾，更新碗內狀態:  Bowl2 少一個 vanilla\n",
      "Bowl2 {'vanilla': 18, 'chocolate': 20}\n",
      "\n",
      "抽到 chocolate 後分佈 {'Bowl1': 0.34763948497854075, 'Bowl2': 0.6523605150214593}\n",
      "因吃掉餅乾，更新碗內狀態:  Bowl2 少一個 chocolate\n",
      "Bowl2 {'vanilla': 18, 'chocolate': 19}\n",
      "\n"
     ]
    }
   ],
   "source": [
    "# 假設有兩碗餅乾。\n",
    "# 第一碗有 30 個香草餅乾和 10 個巧克力餅乾。\n",
    "# 第二碗有 20 個香草餅乾和 20 個巧克力餅乾。\n",
    "\n",
    "from thinkbayes import Suite, Pmf\n",
    "\n",
    "class Bowl(Pmf):\n",
    "    \n",
    "    def __init__(self, vanilla, chocolate):\n",
    "        super().__init__()\n",
    "        self.Set('vanilla', vanilla)\n",
    "        self.Set('chocolate', chocolate)\n",
    "            \n",
    "\n",
    "class Cookie(Suite):\n",
    "    \n",
    "    def __init__(self):\n",
    "        super().__init__([\"Bowl1\", \"Bowl2\"])\n",
    "        bowl_1 = Bowl(30, 10)\n",
    "        bowl_2 = Bowl(20, 20)\n",
    "        self.hypos = dict(\n",
    "            Bowl1=bowl_1,\n",
    "            Bowl2=bowl_2,\n",
    "        )\n",
    "        \n",
    "    \n",
    "    def Likelihood(self, data, hypo):\n",
    "        pmf = self.hypos[hypo]\n",
    "        return pmf.Prob(data) # 因為在 Update 方法內會做正規化，所以直接返回剩下的餅乾個數\n",
    "\n",
    "    \n",
    "    def Desc(self, bowl, cookie_type):\n",
    "        pmf = self.hypos[bowl]\n",
    "        pmf.Incr(cookie_type, -1)\n",
    "        print(bowl, pmf.GetDict())\n",
    "        \n",
    "    \n",
    "    \n",
    "suite = Cookie()\n",
    "# 模擬抽取多個餅乾的情況，並且得知真正抽取出來的碗\n",
    "dataset = [(\"Bowl2\", \"vanilla\"), (\"Bowl1\", \"chocolate\"), (\"Bowl2\", \"vanilla\"), (\"Bowl2\", \"chocolate\")] \n",
    "print('初始分佈', suite.GetDict())\n",
    "for bowl, cookie in dataset:\n",
    "    suite.Update(cookie)\n",
    "    print('抽到', cookie,'後分佈', suite.GetDict()) \n",
    "    print(\"因吃掉餅乾，更新碗內狀態: \", bowl, \"少一個\", cookie)\n",
    "    suite.Desc(bowl, cookie)\n",
    "    print()\n",
    "    "
   ]
  }
 ],
 "metadata": {
  "kernelspec": {
   "display_name": "Python 3",
   "language": "python",
   "name": "python3"
  },
  "language_info": {
   "codemirror_mode": {
    "name": "ipython",
    "version": 3
   },
   "file_extension": ".py",
   "mimetype": "text/x-python",
   "name": "python",
   "nbconvert_exporter": "python",
   "pygments_lexer": "ipython3",
   "version": "3.6.6"
  }
 },
 "nbformat": 4,
 "nbformat_minor": 2
}
