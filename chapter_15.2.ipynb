{
 "cells": [
  {
   "cell_type": "markdown",
   "metadata": {},
   "source": [
    "# 章節 15：維度處理\n",
    "\n",
    "## 15.1 獅子、老虎和熊\n",
    "\n",
    "先從簡單的問題開始，假設只有三種物種。分別是獅子、老虎和熊。假設我們參訪一個野生動物保護區看到 3 隻獅子、2 隻老虎和 1 隻熊。如果我們在此保護區看到任何動物的機率都一樣，我們看到的每個物種的數量由多項式分佈（Multinomal distribution）決定。如果獅子、老虎和熊的流行程度是 p_lion、p_tiger 和 p_bear，則看到 3 隻獅子、2 隻老虎和 1 隻熊的似然性（likelihood）與以下成正比\n",
    "\n",
    "$$ p\\_lion^3 * p\\_tiger^2 * p\\_bear^1$$\n",
    "\n",
    "有一種接近但是不正確的方式是用 Beta 分佈，如 4.5 小節用在硬幣問題，去分別描述每個物種的流行程度。例如，我們看到 3 隻獅子和 3 隻非獅子；也就是想成 3 次正面硬幣跟 3 次反面硬幣，而 p_lion 的後驗分佈是："
   ]
  },
  {
   "cell_type": "code",
   "execution_count": 16,
   "metadata": {},
   "outputs": [
    {
     "name": "stdout",
     "output_type": "stream",
     "text": [
      "獅子 MLE: 50.0 %\n",
      "老虎 MLE: 33.0 %\n",
      "熊 MLE: 17.0 %\n"
     ]
    }
   ],
   "source": [
    "import thinkbayes as tb\n",
    "\n",
    "def beta_mle(positive, negative, title):\n",
    "    beta = tb.Beta()\n",
    "    beta.Update((positive, negative))\n",
    "    pmf = beta.MakePmf()\n",
    "    print(title, \"MLE:\", pmf.MaximumLikelihood()*100, \"%\")\n",
    "    \n",
    "beta_mle(3, 3, \"獅子\")\n",
    "beta_mle(2, 4, \"老虎\")\n",
    "beta_mle(1, 5, \"熊\")"
   ]
  },
  {
   "cell_type": "markdown",
   "metadata": {},
   "source": [
    "p_lion, p_tiger 和 p_bear 的最大似然估計分別是 50%、33% 跟 17%。"
   ]
  },
  {
   "cell_type": "markdown",
   "metadata": {},
   "source": [
    "The maximum likelihood estimate for p_lion is the observed rate, 50%. Similarly the MLEs for p_tiger and p_bear are 33% and 17%.\n",
    "But there are two problems:\n",
    "1. We have implicitly used a prior for each species that is uniform from 0 to 1, but since we know that there are three species, that prior is not correct. The right prior should have a mean of 1/3, and there should be zero likelihood that any species has a prevalence of 100%.\n",
    "2. The distributions for each species are not independent, because the prevalences have to add up to 1. To capture this dependence, we need a joint distribution for the three prevalences.\n",
    "We can use a Dirichlet distribution to solve both of these problems (see http://en.wikipedia.org/wiki/Dirichlet_distribution). In the same way we used the beta distribution to describe the distribution of bias for a coin, we can use a Dirichlet distribution to describe the joint distribution of p_lion, p_tiger and p_bear.\n",
    "The Dirichlet distribution is the multi-dimensional generalization of the beta distribution. Instead of two possible outcomes, like heads and tails,\n",
    "\n",
    "the Dirichlet distribution handles any number of outcomes: in this exam- ple, three species.\n",
    "If there are n outcomes, the Dirichlet distribution is described by n parame- ters, written α1 through αn.\n",
    "\n",
    "\n",
    "Here’s the definition, from thinkbayes.py, of a class that represents a Dirichlet distribution:\n",
    "class Dirichlet(object):\n",
    "    def __init__(self, n):\n",
    "        self.n = n\n",
    "        self.params = numpy.ones(n, dtype=numpy.int)\n",
    "n is the number of dimensions; initially the parameters are all 1. I use a numpy array to store the parameters so I can take advantage of array opera- tions.\n",
    "Given a Dirichlet distribution, the marginal distribution for each prevalence is a beta distribution, which we can compute like this:\n",
    "    def MarginalBeta(self, i):\n",
    "        alpha0 = self.params.sum()\n",
    "        alpha = self.params[i]\n",
    "        return Beta(alpha, alpha0-alpha)\n",
    "i is the index of the marginal distribution we want. alpha0 is the sum of the parameters; alpha is the parameter for the given species.\n",
    "In the example, the prior marginal distribution for each species is Beta(1, 2). We can compute the prior means like this:\n",
    "    dirichlet = thinkbayes.Dirichlet(3)\n",
    "    for i in range(3):\n",
    "        beta = dirichlet.MarginalBeta(i)\n",
    "        print beta.Mean()\n",
    "As expected, the prior mean prevalence for each species is 1/3.\n",
    "To update the Dirichlet distribution, we add the observations to the param- eters like this:\n",
    "    def Update(self, data):\n",
    "        m = len(data)\n",
    "        self.params[:m] += data\n",
    "Here data is a sequence of counts in the same order as params, so in this example, it should be the number of lions, tigers and bears.\n",
    "170 Chapter15. DealingwithDimensions\n",
    "  0.035 0.030 0.025 0.020 0.015 0.010 0.005\n",
    "0.000\n",
    "0.0 0.2\n",
    "0.4 0.6 0.8 1.0 Prevalence\n",
    "    \n",
    "lions tigers bears\n",
    "                \n",
    "    \n",
    "Figure 15.1: Distribution of prevalences for three species.\n",
    "data can be shorter than params; in that case there are some species that have not been observed.\n",
    "Here’s code that updates dirichlet with the observed data and computes the posterior marginal distributions.\n",
    "    data = [3, 2, 1]\n",
    "    dirichlet.Update(data)\n",
    "    for i in range(3):\n",
    "        beta = dirichlet.MarginalBeta(i)\n",
    "        pmf = beta.MakePmf()\n",
    "        print i, pmf.Mean()\n",
    "Figure 15.1 shows the results. The posterior mean prevalences are 44%, 33%, and 22%.\n"
   ]
  }
 ],
 "metadata": {
  "kernelspec": {
   "display_name": "Python 3",
   "language": "python",
   "name": "python3"
  },
  "language_info": {
   "codemirror_mode": {
    "name": "ipython",
    "version": 3
   },
   "file_extension": ".py",
   "mimetype": "text/x-python",
   "name": "python",
   "nbconvert_exporter": "python",
   "pygments_lexer": "ipython3",
   "version": "3.6.6"
  }
 },
 "nbformat": 4,
 "nbformat_minor": 2
}
