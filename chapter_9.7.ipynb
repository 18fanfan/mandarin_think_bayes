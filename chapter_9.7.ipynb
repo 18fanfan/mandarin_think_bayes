{
 "cells": [
  {
   "cell_type": "markdown",
   "metadata": {},
   "source": [
    "# 章節 9：二維空間\n",
    "\n",
    "## 9.7 可靠區間（Credible Interval）\n",
    "\n",
    "另一個視覺化後驗聯合分佈是計算可靠區間。當我們在 3.5 小節看到的可靠區間，作者有跳過一個微小的觀點：對於一個分佈存在很多相同的可靠區間。例如你要一個 50% 的可靠區間，你可以選取任何一組數值（可能不連續）它們的機率和為 50%。\n",
    "\n",
    "當數值是一個維度，通常適用中央可靠區間；例如中央 50% 的可靠區間包含所有在第 25 分位和第 75 分位的數值。再多維空間的正確的可靠區間是不明顯的。最好是根據情境來選擇，但通常是用最大似然可靠區間（maximum likelihood credible interval），也就是包含最有可能發生的數值加總到 50%（或是其他的百分比）。\n",
    "\n",
    "thinkbayes.Joint 提供了一個方法計算最大似然可靠區間：\n",
    "\n",
    "<pre>\n",
    "# class Joint:\n",
    "\n",
    "def MaxLikeInterval(self, percentage=90):\n",
    "    interval = []\n",
    "    total = 0\n",
    "    \n",
    "    # 列出所有 pmf 中的數值\n",
    "    t = [(prob, val) for val, prob in self.Items()]\n",
    "    \n",
    "    # 根據機率由大排到小\n",
    "    t.sort(reverse=True)\n",
    "    \n",
    "    # 迭代所有的數值\n",
    "    for prob, val in t:\n",
    "        interval.append(val)\n",
    "        total += prob\n",
    "        \n",
    "        # 如果超過指定的百分比就跳出迴圈\n",
    "        if total >= percentage/100.0:\n",
    "            break\n",
    "     \n",
    "    # 回傳一序列的 pmf 中的數值\n",
    "    # 請注意數值不一定是連續的\n",
    "    return interval\n",
    "</pre>\n",
    "\n",
    "為了視覺化區間，這邊寫了一個 MakeCrediblePlot 方法畫出 alpha, beta 不同的可靠區間重疊的情況（先將 9.6 小節的程式碼放到下格）："
   ]
  },
  {
   "cell_type": "code",
   "execution_count": 45,
   "metadata": {},
   "outputs": [
    {
     "name": "stdout",
     "output_type": "stream",
     "text": [
      "\n"
     ]
    }
   ],
   "source": [
    "import thinkbayes as tb\n",
    "import math\n",
    "import matplotlib.pyplot as plt\n",
    "import numpy as np\n",
    "\n",
    "\n",
    "def plot_dist(dist, c=None):\n",
    "    x, y = zip(*sorted(dist.Items()))\n",
    "    plt.plot(x, y, c=c)\n",
    "\n",
    "    \n",
    "# Paintball 繼承自 Suite 以及 Joint\n",
    "class Paintball(tb.Suite, tb.Joint):\n",
    "    \n",
    "    def __init__(self, alphas, betas, locations):\n",
    "        # alphas：一序列的 alpha 值\n",
    "        # betas：一序列的 beta 值\n",
    "        \n",
    "        # 所有可能漆彈的位置；為了之後 Likelihood 方法使用\n",
    "        self.locations = locations\n",
    "        \n",
    "        # pairs：所有 alpha, beta 的配對\n",
    "        pairs = [(alpha, beta)\n",
    "            for alpha in alphas\n",
    "            for beta in betas\n",
    "        ]\n",
    "        \n",
    "        tb.Suite.__init__(self, pairs)\n",
    "    \n",
    "    \n",
    "    def Likelihood(self, data, hypo):\n",
    "        # alpha, beta：假設敵人的位置\n",
    "        alpha, beta = hypo\n",
    "\n",
    "        # x：觀察到的牆面漆彈位置\n",
    "        x = data\n",
    "        pmf = MakeLocationPmf(alpha, beta, self.locations)\n",
    "\n",
    "        # 從建立好的 pmf 得到漆彈位置的似然性\n",
    "        like = pmf.Prob(x)\n",
    "        return like\n",
    "        \n",
    "\n",
    "# 計算每個位置被漆彈打到的機率，跟掃射速度成反比\n",
    "def MakeLocationPmf(alpha, beta, locations):\n",
    "    # alpha, beta：敵人的座標\n",
    "    # locations：一序列牆上漆彈的位置\n",
    "\n",
    "    pmf = tb.Pmf()\n",
    "    for x in locations:\n",
    "        prob = 1.0 / StrafingSpeed(alpha, beta, x)\n",
    "        pmf.Set(x, prob)\n",
    "        \n",
    "    pmf.Normalize()\n",
    "    # 回傳漆彈位置與其對應的機率\n",
    "    return pmf       \n",
    "\n",
    "\n",
    "def StrafingSpeed(alpha, beta, x):\n",
    "    # alpha, beta：敵人的座標\n",
    "    # x：牆上漆彈的位置\n",
    "    \n",
    "    \n",
    "    theta = math.atan2(x - alpha, beta)\n",
    "    speed = beta / math.cos(theta)**2\n",
    "    \n",
    "    # 回傳 x 對 theta 的微分\n",
    "    return speed\n",
    "\n",
    "alphas = range(0, 31)\n",
    "betas = range(1, 51)\n",
    "locations = range(0, 31)\n",
    "suite = Paintball(alphas, betas, locations)\n",
    "\n",
    "# 根據牆上漆彈位置更新先驗分佈\n",
    "suite.UpdateSet([15, 16, 18, 21])\n",
    "print()"
   ]
  },
  {
   "cell_type": "code",
   "execution_count": 48,
   "metadata": {},
   "outputs": [
    {
     "data": {
      "image/png": "[encoded data removed]",
      "text/plain": [
       "<Figure size 432x288 with 1 Axes>"
      ]
     },
     "metadata": {
      "needs_background": "light"
     },
     "output_type": "display_data"
    }
   ],
   "source": [
    "import numpy as np\n",
    "\n",
    "def MakeCrediblePlot(suite):\n",
    "    \n",
    "    # d 是一個 dictionary 紀錄有多少的 alpha, beta 配對\n",
    "    d = dict((pair, 0) for pair in suite.Values())\n",
    "    percentages = [75, 50, 25]\n",
    "    \n",
    "    \n",
    "    for p in percentages:\n",
    "        interval = suite.MaxLikeInterval(p)\n",
    "    \n",
    "        # 將落在此區間的 alpha, beta 配對加總\n",
    "        for pair in interval:\n",
    "            d[pair] += 1\n",
    "            \n",
    "    return d\n",
    "\n",
    "\n",
    "d = MakeCrediblePlot(suite)\n",
    "alphas, betas = zip(*d.keys())\n",
    "ci_map = np.zeros((max(betas)+1, max(alphas)+1))\n",
    "\n",
    "for (alpha, beta), v in d.items():\n",
    "    ci_map[beta, alpha] += v\n",
    "\n",
    "plt.pcolor(ci_map, cmap='Blues')\n",
    "plt.xlabel(\"alpha\")\n",
    "plt.ylabel(\"beta\")\n",
    "plt.text(17, 3, \"25%\", color=\"w\")\n",
    "plt.text(17, 13, \"50%\", color=\"w\")\n",
    "plt.text(17, 27, \"75%\", color=\"w\")\n",
    "plt.show()"
   ]
  },
  {
   "cell_type": "markdown",
   "metadata": {},
   "source": [
    "（為了忠於作者的表達，MakeCrediblePlot 方法直接來自原作者的實作，後續的作圖才是由譯者撰寫）\n",
    "\n",
    "上圖是可靠區間重疊的情況。敵人位置的 25% 可靠區間是最深的區域，靠近下方牆面。越高的百分比，當然可靠區間越大，並偏向體育館右方。\n",
    "\n",
    "![場地示意圖](paintball.png)"
   ]
  }
 ],
 "metadata": {
  "kernelspec": {
   "display_name": "Python 3",
   "language": "python",
   "name": "python3"
  },
  "language_info": {
   "codemirror_mode": {
    "name": "ipython",
    "version": 3
   },
   "file_extension": ".py",
   "mimetype": "text/x-python",
   "name": "python",
   "nbconvert_exporter": "python",
   "pygments_lexer": "ipython3",
   "version": "3.6.6"
  }
 },
 "nbformat": 4,
 "nbformat_minor": 2
}
