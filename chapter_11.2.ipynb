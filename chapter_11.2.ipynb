{
 "cells": [
  {
   "cell_type": "markdown",
   "metadata": {},
   "source": [
    "# 章節 11：假設檢定（Hypothesis Testing）\n",
    "\n",
    "## 11.2 公平的比較\n",
    "\n",
    "為了要做到公平的比較，我們要在不看資料的情況下定義假設 B 。所以我們嘗試不同的定義。\n",
    "\n",
    "如果你檢查歐元硬幣，你可能注意到「正面」比「背面」更為凸出。你可能認為這個形狀會影響 x （出現正面的機率），但又不確定會出現比較多或比較少正面。\n",
    "\n",
    "所以你可能說「我認為硬幣是有偏差的，所以 x 可能是 0.6 或 0.4，但我不確定是哪種」。這個版本的假設稱作 b_two，其中包含兩個子假設。我們對每個子假設計算其似然性，然後平均。"
   ]
  },
  {
   "cell_type": "code",
   "execution_count": 6,
   "metadata": {},
   "outputs": [
    {
     "name": "stdout",
     "output_type": "stream",
     "text": [
      "b_two 與硬幣公平假設 f 的比率： 1.3312060570100888\n"
     ]
    }
   ],
   "source": [
    "def Likelihood(data, hypo):\n",
    "    x = hypo / 100.0\n",
    "    heads, tails = data\n",
    "    like = x**heads * (1-x)**tails\n",
    "    return like\n",
    "\n",
    "# 正面 140 次，反面 110 次\n",
    "data = (140, 110)\n",
    "\n",
    "like40 = Likelihood(data, 40)\n",
    "like60 = Likelihood(data, 60)\n",
    "\n",
    "b_two_likelihood = 0.5 * like40 + 0.5 * like60\n",
    "f = Likelihood(data, 50)\n",
    "\n",
    "print(\"b_two 與硬幣公平假設 f 的比率：\", b_two_likelihood/f)"
   ]
  },
  {
   "cell_type": "markdown",
   "metadata": {},
   "source": [
    "b_two 的似然性比（貝葉斯因子）為 1.3，這表示資料很微弱的支持假設 b_two。\n",
    "\n",
    "更普遍的來說，假設你懷疑硬幣是偏差的，但你沒有 x 的線索。\n",
    "\n",
    "你可以建立一個 Suite 物件稱作 b_uniform 來代表從 0 到 100 的子假設。然後移除 x=50% 的假設(假設硬幣公平)，雖然移除對於結果幾乎沒有影響。"
   ]
  },
  {
   "cell_type": "code",
   "execution_count": 33,
   "metadata": {},
   "outputs": [
    {
     "name": "stdout",
     "output_type": "stream",
     "text": [
      "b_uniform 與硬幣公平的比率： 0.4667233591607601\n"
     ]
    }
   ],
   "source": [
    "import thinkbayes as  tb\n",
    "\n",
    "class Euro(tb.Suite):\n",
    "    \n",
    "    def Likelihood(self, data, hypo):\n",
    "        x = hypo / 100.0\n",
    "        heads, tails = data\n",
    "        like = x**heads * (1-x)**tails\n",
    "        return like\n",
    "\n",
    "\n",
    "def SuiteLikelihood(suite, data):\n",
    "    total = 0\n",
    "    for hypo, prob in suite.Items():\n",
    "        like = suite.Likelihood(data, hypo)\n",
    "        \n",
    "        # 計算 b_uniform 的平均似然性\n",
    "        total += prob * like\n",
    "    return total\n",
    "\n",
    "b_uniform = Euro(range(0, 101))\n",
    "b_uniform.Remove(50)\n",
    "b_uniform.Normalize()\n",
    "\n",
    "data = (140, 110)\n",
    "print(\"b_uniform 與硬幣公平的比率：\", SuiteLikelihood(b_uniform, data)/f)"
   ]
  },
  {
   "cell_type": "markdown",
   "metadata": {},
   "source": [
    "b_uniform 的然性比率約為 0.47，表示資料微弱的反對 b_uniform 假設，相對於 F 假設。\n",
    "\n",
    "SuiteLikelihood 方法其實很類似 Update 方法：\n",
    "\n",
    "<pre>\n",
    "def Update(self, data):\n",
    "    for hypo in self.Values():\n",
    "        like = self.Likelihood(data, hypo)\n",
    "        self.Mult(hypo, like)\n",
    "        \n",
    "    return self.Normalize()\n",
    "\n",
    "\n",
    "def Normalize(self):\n",
    "    total = self.Total()\n",
    "    factor = 1.0 / total\n",
    "\n",
    "    for x in self.d:\n",
    "        self.d[x] *= factor\n",
    "        \n",
    "    return total\n",
    "</pre>\n",
    "\n",
    "Normalize 方法的回傳值就是 Suite 的機率總和，也就是每個子假設的似然性的平均值，權重就是每個先驗的機率。然後 Update 方法會回傳總結果，所以我們可以改用下面方式求 b_uniform 的似然性。最後比率的結果是一樣的。"
   ]
  },
  {
   "cell_type": "code",
   "execution_count": 34,
   "metadata": {},
   "outputs": [
    {
     "name": "stdout",
     "output_type": "stream",
     "text": [
      "b_uniform 與硬幣公平的比率： 0.4667233591607601\n"
     ]
    }
   ],
   "source": [
    "b_uniform_likelihood = b_uniform.Update(data)\n",
    "print(\"b_uniform 與硬幣公平的比率：\", b_uniform_likelihood/f)"
   ]
  }
 ],
 "metadata": {
  "kernelspec": {
   "display_name": "Python 3",
   "language": "python",
   "name": "python3"
  },
  "language_info": {
   "codemirror_mode": {
    "name": "ipython",
    "version": 3
   },
   "file_extension": ".py",
   "mimetype": "text/x-python",
   "name": "python",
   "nbconvert_exporter": "python",
   "pygments_lexer": "ipython3",
   "version": "3.6.6"
  }
 },
 "nbformat": 4,
 "nbformat_minor": 2
}
