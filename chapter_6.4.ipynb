{
 "cells": [
  {
   "cell_type": "markdown",
   "metadata": {},
   "source": [
    "## 章節 6：決策分析（Dicision Analysis）\n",
    "\n",
    "### 6.4 PDF 的表示法\n",
    "\n",
    "用 Python 表示 PDF，thinkbayes.py 提供 Pdf 類別。Pdf 是一個**抽象類別**，它提供一個 Pdf 的介面，定義了應該要實作的方法。Pdf 介面提供兩個方法，Density 和 MakePmf：\n",
    "\n",
    "<pre>\n",
    "class Pdf(object):\n",
    "\n",
    "    def Density(self, x): #  計算 x 其對應的密度\n",
    "        raise UnimplementedMethodException()\n",
    "\n",
    "    def MakePmf(self, xs): # 產生一個 PDF 離散近似的 PMF\n",
    "        pmf = Pmf()\n",
    "        for x in xs:\n",
    "            pmf.Set(x, self.Density(x))\n",
    "\n",
    "        pmf.Normalize()\n",
    "        return pmf\n",
    "</pre>\n",
    "\n",
    "具體型態（concrete type）是一個擴展抽像類型的子類別，並且實作缺少的方法。例如，GaussianPdf 繼承 Pdf 並且實作 Density 方法：\n",
    "\n",
    "<pre>\n",
    "class GaussianPdf(Pdf):\n",
    "\n",
    "    def __init__(self, mu, sigma):\n",
    "        self.mu = mu # 紀錄平均值\n",
    "        self.sigma = sigma # 紀錄標準差\n",
    "        \n",
    "    def Density(self, x):\n",
    "        return scipy.stats.norm.pdf(x, self.mu, self,sigma)\n",
    "</pre>\n",
    "\n",
    "高斯密度函數是用簡單的數學定義，所以容易計算 x 的密度。並且它很有用，因為有很多真實世界的數值的分佈近似於高斯分佈。\n",
    "\n",
    "但真實世界的資料並不保證服從高斯分佈或是其他簡單的數學函數。在這種情況下，我們用樣本來估計全體的 PDF。\n",
    "\n",
    "例如 The Price is Right 資料集，展示品 1 有 313 個價格。我們可以想像這些數值是取樣自某個母體的結果。這些取樣包含以下價格（按順序排列）\n",
    "\n",
    "$$ 28800, 28868, 28941, 28957, 28958 $$\n",
    "\n",
    "上方樣本中，沒有出現 28801 和 28867，但應該沒有什麼理由認為這兩種價格不會出現。在這樣的背景下，我們期望此數值範圍的所有數值都具有相同的可能性。換句話說，我們希望 PDF 是平滑的，連續的。\n",
    "\n",
    "核密度估計（KDE）是一個演算法，它根據樣本來找出一個適當平滑的 PDF 函數。你可以參考：https://en.wikipedia.org/wiki/Kernel_density_estimation\n",
    "\n",
    "scipy 套件提供 KDE 的實作，而 thinkbayes.py 提供 EstimatedPdf 類別：\n",
    "\n",
    "<pre>\n",
    "class EstimatedPdf(Pdf):\n",
    "\n",
    "    def __init__(self, sample):\n",
    "        self.kde = scipy.stats.gaussian_kde(sample) # 產生 gaussian_kde 物件\n",
    "        \n",
    "    def Density(self, x):\n",
    "        return self.kde.evaluate(x) # 利用 gaussian_kde 物件的 evaluate 方法得到 x 的密度\n",
    "</pre>"
   ]
  },
  {
   "cell_type": "code",
   "execution_count": 32,
   "metadata": {},
   "outputs": [
    {
     "name": "stdout",
     "output_type": "stream",
     "text": [
      "展示品 1 價格總數 313 比\n",
      "展示品 2 價格總數 313 比\n"
     ]
    },
    {
     "data": {
      "image/png": "[encoded data removed]",
      "text/plain": [
       "<Figure size 432x288 with 1 Axes>"
      ]
     },
     "metadata": {
      "needs_background": "light"
     },
     "output_type": "display_data"
    }
   ],
   "source": [
    "from thinkbayes import EstimatedPdf\n",
    "import numpy as np\n",
    "import pandas as pd\n",
    "import matplotlib.pyplot as plt\n",
    "\n",
    "def plot_pmf(pmf):\n",
    "    x, y = zip(*sorted(pmf.Items()))\n",
    "    plt.plot(x, y)\n",
    "\n",
    "def simple_read_prices(file, showcase=1):\n",
    "    col_name = \"Showcase %d\" % showcase        \n",
    "    df = df = pd.read_csv(file, index_col=0).T\n",
    "    return df[col_name].astype(int).values\n",
    "\n",
    "\n",
    "def get_all_prices(showcase=1):\n",
    "    data = [\"showcases.2011.csv\", \"showcases.2012.csv\"]\n",
    "    return np.concatenate([simple_read_prices(file, showcase) for file in data])\n",
    "\n",
    "\n",
    "def plot_kde_prices(showcase=1):\n",
    "    prices = get_all_prices(showcase)\n",
    "    print(\"展示品\", showcase, \"價格總數\", prices.size, \"比\")\n",
    "    pdf = EstimatedPdf(prices)\n",
    "\n",
    "    low, high = 0, 75000\n",
    "    n = 101\n",
    "    xs = np.linspace(low, high, n)\n",
    "    pmf = pdf.MakePmf(xs)\n",
    "    plot_pmf(pmf)\n",
    "    \n",
    "plot_kde_prices(1)\n",
    "plot_kde_prices(2)"
   ]
  }
 ],
 "metadata": {
  "kernelspec": {
   "display_name": "Python 3",
   "language": "python",
   "name": "python3"
  },
  "language_info": {
   "codemirror_mode": {
    "name": "ipython",
    "version": 3
   },
   "file_extension": ".py",
   "mimetype": "text/x-python",
   "name": "python",
   "nbconvert_exporter": "python",
   "pygments_lexer": "ipython3",
   "version": "3.6.6"
  }
 },
 "nbformat": 4,
 "nbformat_minor": 2
}
