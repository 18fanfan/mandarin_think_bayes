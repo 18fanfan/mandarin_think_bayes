{
 "cells": [
  {
   "cell_type": "markdown",
   "metadata": {},
   "source": [
    "## 章節 3：估計 (Estimation)\n",
    "\n",
    "### 3.2 火車頭問題（The locomotive problem）\n",
    "\n",
    "作者在 Frederick Mosteller 的 Fifty Challenging Problems in Probability with Solutions (Dover, 1987) 書中看到火車頭問題。\n",
    "\n",
    "問題如下：\n",
    "\n",
    "> 鐵路上有數個火車頭按照順序標記數字從1到N。\n",
    "有一天你看到一個火車頭編號為60。\n",
    "請估計鐵路上有總共有多少火車頭？\n",
    "\n",
    "根據觀察，我們知道鐵路上有 60 輛火車頭或更多。但到底多多少呢？\n",
    "\n",
    "為了套用貝葉斯推理，我們可以將問題拆解成兩個步驟：\n",
    "\n",
    "1. 在看到資料前，我們對於 N 知道什麼？\n",
    "2. 對於任何的給定的 N，它看到資料的似然性是多少P(D|H)？(例如火車頭編號為60，)\n",
    "\n",
    "第一個問題的答案就是先驗分佈。第二個問題的答案就是似然性（Likelihood）函數。\n",
    "\n",
    "我們沒有太多基礎選擇先驗分佈，但我們可以從一個簡單的開始，之後再考慮**其他的先驗分佈**。\n",
    "\n",
    "我們假設N從1到1000的機率都是一樣的。所以先驗分佈是一個均勻分布（uniform distribution）。\n",
    "\n",
    "接下來我門需要似然性函數。假設在一個有N台火車頭的情況下，我們看到編號60的機率是多少？要是我們假設只有一家火車公司（我們也只關心某一家），並且我們看到每台火車頭的機率是一樣的，所以看到任一台火車頭的機率就是 1/N。請參考以下程式碼的 Likelihood 方法。"
   ]
  },
  {
   "cell_type": "code",
   "execution_count": 20,
   "metadata": {},
   "outputs": [
    {
     "name": "stdout",
     "output_type": "stream",
     "text": [
      "初始分佈\n"
     ]
    },
    {
     "data": {
      "image/png": "[encoded data removed]",
      "text/plain": [
       "<Figure size 432x288 with 1 Axes>"
      ]
     },
     "metadata": {
      "needs_background": "light"
     },
     "output_type": "display_data"
    },
    {
     "name": "stdout",
     "output_type": "stream",
     "text": [
      "看到編後60後的分佈\n"
     ]
    },
    {
     "data": {
      "image/png": "[encoded data removed]",
      "text/plain": [
       "<Figure size 432x288 with 1 Axes>"
      ]
     },
     "metadata": {
      "needs_background": "light"
     },
     "output_type": "display_data"
    }
   ],
   "source": [
    "import matplotlib.pyplot as plt\n",
    "from thinkbayes import Suite\n",
    "\n",
    "def plot(suite, desc):\n",
    "    print(desc)\n",
    "    x, y = zip(*sorted(suite.Items(), key=lambda x: x[0]))\n",
    "    fig, ax = plt.subplots()\n",
    "    ax.plot(x, y)\n",
    "    plt.show()\n",
    "\n",
    "class Train(Suite):\n",
    "    \n",
    "    def Likelihood(self, data, hypo): # 跟 3.1 一樣的 Likelihood 方法\n",
    "        if data > hypo:\n",
    "            return 0.0\n",
    "        \n",
    "        return 1.0/hypo\n",
    "\n",
    "hypos = range(1, 1001) # 我們假設N從1到1000的機率都是一樣的。\n",
    "suite = Train(hypos)\n",
    "plot(suite, \"初始分佈\")\n",
    "suite.Update(60)\n",
    "plot(suite, \"看到編後60後的分佈\")"
   ]
  },
  {
   "cell_type": "markdown",
   "metadata": {},
   "source": [
    "這裡的假設有太多個（1~1000），所以我用畫圖的方式呈現機率分佈。\n",
    "\n",
    "在看到編號 60 後，不意外的所有N小於60的機率都變成0。目前最有可能的N就是60。這似乎不是一個很好的猜測；畢竟你有多大的機會剛好看到最大的編號？\n",
    "\n",
    "然而，如果你想最大化猜到正確答案的機率，你應該就猜60。但這或許不是正確的目標。另一個目標是計算後驗分佈的平均(mean)值（或是期望值）。"
   ]
  },
  {
   "cell_type": "code",
   "execution_count": 24,
   "metadata": {},
   "outputs": [
    {
     "name": "stdout",
     "output_type": "stream",
     "text": [
      "平均（期望值）： 333.41989326371095\n"
     ]
    }
   ],
   "source": [
    "def mean(suite):\n",
    "    mean = 0\n",
    "    for hypo, prob in suite.Items():\n",
    "        mean += hypo*prob #\n",
    "        \n",
    "    return mean\n",
    "\n",
    "\n",
    "print(\"平均（期望值）：\", mean(suite))"
   ]
  },
  {
   "cell_type": "markdown",
   "metadata": {},
   "source": [
    "平均約為 333 台火車頭。如果你想最小化猜測的誤差，這是一個很好的猜測。\n",
    "\n",
    "如果你不斷的玩這個火車頭的猜測遊戲，用後驗分佈的平均值當作你的猜測結果將最小化長期的均方誤差（Mean Square Error）。\n",
    "\n",
    "你可以在此下載作者個程式碼：http://thinkbayes.com/train.py."
   ]
  }
 ],
 "metadata": {
  "kernelspec": {
   "display_name": "Python 3",
   "language": "python",
   "name": "python3"
  },
  "language_info": {
   "codemirror_mode": {
    "name": "ipython",
    "version": 3
   },
   "file_extension": ".py",
   "mimetype": "text/x-python",
   "name": "python",
   "nbconvert_exporter": "python",
   "pygments_lexer": "ipython3",
   "version": "3.6.6"
  }
 },
 "nbformat": 4,
 "nbformat_minor": 2
}
