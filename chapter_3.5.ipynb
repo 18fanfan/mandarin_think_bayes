{
 "cells": [
  {
   "cell_type": "markdown",
   "metadata": {},
   "source": [
    "## 章節 3：估計 (Estimation)\n",
    "\n",
    "### 3.5 信賴區間（Credible Intervals）\n",
    "\n",
    "一但你計算了後驗分佈，通常會用以下方式做總結：\n",
    "\n",
    "1. 點估計：通常是計算後驗分佈的期望值、中位數或是那個結果有最大的似然性（Maximum likelihood）\n",
    "1. 區間估計\n",
    "\n",
    "對於區間，我們會計算出兩個數值找出區間，對於某一個未知數值有 90% 的機率（或是其他的機率）落在此區間。這兩個數值就代表一個信賴區間（Credible Interval）\n",
    "\n",
    "一個簡單得方式計算信賴區間是加總後驗分佈的機率，並且紀錄對應加總機率為5%跟95%。換句話說就是第 5 百分位（percentiles）跟第 95 百分位。\n",
    "\n",
    "thinkbayes.py 提供了方法計算百分位。\n",
    "\n",
    "<pre>\n",
    " def Percentile(pmf, percentage):\n",
    "    p = percentage / 100.0\n",
    "    total = 0\n",
    "    for val, prob in pmf.Items():\n",
    "        total += prob\n",
    "        if total >= p:\n",
    "            return val\n",
    "</pre>\n",
    "\n",
    "請參考下方程式碼的 expected_values 方法內，有利用 Percentile 方法的範例。"
   ]
  },
  {
   "cell_type": "code",
   "execution_count": 6,
   "metadata": {},
   "outputs": [
    {
     "name": "stdout",
     "output_type": "stream",
     "text": [
      "假設範圍 1 ~ 1000 在看到編號 [60, 30, 90] 後的期望值: 133.2752313750312\n",
      "信賴區間 (91, 242)\n",
      "\n",
      "假設範圍 1 ~ 500 在看到編號 [60, 30, 90] 後的期望值: 130.70846986256004\n",
      "信賴區間 (91, 235)\n",
      "\n",
      "假設範圍 1 ~ 2000 在看到編號 [60, 30, 90] 後的期望值: 133.99746308073065\n",
      "信賴區間 (91, 243)\n",
      "\n",
      "假設範圍 1 ~ 100000 在看到編號 [60, 30, 90] 後的期望值: 134.25408214850083\n",
      "信賴區間 (91, 243)\n",
      "\n"
     ]
    }
   ],
   "source": [
    "from thinkbayes import Suite, Percentile\n",
    "\n",
    "\n",
    "class Train(Suite): # 將均勻分佈作為先驗分佈\n",
    "    \n",
    "    def Likelihood(self, data, hypo):\n",
    "        if data > hypo:\n",
    "            return 0.0\n",
    "\n",
    "        return 1.0/hypo\n",
    "\n",
    "\n",
    "class Train_PowerLaw(Train):\n",
    "    \n",
    "    def __init__(self, hypos, alpha=1.0):\n",
    "        super().__init__()\n",
    "        for hypo in hypos: # 將冪律分佈作為先驗分佈\n",
    "            self.Set(hypo, hypo**-alpha)\n",
    "            \n",
    "        self.Normalize()\n",
    "    \n",
    "\n",
    "def expected_values(hypos, data):\n",
    "    suite = Train_PowerLaw(hypos)\n",
    "    for datum in data:\n",
    "        suite.Update(datum)\n",
    "        \n",
    "    print(\"假設範圍\", hypos[0], \"~\", hypos[-1], \"在看到編號\", data,\"後的期望值:\", suite.Mean())\n",
    "    \n",
    "    interval = Percentile(suite, 5), Percentile(suite, 95) # 增加信賴區間90%的估計\n",
    "    print(\"信賴區間\", interval)\n",
    "    print()\n",
    "    \n",
    "    \n",
    "    \n",
    "data = [60, 30, 90]\n",
    "expected_values(range(1, 1001), data)\n",
    "expected_values(range(1, 501), data)\n",
    "expected_values(range(1, 2001), data)\n",
    "expected_values(range(1, 100001), data)"
   ]
  },
  {
   "cell_type": "markdown",
   "metadata": {},
   "source": [
    "看到之前的火車頭例子，觀察上方結果得知。用冪律分佈作為先驗分佈，90%的信賴區間是 (91, 243)。雖然有個90%的信賴區間，但這個範圍的寬度還是讓我們仍然不確定有多少火車頭。"
   ]
  }
 ],
 "metadata": {
  "kernelspec": {
   "display_name": "Python 3",
   "language": "python",
   "name": "python3"
  },
  "language_info": {
   "codemirror_mode": {
    "name": "ipython",
    "version": 3
   },
   "file_extension": ".py",
   "mimetype": "text/x-python",
   "name": "python",
   "nbconvert_exporter": "python",
   "pygments_lexer": "ipython3",
   "version": "3.6.6"
  }
 },
 "nbformat": 4,
 "nbformat_minor": 2
}
