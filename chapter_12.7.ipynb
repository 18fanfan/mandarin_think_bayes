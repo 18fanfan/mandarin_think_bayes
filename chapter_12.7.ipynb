{
 "cells": [
  {
   "cell_type": "markdown",
   "metadata": {},
   "source": [
    "# 章節 12：證據\n",
    "\n",
    "## 12.7 答題功率的後驗分佈\n",
    "\n",
    "現在模型已經經過校正，我們可以計算 Alice 和 Bob 答題功率的後驗分佈。以下是新的 Sat2 類別：\n",
    "\n",
    "<pre>\n",
    "class Sat2(thinkbayes.Suite):\n",
    "    def __init__(self, exam, score):\n",
    "        self.exam = exam\n",
    "        self.score = score\n",
    "        \n",
    "        # 先驗分佈服從高斯分佈\n",
    "        efficacies = thinkbayes.MakeGaussianPmf(0, 1.5, 3)\n",
    "        thinkbayes.Suite.__init__(self, efficacies)\n",
    "        \n",
    "        # 根據考試分佈更新分佈\n",
    "        # Update 方法呼叫 Likelihood 方法\n",
    "        self.Update(score)\n",
    "\n",
    "def Likelihood(self, data, hypo):\n",
    "\n",
    "        # hypo 是不同的答題效率假設\n",
    "        efficacy = hypo\n",
    "        score = data\n",
    "        raw = self.exam.Reverse(score)\n",
    "        \n",
    "        # pmf 是某位測試者原始分數對一特定答題效率的分佈\n",
    "        pmf = self.exam.PmfCorrect(efficacy)\n",
    "        \n",
    "        # like 是在觀察到原始分數到似然性\n",
    "        like = pmf.Prob(raw)\n",
    "        return like\n",
    "</pre>"
   ]
  },
  {
   "cell_type": "code",
   "execution_count": 2,
   "metadata": {},
   "outputs": [],
   "source": [
    "#TODO"
   ]
  },
  {
   "cell_type": "markdown",
   "metadata": {},
   "source": [
    "上圖為 Alice 和 Bob 答題效率的後驗分佈 CDF。如預期的，Alice 的 CDF 比較靠右方，但再一次的有區域上的重疊。再一次使用 TopLevel 類別計算 Alice 功率比較高的機率，以及 Bob 功率比較高的機率。似然性比值為 3.4，略低於之前簡化型的模型（3.8）。所以此模型說明考試分數認為 Alice 準備的比較好的機率較高，但比簡化型的模型略為不支持。\n",
    "\n",
    "如果我們的先驗信念是 Alice 和 Bob 比對方準備好的機率是一樣的，那依據考試分數更新，後驗分佈 Alice 準備較好的機率為 77%，而 Bob 準備較好的機率為 23%。"
   ]
  }
 ],
 "metadata": {
  "kernelspec": {
   "display_name": "Python 3",
   "language": "python",
   "name": "python3"
  },
  "language_info": {
   "codemirror_mode": {
    "name": "ipython",
    "version": 3
   },
   "file_extension": ".py",
   "mimetype": "text/x-python",
   "name": "python",
   "nbconvert_exporter": "python",
   "pygments_lexer": "ipython3",
   "version": "3.6.6"
  }
 },
 "nbformat": 4,
 "nbformat_minor": 2
}
