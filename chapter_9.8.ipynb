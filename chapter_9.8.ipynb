{
 "cells": [
  {
   "cell_type": "markdown",
   "metadata": {},
   "source": [
    "# 章節 9：二維空間\n",
    "\n",
    "## 9.8 討論\n",
    "\n",
    "這章節將前一章節的貝葉斯架構擴展成二維的參數空間。其中的差異在假設組是用一對參數。\n",
    "\n",
    "這章節還有提到 Joint 類別提供 Marginal, Conditional 和 MakeLikeInterval 的方法應用在聯合分佈。用物件導向的專有名詞來說，Joint 類別是一個 Mixin(http://en.wikipedia.org/wiki/Mixin)。\n",
    "\n",
    "接下來統整這章節新出現的詞彙：\n",
    "\n",
    "- 聯合分佈（Joint Distribution）：一個表示多維空間內所有數值的機率。這章節是用二維的座標 alpha, beta。所以聯合分佈表示任何 (alpha, beta)的組合。\n",
    "- 邊際分佈（Marginal Distribution）：聯合分佈中其中一個參數的分佈，將其他參數當作未知。例如，9.5 小節的圖示。\n",
    "- 條件分佈（Conditional Distribution）：聯合分佈中其中一個參數的分佈，基於一個或多個其他的參數上。例如，9.6 小節的圖示。\n",
    "\n",
    "\n",
    "Figure 9.2 shows the distributions of alpha and beta independently.\n",
    "Figure 9.4 several distributions for alpha, conditioned on different values of beta.\n",
    "\n",
    "給定一個聯合分佈，你可以計算邊際分佈跟條件分佈。如果有足夠多的條件分佈，你至少可以重新產生近似的聯合分佈。但只有給邊際分佈你不能重新產生聯合分佈，因為你失去了變數之間互相影響的資訊。\n",
    "\n",
    "如果兩個參數各自有 n 個數值，聯合分佈的計算量跟 n^2 成正比。如果 d 個參數各自有 n 個數值，計算量跟 n^d 成正比，當維度增高時計算很快就變的不可行。\n",
    "\n",
    "所以你能在合理的時間內處理一百萬個假設，那你在二維空間每個參數只能有 1000 個數值，三維空間每個參數只能有 100 個數值，六維空間每個參數只能有 10 個數值。如果你要處理更多的維度以及更多的數值，有一些最佳化的方法可以嘗試。在第 15 章有些例子。\n",
    "\n",
    "你可以在此下載到作者的程式碼：http://thinkbayes.com/paintball.py"
   ]
  }
 ],
 "metadata": {
  "kernelspec": {
   "display_name": "Python 3",
   "language": "python",
   "name": "python3"
  },
  "language_info": {
   "codemirror_mode": {
    "name": "ipython",
    "version": 3
   },
   "file_extension": ".py",
   "mimetype": "text/x-python",
   "name": "python",
   "nbconvert_exporter": "python",
   "pygments_lexer": "ipython3",
   "version": "3.6.6"
  }
 },
 "nbformat": 4,
 "nbformat_minor": 2
}
