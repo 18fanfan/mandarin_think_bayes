{
 "cells": [
  {
   "cell_type": "markdown",
   "metadata": {},
   "source": [
    "## 章節 3：估計 (Estimation)\n",
    "\n",
    "### 3.9 練習\n",
    "\n",
    "習題 3.1\n",
    "\n",
    "為了寫火車頭問題的似然性函數，我們要回答此問題：\n",
    "\n",
    "> 如果鐵路上有Ｎ台火車頭，我們看到編號 60 的機率是多少？\n",
    "\n",
    "這個問題的答案取決於我們觀察火車頭的取樣過程。\n",
    "\n",
    "本章中，我假設只有一家鐵路公司在運行。但現在假設有**很多家鐵路公司，每家公司有不同的火車頭數量**。\n",
    "\n",
    "並且假設你看到每個公司的火車頭運行的機率是一樣的。在這種情況下似然函數是不同的，因為你更可能看到大公司的火車頭。\n",
    "\n",
    "此習題請實作針對此種變形的火車頭問題的 Likelihood 方法，並且比較結果。"
   ]
  },
  {
   "cell_type": "markdown",
   "metadata": {},
   "source": [
    "P(H|D) = 看到 60 後每個 hypothesis 的機率是多少？\n",
    "\n",
    "hypos = 1~N 台火車頭\n",
    "\n",
    "P(H) ~ Power Law\n",
    "\n",
    "p(D|H) ; P(看到 60 的機率|N=100假設現在有5家火車頭公司)\n",
    "\n",
    "1 10\n",
    "2 100\n",
    "3 1000\n",
    "4 10000\n",
    "5 100000\n",
    "\n",
    "2/5*\n",
    "\n",
    "假設"
   ]
  }
 ],
 "metadata": {
  "kernelspec": {
   "display_name": "Python 3",
   "language": "python",
   "name": "python3"
  },
  "language_info": {
   "codemirror_mode": {
    "name": "ipython",
    "version": 3
   },
   "file_extension": ".py",
   "mimetype": "text/x-python",
   "name": "python",
   "nbconvert_exporter": "python",
   "pygments_lexer": "ipython3",
   "version": "3.6.6"
  }
 },
 "nbformat": 4,
 "nbformat_minor": 2
}
