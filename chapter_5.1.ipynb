{
 "cells": [
  {
   "cell_type": "markdown",
   "metadata": {},
   "source": [
    "## 章節 5：發生比與分佈相加（Odds and Addends）\n",
    "\n",
    "### 5.1 發生比（Odds）\n",
    "\n",
    "除了用一個介於 0 到 1 之間的數字代表可能性之外，還有其他的方式表示。如果你有賭過美式足球或是賽馬，你可能有遇到用**發生比（Odds）**的方式表示可能性。\n",
    "\n",
    "你以前可能聽過「賠率三比一」的說法，但你可能不確定其代表的意義。一個事件的勝率（Odds in favor of an event）代表發生事件的機率 p 比上不發生事件機率 1-p。(p : 1-p)\n",
    "\n",
    "如果我認為我支持隊伍的贏面是 75% ，則我會說勝率是**三比一**因為贏的機會是輸的機會的三倍。\n",
    "\n",
    "可以用比值代表發生比，但通常是寫成整數的比。所以三比一就寫成 3:1。\n",
    "\n",
    "當贏面很低的時候，通常會說賠率（Odds against）而非勝率。例如如果我認為只有 10% 的機會獲勝，那我會說賠率為 9:1。\n",
    "\n",
    "機率跟發生比有相同的資訊，只是用不同的方式表示。所以這兩個數值可以互相轉換。\n",
    "\n",
    "$\n",
    "\\begin{align} \n",
    "odds = \\frac{p}{1-p} \\\\\n",
    "odds(1-p) = p \\\\\n",
    "odds-odds*p = p \\\\\n",
    "odds = p+odds*p \\\\\n",
    "odds = p(odds+1) \\\\\n",
    "\\frac{odds}{odds+1} = p\n",
    "\\end{align}\n",
    "$\n",
    "\n",
    "\n",
    "\n",
    "p/1-p = o\n",
    "\n",
    "p = o - op\n",
    "p+op = o\n",
    "p(1+o) = o\n",
    "\n",
    "$$\n",
    "\n",
    "<pre>\n",
    "#機率轉換成發生比\n",
    "def Odds(p):\n",
    "    return p / (1-p)\n",
    "    \n",
    "    \n",
    "#發生比轉換成機率\n",
    "def Probability(o):\n",
    "    return o / (o+1)\n",
    "</pre>\n",
    "\n",
    "如果你用分子和分母來表示發生比，你可以用以下方式轉換成機率：\n",
    "<pre>\n",
    "def Probability2(yes, no):\n",
    "    return yes / (yes + no)\n",
    "</pre>\n",
    "\n",
    "當我用發生比思考時，發現這可以幫助人們去想像。如果有 20% 的人認為我的馬會贏，則有 80% 不認為，所以勝率為 20:80 或是 1:4。\n",
    "如果賠率是 5:1 ，則代表 6 個人中有 5 個人認為此馬會輸，所以贏的機率就是 1/6。"
   ]
  }
 ],
 "metadata": {
  "kernelspec": {
   "display_name": "Python 3",
   "language": "python",
   "name": "python3"
  },
  "language_info": {
   "codemirror_mode": {
    "name": "ipython",
    "version": 3
   },
   "file_extension": ".py",
   "mimetype": "text/x-python",
   "name": "python",
   "nbconvert_exporter": "python",
   "pygments_lexer": "ipython3",
   "version": "3.6.6"
  }
 },
 "nbformat": 4,
 "nbformat_minor": 2
}
