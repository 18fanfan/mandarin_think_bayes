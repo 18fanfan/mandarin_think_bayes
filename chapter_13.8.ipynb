{
 "cells": [
  {
   "cell_type": "markdown",
   "metadata": {},
   "source": [
    "# 章節 13：模擬\n",
    "\n",
    "## 13.8 討論\n",
    "\n",
    "整個章節都沒有用到貝葉斯定理或是 Suite 類別封裝貝葉斯更新。怎麼會這樣？\n",
    "\n",
    "思考貝葉斯定理的其中一個方式是反轉條件機率。給定 p(B|A)，我們能夠計算 p(A|B)，如果我們知道 P(A) 和 P(B)。當然這個演算法只有在某些理由下有用， p(B|A) 比 p(A|B) 來的容易計算。\n",
    "\n",
    "本章例子中，透過模擬法，我們可以估計在特定年齡下腫瘤大小的分佈 p(大小｜年齡)，或是在特定腫瘤大小下的年齡分佈 p(年齡｜大小)。所以這看起來是貝葉斯定理很好的應用時機。\n",
    "\n",
    "但這邊沒有用的原因是因為計算效率。為了估計 p(大小｜年齡)，對於每個大小來說，你需要跑很多次的模擬。在這其中，你最後會對針對不同的大小計算 p(大小｜年齡)。事實上你最後幾算了**整個 大小-年齡 的聯合分佈**，p（大小, 年齡)。\n",
    "\n",
    "一但你有了聯合分佈，你就不需要貝葉斯定理了，你可以在聯合分佈上擷取 p(年齡｜大小) 的分佈，就像之前小節的 ConditionalCdf 方法。\n",
    "\n",
    "所以我們跨過了貝葉斯，但是他的精神與我們同在。"
   ]
  }
 ],
 "metadata": {
  "kernelspec": {
   "display_name": "Python 3",
   "language": "python",
   "name": "python3"
  },
  "language_info": {
   "codemirror_mode": {
    "name": "ipython",
    "version": 3
   },
   "file_extension": ".py",
   "mimetype": "text/x-python",
   "name": "python",
   "nbconvert_exporter": "python",
   "pygments_lexer": "ipython3",
   "version": "3.6.6"
  }
 },
 "nbformat": 4,
 "nbformat_minor": 2
}
