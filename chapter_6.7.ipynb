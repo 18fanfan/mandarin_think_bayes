{
 "cells": [
  {
   "cell_type": "markdown",
   "metadata": {},
   "source": [
    "## 章節 6：決策分析（Dicision Analysis）\n",
    "\n",
    "### 6.7 分佈更新\n",
    "\n",
    "Player 類別提供 MakeBeliefs 方法，在看到參賽者的 guess 之後，計算後驗分佈。\n",
    "\n",
    "其中有用到 PmfPrice 方法產生一個近似版本的真實價格分佈，我們用此作為先驗分佈。"
   ]
  },
  {
   "cell_type": "code",
   "execution_count": 34,
   "metadata": {},
   "outputs": [],
   "source": [
    "from thinkbayes import Suite, EstimatedPdf, MakeCdfFromList, GaussianPdf, Pmf\n",
    "import pandas as pd\n",
    "import matplotlib.pyplot as plt\n",
    "import numpy as np\n",
    "\n",
    "\n",
    "class Player(object):\n",
    "    \n",
    "    n = 101 # 取樣點數\n",
    "    price_xs = np.linspace(0, 75000, n) # 價格範圍\n",
    "    \n",
    "    def __init__(self, prices, bids, diffs):\n",
    "        # prices: 真實價格的序列\n",
    "        # bids: 參賽者出價的序列\n",
    "        # diffs: 價差的序列\n",
    "        \n",
    "        # 平滑化版本的真實價格分佈(先驗分佈)\n",
    "        self.pdf_price = EstimatedPdf(prices)\n",
    "        \n",
    "        # diff 的累積機率分佈，如上圖的 CDF\n",
    "        self.cdf_diff = MakeCdfFromList(diffs)\n",
    "        \n",
    "        mu = 0\n",
    "        sigma = np.std(diffs)\n",
    "        \n",
    "        # 價差的高斯分佈（似然性）\n",
    "        self.pdf_error = GaussianPdf(mu, sigma)\n",
    "    \n",
    "    \n",
    "    def MakeBeliefs(self, guess):\n",
    "        pmf = self.PmfPrice() # 產生價格的近似分佈\n",
    "        self.prior = Price(pmf, self) # 價格先驗分佈\n",
    "        self.posterior = self.prior.Copy() # 複製價格先驗分佈\n",
    "        self.posterior.Update(guess) # 更新分佈\n",
    "        \n",
    "        \n",
    "    def PmfPrice(self): # 價格的近似分佈\n",
    "        return self.pdf_price.MakePmf(self.price_xs)\n",
    "    \n",
    "    \n",
    "    def ErrorDensity(self, error):\n",
    "        return self.pdf_error.Density(error) # 計算 error 的機率密度\n",
    "\n",
    "\n",
    "class Price(Suite):\n",
    "    \n",
    "    def __init__(self, pmf, player):\n",
    "        # pmf：先驗分佈\n",
    "        # player：player 物件\n",
    "        super().__init__(pmf)\n",
    "        self.player = player \n",
    "        \n",
    "    def Likelihood(self, data, hypo):\n",
    "        price = hypo # 假設展示品的真實價格為 price\n",
    "        guess = data # 參賽者在給定 price 下最好的出價價格\n",
    "        error = price - guess\n",
    "        like  = self.player.ErrorDensity(error) # 似然性計算\n",
    "        return like\n",
    "\n",
    "    \n",
    "def plot_pmf(pmf):\n",
    "    x, y = zip(*sorted(pmf.Items()))\n",
    "    plt.plot(x, y)\n",
    "\n",
    "\n",
    "def simple_read_col(file, col_name):\n",
    "    df = pd.read_csv(file, index_col=0).T\n",
    "    return df[col_name].astype(int).values\n",
    "\n",
    "    \n",
    "def simple_read_prices(file, showcase=1):\n",
    "    col_name = \"Showcase %d\" % showcase        \n",
    "    return simple_read_col(file, col_name)\n",
    "\n",
    "\n",
    "def get_all_prices(showcase=1): # 先不考慮效率\n",
    "    data = [\"showcases.2011.csv\", \"showcases.2012.csv\"]\n",
    "    return np.concatenate([simple_read_prices(file, showcase) for file in data])\n",
    "\n",
    "\n",
    "def simple_read_diff(file, showcase=1):\n",
    "    col_name = \"Difference %d\" % showcase        \n",
    "    return simple_read_col(file, col_name)\n",
    "    \n",
    "    \n",
    "def get_all_diff(showcase=1): # 先不考慮效率\n",
    "    data = [\"showcases.2011.csv\", \"showcases.2012.csv\"]\n",
    "    return np.concatenate([simple_read_diff(file, showcase) for file in data])\n",
    "\n",
    "\n",
    "def simple_read_bid(file, showcase=1):\n",
    "    col_name = \"Bid %d\" % showcase        \n",
    "    return simple_read_col(file, col_name)\n",
    "    \n",
    "    \n",
    "def get_all_bid(showcase=1): # 先不考慮效率\n",
    "    data = [\"showcases.2011.csv\", \"showcases.2012.csv\"]\n",
    "    return np.concatenate([simple_read_bid(file, showcase) for file in data])\n",
    "\n",
    "\n",
    "def make_pmf(data):\n",
    "    pdf = EstimatedPdf(data)\n",
    "    low, high = -30000, 50000\n",
    "    n = 1001\n",
    "    xs = np.linspace(low, high, n)\n",
    "    pmf = pdf.MakePmf(xs)\n",
    "    return pmf\n",
    "\n",
    "\n",
    "def plot_kde_prices(showcase=1):\n",
    "    prices = get_all_prices(showcase)\n",
    "    print(\"展示品\", showcase, \"價格總數\", prices.size, \"比\")\n",
    "    pdf = EstimatedPdf(prices)\n",
    "\n",
    "    low, high = 0, 75000\n",
    "    n = 101\n",
    "    xs = np.linspace(low, high, n)\n",
    "    pmf = pdf.MakePmf(xs)\n",
    "    plot_pmf(pmf)"
   ]
  },
  {
   "cell_type": "markdown",
   "metadata": {},
   "source": [
    "要建立後驗分佈，我們先複製先驗分佈並且呼叫 Update 方法，此方法會對每個假設的價格呼叫 Price.Likelihood 方法得到似然性，乘上先驗機率，最後做正規化。\n",
    "\n",
    "我們回到原本的情境。如果你是參賽者 1 並且當你看到展示品後，當下你認為最好的猜測是 20000 美元。\n",
    "\n",
    "下圖顯示對於價格的先驗分佈和後驗分佈。後驗分佈因為你的猜測在先驗偏低的範圍，所以往左邊偏移。"
   ]
  },
  {
   "cell_type": "code",
   "execution_count": 42,
   "metadata": {},
   "outputs": [
    {
     "data": {
      "image/png": "[encoded data removed]",
      "text/plain": [
       "<Figure size 432x288 with 1 Axes>"
      ]
     },
     "metadata": {
      "needs_background": "light"
     },
     "output_type": "display_data"
    },
    {
     "name": "stdout",
     "output_type": "stream",
     "text": [
      "先驗分佈最大機率的價格： 27750.0\n",
      "後驗分佈最大機率的價格： 24000.0\n",
      "後驗分佈的期望值： 25096.411816206233\n"
     ]
    }
   ],
   "source": [
    "p1_data = [get_all_prices(1), get_all_bid(1), get_all_diff(1)]\n",
    "player1 = Player(*p1_data)\n",
    "player1.MakeBeliefs(20000)\n",
    "\n",
    "plot_pmf(player1.prior)\n",
    "plot_pmf(player1.posterior)\n",
    "plt.legend([\"prior\", \"posterior\"])\n",
    "plt.show()\n",
    "\n",
    "print(\"先驗分佈最大機率的價格：\", player1.prior.MaximumLikelihood())\n",
    "print(\"後驗分佈最大機率的價格：\", player1.posterior.MaximumLikelihood())\n",
    "print(\"後驗分佈的期望值：\", player1.posterior.Mean())"
   ]
  },
  {
   "cell_type": "markdown",
   "metadata": {},
   "source": [
    "在某一層面上，這個結果是有道理的。先驗分佈中最大可能性的價格為 27750 美元，而你覺得最好的猜測是 20000 美元，而後驗分佈的期望值約為 25096 美元。\n",
    "\n",
    "在另一層面上，你可能會覺得這個結果很奇怪，因為這個後驗分佈建議你，**如果你猜測為 20000 美元，那你應該應該要相信真實價格為 24000 美元**。\n",
    "\n",
    "為了要解決這個明顯的矛盾，請記得你用了兩種歷史資訊來源：\n",
    "\n",
    "1. 展示品的真實價格\n",
    "2. 參賽者猜測的價格\n",
    "\n",
    "我們用過去的資料當作先驗，並且用你的猜測(guess)更新分佈。\n",
    "\n",
    "但我們也可以用你的猜測當作先驗，並基於過去的資料來更新分佈。\n",
    "\n",
    "如果你用這個方式思考，或許你不會太驚訝於後驗分佈的最大可能性的價格並不是你當初猜測的價格。"
   ]
  }
 ],
 "metadata": {
  "kernelspec": {
   "display_name": "Python 3",
   "language": "python",
   "name": "python3"
  },
  "language_info": {
   "codemirror_mode": {
    "name": "ipython",
    "version": 3
   },
   "file_extension": ".py",
   "mimetype": "text/x-python",
   "name": "python",
   "nbconvert_exporter": "python",
   "pygments_lexer": "ipython3",
   "version": "3.6.6"
  }
 },
 "nbformat": 4,
 "nbformat_minor": 2
}
