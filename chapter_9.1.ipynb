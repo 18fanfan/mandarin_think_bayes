{
 "cells": [
  {
   "cell_type": "markdown",
   "metadata": {},
   "source": [
    "# 章節 9：二維空間\n",
    "\n",
    "## 9.1 漆彈\n",
    "\n",
    "漆彈是種兩隊競爭的運動，彼此用充滿油漆的顆粒射擊，這些顆粒會在打到目標時破裂並且留下顏色。通常會在有掩護障礙物的體育館中進行。\n",
    "\n",
    "假設你正在一個寬 30 英尺，長 50 英尺的體育館中玩漆彈。你在一個 30 英尺高的牆面附近，而且你懷疑有對手在附近埋伏。沿著牆壁你看到相同的油漆噴濺，你認為對手最近有開槍。\n",
    "\n",
    "噴濺的位置從場地的左下角開始算，在 15, 16, 18, 21 英尺處。根據這些資料，你認為對手會躲在哪裡？\n",
    "\n",
    "\n",
    "下圖為體育館的圖。用場地左下角當作起點，上面標記未知的對手位置在座標 α, β。漆彈噴濺的位置用 x 表示。對手射擊的角度是 θ 。\n",
    "\n",
    "漆彈問題是修改自燈塔問題，一個貝葉斯分析常見的範例。本章的符號表示法遵照自 D.S. Sivia’s, Data Analysis: a Bayesian Tutorial, Second\n",
    "Edition (Oxford, 2006)\n",
    "\n",
    "你可以在此下載作者個程式碼：http://thinkbayes.com/paintball.py"
   ]
  },
  {
   "cell_type": "markdown",
   "metadata": {},
   "source": [
    "![體育館示意圖](paintball.png)"
   ]
  },
  {
   "cell_type": "code",
   "execution_count": null,
   "metadata": {},
   "outputs": [],
   "source": []
  }
 ],
 "metadata": {
  "kernelspec": {
   "display_name": "Python 3",
   "language": "python",
   "name": "python3"
  },
  "language_info": {
   "codemirror_mode": {
    "name": "ipython",
    "version": 3
   },
   "file_extension": ".py",
   "mimetype": "text/x-python",
   "name": "python",
   "nbconvert_exporter": "python",
   "pygments_lexer": "ipython3",
   "version": "3.6.6"
  }
 },
 "nbformat": 4,
 "nbformat_minor": 2
}
