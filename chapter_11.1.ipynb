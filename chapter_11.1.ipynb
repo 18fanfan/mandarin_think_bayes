{
 "cells": [
  {
   "cell_type": "markdown",
   "metadata": {},
   "source": [
    "# 章節 11：假設檢定（Hypothesis Testing）\n",
    "\n",
    "## 11.1 回到歐元問題\n",
    "\n",
    "在 4.1 小節提到的問題從 David MacKay 的書籍 Information Theory, Inference, and Learning Algorithms 中寫到下述問題：\n",
    "\n",
    "> 一個統計的論述出現在2002年1月4日星期五的英國《衛報》中：\n",
    "旋轉一枚比利時的一歐元硬幣250次，出現140正面，110次背面。\n",
    "一位倫敦經濟學院統計學講師 Barry Bligt 說到：「這令他非常懷疑。」\n",
    "如果此硬幣是公平的，出現此結果的機率小於7%。\n",
    "但這些證據是否指出此硬幣是不公平的嗎？\n",
    "\n",
    "在第5章有提到，如果貝葉斯因子大於一的話，資料更傾向於假設而非另一個假設。\n",
    "\n",
    "歐元問題的例子，我們考慮兩個假設：用 F 代表硬幣是公平的假設，B 代表硬幣是偏差的假設。\n",
    "\n",
    "若硬幣是公平的，就很容易計算資料的似然性 p(D|F)。事實之前就已經完成此函數："
   ]
  },
  {
   "cell_type": "code",
   "execution_count": 15,
   "metadata": {},
   "outputs": [
    {
     "name": "stdout",
     "output_type": "stream",
     "text": [
      "(F)假設正面機率為 50% 看到此 data 的似然性： 5.527147875260445e-76\n"
     ]
    }
   ],
   "source": [
    "def Likelihood(data, hypo):\n",
    "    x = hypo / 100.0\n",
    "    heads, tails = data\n",
    "    like = x**heads * (1-x)**tails\n",
    "    return like\n",
    "\n",
    "# 正面 140 次，反面 110 次\n",
    "data = (140, 110)\n",
    "f = Likelihood(data, 50)\n",
    "print(\"(F)假設正面機率為 50% 看到此 data 的似然性：\", f)"
   ]
  },
  {
   "cell_type": "markdown",
   "metadata": {},
   "source": [
    "上面的似然性只告訴我們說看到此資料的機率很小。用兩個似然性產生比率，所以我們還需要計算 p(D|B)。\n",
    "\n",
    "但要如何計算 p(D|B)呢？因為「偏差」的意義不是這麼好定義。\n",
    "\n",
    "一種可能是在定義「偏差」的假設前，先偷看資料。例如歐元問題我們可以說「偏差」的假設是出現正面的機率為 140/250。"
   ]
  },
  {
   "cell_type": "code",
   "execution_count": 18,
   "metadata": {},
   "outputs": [
    {
     "name": "stdout",
     "output_type": "stream",
     "text": [
      "(B)假設正面機率為 56% 看到此 data 的似然性： 3.358289985239045e-75\n",
      "P(D|B)/P(D|F) 比率為： 6.075990838368512\n"
     ]
    }
   ],
   "source": [
    "actual_percent = 100.0 * 140 / 250\n",
    "b_cheat = Likelihood(data, actual_percent)\n",
    "print(\"(B)假設正面機率為 56% 看到此 data 的似然性：\", b_cheat)\n",
    "\n",
    "print(\"P(D|B)/P(D|F) 比率為：\", b_cheat / f )"
   ]
  },
  {
   "cell_type": "markdown",
   "metadata": {},
   "source": [
    "上方稱作 b_cheat；b_cheat 的似然性約為 3.4 * 10^-76。兩者的比例約為 6.1。\n",
    "\n",
    "所以此資料是比較支持硬幣是偏差的假設 B。但用資料來制定假設是虛假的。\n",
    "\n",
    "根據定義，除非觀察到的資料正面比例剛好 50%，否則任何的數據都會呈現支持假設 B 。"
   ]
  }
 ],
 "metadata": {
  "kernelspec": {
   "display_name": "Python 3",
   "language": "python",
   "name": "python3"
  },
  "language_info": {
   "codemirror_mode": {
    "name": "ipython",
    "version": 3
   },
   "file_extension": ".py",
   "mimetype": "text/x-python",
   "name": "python",
   "nbconvert_exporter": "python",
   "pygments_lexer": "ipython3",
   "version": "3.6.6"
  }
 },
 "nbformat": 4,
 "nbformat_minor": 2
}
