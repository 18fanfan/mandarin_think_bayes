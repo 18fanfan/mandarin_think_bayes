{
 "cells": [
  {
   "cell_type": "markdown",
   "metadata": {},
   "source": [
    "## 章節 3：估計 (Estimation)\n",
    "\n",
    "### 3.6 累積分佈函數（Cumulative Distribution Functions）\n",
    "\n",
    "上一章節我們用迴圈過 pmf 中的數值跟機率來計算百分位。\n",
    "\n",
    "如果我們要機算多個百分位，用累積分佈函數（Cdf）會比較有效率(因為每個百分位只要計算一次)。\n",
    "\n",
    "Cdf 和 Pmf 對分佈所呈現的資訊量來說是一樣的，這兩個是可以互相轉換的。\n",
    "\n",
    "Cdf 的好處是有效率的計算百分位。\n",
    "\n",
    "thinkbayes.py 提供一個 Cdf 的類別來代表累積分佈函數。 Pmf 類別提供一個方法來產生對應的 Cdf。\n",
    "\n",
    "<pre>\n",
    "# 關於實例，請參考下一格的程式碼\n",
    "cdf = suite.MakeCdf()  \n",
    "interval = cdf.Percentile(5), cdf.Percentile(95)\n",
    "</pre>\n",
    "\n",
    "將 Pmf 轉換成 Cdf 的時間跟有多少數值成正比，len(pmf)。\n",
    "\n",
    "作者的程式碼可以\n",
    "The examples in this section are in http://thinkbayes.com/train3.py. For\n",
    "more information see Section 0.3."
   ]
  },
  {
   "cell_type": "code",
   "execution_count": 16,
   "metadata": {},
   "outputs": [
    {
     "name": "stdout",
     "output_type": "stream",
     "text": [
      "假設範圍 1 ~ 1000 在看到編號 [60, 30, 90] 後的期望值: 133.2752313750312\n"
     ]
    },
    {
     "data": {
      "image/png": "[encoded data removed]",
      "text/plain": [
       "<Figure size 432x288 with 1 Axes>"
      ]
     },
     "metadata": {
      "needs_background": "light"
     },
     "output_type": "display_data"
    },
    {
     "data": {
      "image/png": "[encoded data removed]",
      "text/plain": [
       "<Figure size 432x288 with 1 Axes>"
      ]
     },
     "metadata": {
      "needs_background": "light"
     },
     "output_type": "display_data"
    },
    {
     "name": "stdout",
     "output_type": "stream",
     "text": [
      "用 cdf.Percentile 方法產生的信賴區間 (91, 242)\n"
     ]
    }
   ],
   "source": [
    "from thinkbayes import Suite, Percentile\n",
    "import matplotlib.pyplot as plt\n",
    "\n",
    "\n",
    "class Train(Suite): # 將均勻分佈作為先驗分佈\n",
    "    \n",
    "    def Likelihood(self, data, hypo):\n",
    "        if data > hypo:\n",
    "            return 0.0\n",
    "\n",
    "        return 1.0/hypo\n",
    "\n",
    "\n",
    "class Train_PowerLaw(Train):\n",
    "    \n",
    "    def __init__(self, hypos, alpha=1.0):\n",
    "        super().__init__()\n",
    "        for hypo in hypos: # 將冪律分佈作為先驗分佈\n",
    "            self.Set(hypo, hypo**-alpha)\n",
    "            \n",
    "        self.Normalize()\n",
    "    \n",
    "\n",
    "def expected_values(hypos, data):\n",
    "    suite = Train_PowerLaw(hypos)\n",
    "    for datum in data:\n",
    "        suite.Update(datum)\n",
    "        \n",
    "    print(\"假設範圍\", hypos[0], \"~\", hypos[-1], \"在看到編號\", data,\"後的期望值:\", suite.Mean())\n",
    "    \n",
    "    x, y = zip(*sorted(suite.Items()))\n",
    "    plt.title(\"PMF\")\n",
    "    plt.plot(x, y)\n",
    "    plt.show()\n",
    "    \n",
    "    cdf = suite.MakeCdf() # 產生 suite 對應的 Cdf\n",
    "    plt.title(\"CDF\")\n",
    "    x, y = zip(*sorted(cdf.Items()))\n",
    "    plt.plot(x, y)\n",
    "    plt.show()\n",
    "    \n",
    "    interval = cdf.Percentile(5), cdf.Percentile(95) # 增加信賴區間90%的估計\n",
    "    print(\"用 cdf.Percentile 方法產生的信賴區間\", interval)\n",
    "\n",
    "    \n",
    "    \n",
    "data = [60, 30, 90]\n",
    "expected_values(range(1, 1001), data)"
   ]
  }
 ],
 "metadata": {
  "kernelspec": {
   "display_name": "Python 3",
   "language": "python",
   "name": "python3"
  },
  "language_info": {
   "codemirror_mode": {
    "name": "ipython",
    "version": 3
   },
   "file_extension": ".py",
   "mimetype": "text/x-python",
   "name": "python",
   "nbconvert_exporter": "python",
   "pygments_lexer": "ipython3",
   "version": "3.6.6"
  }
 },
 "nbformat": 4,
 "nbformat_minor": 2
}
