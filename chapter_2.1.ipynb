{
 "cells": [
  {
   "cell_type": "markdown",
   "metadata": {},
   "source": [
    "## 章節 2：計算統計學 (Computational Statistics)\n",
    "\n",
    "### 2.1 分佈 (Distribution)\n",
    "\n",
    "在統計中，分佈代表的是**一組數值跟他們對應的機率**。\n",
    "\n",
    "例如，如果你擲一個六面的骰子，所有可能出現的數值是 1 到 6，並且每個數值對應的機率是 1/6。\n",
    "另一個例子，你可能想知道在常用的英語中每個單字出現的次數。你可以建立一個對於每個單字出現次數的分佈。 （這裡的單字就是上述說的**一組數值**）\n",
    "\n",
    "在 Python 中建立一個分佈，你可以用 dictionary 來將數值與其機率做對應（key 代表某一個數值，value 代表某數值的機率）。\n",
    "作者寫了一個類別（class）**Pmf** 完全用 Python 的 dictionary，並且實作了很多有用的方法（method）。\n",
    "\n",
    "Pmf 類別是一個作者為了搭配本書所寫的一個 Python 模組 thinkbayes.py<sup>1</sup>\n",
    "\n",
    "要使用 Pmf 類別你可以用如下的方式引入："
   ]
  },
  {
   "cell_type": "code",
   "execution_count": 7,
   "metadata": {},
   "outputs": [],
   "source": [
    "from thinkbayes import Pmf"
   ]
  },
  {
   "cell_type": "markdown",
   "metadata": {},
   "source": [
    "接下來的程式碼用 Pmf 來建立一個六面骰子的分佈："
   ]
  },
  {
   "cell_type": "code",
   "execution_count": 11,
   "metadata": {},
   "outputs": [
    {
     "name": "stdout",
     "output_type": "stream",
     "text": [
      "1 0.16666666666666666\n",
      "2 0.16666666666666666\n",
      "3 0.16666666666666666\n",
      "4 0.16666666666666666\n",
      "5 0.16666666666666666\n",
      "6 0.16666666666666666\n"
     ]
    }
   ],
   "source": [
    "pmf = Pmf()\n",
    "for x in range(1, 7):\n",
    "    pmf.Set(x, 1/6.0)\n",
    "    \n",
    "for k, v in pmf.GetDict().items():\n",
    "    print(k, v)"
   ]
  },
  {
   "cell_type": "markdown",
   "metadata": {},
   "source": [
    "Pmf 建立一個空的 Pmf 物件。用 Set 方法給定每個數值的機率為 1/6。\n",
    "\n",
    "再來另一個例子計算每個字在一序列中出現的次數："
   ]
  },
  {
   "cell_type": "code",
   "execution_count": 30,
   "metadata": {},
   "outputs": [
    {
     "name": "stdout",
     "output_type": "stream",
     "text": [
      "I 1\n",
      "put 1\n",
      "probability 1\n",
      "in 2\n",
      "quotes 1\n",
      "because 1\n",
      "this 1\n",
      "example, 1\n",
      "the 1\n",
      "probabilities 2\n",
      "are 2\n",
      "not 3\n",
      "normalized; 1\n",
      "that 1\n",
      "is, 1\n",
      "they 2\n",
      "do 1\n",
      "add 1\n",
      "up 1\n",
      "to 1\n",
      "1. 1\n",
      "So 1\n",
      "true 1\n"
     ]
    }
   ],
   "source": [
    "word_list = \"I put probability in quotes because in this example, the probabilities are \\\n",
    "not normalized; that is, they do not add up to 1. So they are not true probabilities\".split(\" \")\n",
    "\n",
    "pmf = Pmf()\n",
    "for word in word_list:\n",
    "    pmf.Incr(word, 1)\n",
    "    \n",
    "for k, v in pmf.GetDict().items():\n",
    "    print(k, v)"
   ]
  },
  {
   "cell_type": "markdown",
   "metadata": {},
   "source": [
    "Incr 為每個單字的「機率」加 1。如果一個單字沒有出現在 pmf 物件則加入此單字。\n",
    "\n",
    "上面特別將「機率」用括號是因為在這個例子中，機率並沒有做**正規化**；所有機率加總不為 1。因此不能真的稱作為機率。\n",
    "\n",
    "但以這個例子來說，單字的出現次數與機率成正比。所以在計算完所有的單字後，我們可以除以所有的單字次數的總和。Pmf 提供一個方法 Normalize。"
   ]
  },
  {
   "cell_type": "code",
   "execution_count": 34,
   "metadata": {},
   "outputs": [
    {
     "name": "stdout",
     "output_type": "stream",
     "text": [
      "0.03448275862068967 0.034482758620689655\n"
     ]
    }
   ],
   "source": [
    "pmf.Normalize()\n",
    "after_norm = pmf.Prob('the')\n",
    "print(after_norm, 1/29) # 29 是因為 word_list 中有 29 個字\n",
    "assert after_norm - 1/29.0 < 1e-15 # 驗證是否為 the 出現在 word_list 中的比例"
   ]
  },
  {
   "cell_type": "markdown",
   "metadata": {},
   "source": [
    "一但有了 Pmf 物件，你可以用 Prob 方法得到數值對應的機率（上方程式碼得到單字 **the** 的機率）\n",
    "並且在執行 Normalize 方法後將會打印出單字 the 的字頻，便是 the 出現在 word_list 中的比例。\n",
    "\n",
    "Pmf 類別用 Python dictionary 儲存數值跟機率，所以 Pmf 物件中的數值可以是任何可雜湊（hashable）的資料類別。機率可以是任何數值型態，但通常是浮點數（float 型態）\n",
    "\n",
    "---\n",
    "\n",
    "1. 在我的 github 中就有 thinkbayes.py，有興趣可以參考裡頭的實作，我已經利用 2to3 工作轉換成 python3 形式。"
   ]
  }
 ],
 "metadata": {
  "kernelspec": {
   "display_name": "Python 3",
   "language": "python",
   "name": "python3"
  },
  "language_info": {
   "codemirror_mode": {
    "name": "ipython",
    "version": 3
   },
   "file_extension": ".py",
   "mimetype": "text/x-python",
   "name": "python",
   "nbconvert_exporter": "python",
   "pygments_lexer": "ipython3",
   "version": "3.6.6"
  }
 },
 "nbformat": 4,
 "nbformat_minor": 2
}
