{
 "cells": [
  {
   "cell_type": "markdown",
   "metadata": {},
   "source": [
    "## 章節 2：計算統計學 (Computational Statistics)\n",
    "\n",
    "### 2.1 餅乾問題\n",
    "\n",
    "在貝葉斯定理的情境下，用 Pmf 物件去對應每個假設（hypothesis）的機率是很直覺的。\n",
    "餅乾問題中的所有的假設為 Bow1 跟 Bow2。我用 Python 中的字串來表示："
   ]
  },
  {
   "cell_type": "code",
   "execution_count": 6,
   "metadata": {},
   "outputs": [
    {
     "name": "stdout",
     "output_type": "stream",
     "text": [
      "Prior: {'Bow1': 0.5, 'Bow2': 0.5}\n",
      "Non-normalized Posterior: {'Bow1': 0.375, 'Bow2': 0.25}\n",
      "Normalized Posterior: {'Bow1': 0.6000000000000001, 'Bow2': 0.4}\n"
     ]
    }
   ],
   "source": [
    "from thinkbayes import Pmf\n",
    "\n",
    "pmf = Pmf() # 包含每個假設的先驗機率就是稱作先驗分佈\n",
    "pmf.Set('Bow1', 0.5)\n",
    "pmf.Set('Bow2', 0.5)\n",
    "print('Prior:', pmf.GetDict())\n",
    "\n",
    "# 接下來要依據看到的資料（抽到的香草餅乾），我們將每個先驗機率乘以對應的似然性。\n",
    "# 依據問題\n",
    "#   從 Bow1 抽出香草餅乾的似然性(likelihood)為 3/4\n",
    "#   從 Bow2 抽出香草餅乾的似然性為 1/2\n",
    "# 所以我們將 Posterior = Prior * Likelihood\n",
    "\n",
    "pmf.Mult('Bow1', 0.75)\n",
    "pmf.Mult('Bow2', 0.5)\n",
    "print('Non-normalized Posterior:', pmf.GetDict())\n",
    "\n",
    "# 由於假設組有符合彼此獨立、互無遺漏(MECE) 的原則\n",
    "# 所以我們可以再做一次正規化\n",
    "\n",
    "pmf.Normalize()\n",
    "print('Normalized Posterior:', pmf.GetDict())\n",
    "\n",
    "# 最後的結果就是這個分佈 Pmf 物件包含所有假設的後驗機率，所以目前的 Pmf 物件代表的是後驗機率。\n",
    "# 可以看到 Bow1 的後驗機率為 0.6"
   ]
  },
  {
   "cell_type": "markdown",
   "metadata": {},
   "source": [
    "由上述的例子，可以充分感受到所謂的歷時解釋。\n",
    "\n",
    "**在時間 1 時產生的後驗分佈，可以做為時間 2 的先驗分佈。**\n",
    "\n",
    "我們可以隨著看到的資料，**不斷的更新分佈**。"
   ]
  }
 ],
 "metadata": {
  "kernelspec": {
   "display_name": "Python 3",
   "language": "python",
   "name": "python3"
  },
  "language_info": {
   "codemirror_mode": {
    "name": "ipython",
    "version": 3
   },
   "file_extension": ".py",
   "mimetype": "text/x-python",
   "name": "python",
   "nbconvert_exporter": "python",
   "pygments_lexer": "ipython3",
   "version": "3.6.6"
  }
 },
 "nbformat": 4,
 "nbformat_minor": 2
}
