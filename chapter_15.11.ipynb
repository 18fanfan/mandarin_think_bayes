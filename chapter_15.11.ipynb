{
 "cells": [
  {
   "cell_type": "markdown",
   "metadata": {},
   "source": [
    "# 章節 15：維度處理\n",
    "\n",
    "## 15.11 聯合分佈\n",
    "\n",
    "我們用模擬的方式可以估計 num_new 和 k 的聯合分佈，從聯合分佈可以得到 P(num_new | k) 的機率分佈。\n",
    "\n",
    "<pre>\n",
    "def MakeJointPredictive(curves):\n",
    "    joint = thinkbayes.Joint()\n",
    "    for curve in curves:\n",
    "        for k, num_new in curve:\n",
    "            joint.Incr((k, num_new))\n",
    "            \n",
    "    joint.Normalize()\n",
    "    return joint\n",
    "</pre>\n",
    "\n",
    "- MakeJointPredictive 方法產生一個 Joint 物件，它是一個包含 tuple 的 Pmf\n",
    "- curve 是一序列由 RunSimulation 方法產生的稀釋性曲線（rarefaction curve）。每一個 curve 包含一連串的 (k, num_new)\n",
    "- joint 分佈物件是每個 (k, num_new) 出現次數的機率\n",
    "\n",
    "給定聯合分佈，我們可用 Joint.Conditional 方法得到 P(num_new | k) 的分佈，參考 9.6 小節。\n",
    "\n",
    "Subject.MakeContionals 用一序列的 ks 計算對每個不同的 k 下的 num_new 分佈。回傳的結果是一序列的 Cdf 物件。\n",
    "\n",
    "<pre>\n",
    "def MakeConditionals(curves, ks):\n",
    "    joint = MakeJointPredictive(curves)\n",
    "    cdfs = []\n",
    "    for k in ks:\n",
    "        pmf = joint.Conditional(1, 0, k)\n",
    "        pmf.name = 'k=%d' % k\n",
    "        cdf = pmf.MakeCdf()\n",
    "        cdfs.append(cdf)\n",
    "    return cdfs\n",
    "</pre>"
   ]
  },
  {
   "cell_type": "code",
   "execution_count": 1,
   "metadata": {},
   "outputs": [],
   "source": [
    "#TODO"
   ]
  },
  {
   "cell_type": "markdown",
   "metadata": {},
   "source": [
    "上圖為結果。在 100 個測序片段，預測新物種數量的中位數是 2；90% 的信賴區間是 0 到 5。在 800 個測序片段，我們期望看到 3 到 12 種新物種。"
   ]
  }
 ],
 "metadata": {
  "kernelspec": {
   "display_name": "Python 3",
   "language": "python",
   "name": "python3"
  },
  "language_info": {
   "codemirror_mode": {
    "name": "ipython",
    "version": 3
   },
   "file_extension": ".py",
   "mimetype": "text/x-python",
   "name": "python",
   "nbconvert_exporter": "python",
   "pygments_lexer": "ipython3",
   "version": "3.6.6"
  }
 },
 "nbformat": 4,
 "nbformat_minor": 2
}
