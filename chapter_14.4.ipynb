{
 "cells": [
  {
   "cell_type": "markdown",
   "metadata": {},
   "source": [
    "# 章節 14：階層式模型\n",
    "\n",
    "## 14.4 一點點優化\n",
    "\n",
    "上一小節的程式碼，你可能注意到 SuiteLikelihood；我們在 11.2 小節也看過。當時，我們並不真的需要是因為 SuiteLikelihood 加總的機率是精確等於正規化的常數，並且是 Update 函數回傳的數值。\n",
    "\n",
    "所以不要先更新 Emitter 更新其下的 Detector 組，我們可以同時做這兩件事，用 Detector.Update 作為 Emitter 的 Likelihood 的結果。\n",
    "以下是更改過後的程式碼，請注意 Emitter.Likelihood 方法的差異："
   ]
  },
  {
   "cell_type": "code",
   "execution_count": 1,
   "metadata": {},
   "outputs": [],
   "source": [
    "import thinkbayes as tb\n",
    "import numpy as np\n",
    "import matplotlib.pyplot as plt\n",
    "\n",
    "def plot_dist(dist, c=None):\n",
    "    x, y = zip(*sorted(dist.Items()))\n",
    "    plt.plot(x, y, c=c)\n",
    "\n",
    "class Detector(tb.Suite):\n",
    "    \n",
    "    def __init__(self, r, f, high=500, step=1):\n",
    "        \n",
    "        # r 表示平均發射頻率\n",
    "        # high：最高可能的粒子數\n",
    "        # step：發射量的間距\n",
    "        \n",
    "        # n 服從 Poisson 分佈\n",
    "        pmf = tb.MakePoissonPmf(r, high, step=step)\n",
    "        super().__init__(pmf, name=r)\n",
    "        \n",
    "        self.r = r\n",
    "        self.f = f\n",
    "    \n",
    "    \n",
    "    def Likelihood(self, data, hypo):\n",
    "        # data: 多少顆粒被偵測到\n",
    "        k = data\n",
    "        \n",
    "        # hypo: 假設發射出 n 顆粒子\n",
    "        n = hypo\n",
    "        \n",
    "        # p: 偵測率\n",
    "        p = self.f\n",
    "        \n",
    "        # 假設發出 n 顆粒子，在偵測率 p 的情況下，實際被偵測到 k 顆粒子的似然性\n",
    "        return tb.EvalBinomialPmf(k, n, p)\n",
    "    \n",
    "    \n",
    "    def SuiteLikelihood(self, data):\n",
    "        total = 0\n",
    "        \n",
    "        for n, prob in self.Items():\n",
    "            total += prob*self.Likelihood(data, n)\n",
    "        \n",
    "        return total\n",
    "        \n",
    "        \n",
    "\n",
    "class Emitter(tb.Suite):\n",
    "    \n",
    "    def __init__(self, rs, f=0.1):\n",
    "        # rs 是一序列的發射率 r\n",
    "        \n",
    "        # detectors 為一序列針對不同的 r 的 Detector 物件\n",
    "        detectors = [Detector(r, f) for r in rs]\n",
    "        \n",
    "        # Emitter 分佈的數值是 Detectors 物件\n",
    "        super().__init__(detectors)\n",
    "       \n",
    "    \n",
    "    def Items(self):\n",
    "        return [(detector.name, prob) for detector, prob in super().Items()]\n",
    "    \n",
    "    \n",
    "    def Likelihood(self, data, hypo):\n",
    "        detector = hypo\n",
    "        # 這邊看到 data 的 likelihood 就是 detector 整個分佈的加權 likelihood\n",
    "        # 請參考 Detector.SuiteLikelihood()\n",
    "        # like = detector.SuiteLikelihood(data)\n",
    "        \n",
    "        # 直接更新每個 detector 的分佈，並且得到 detector 分佈的正規化常數\n",
    "        like = detector.Update(data)\n",
    "        return like\n",
    "        \n",
    "    # 將重載的 Updte 註解掉，因為用不到了\n",
    "    #def Update(self, data):\n",
    "    #    # 除了 Update 自己分佈的情況，也要 Update 每個子分佈\n",
    "    #    super().Update(data)\n",
    "    #    \n",
    "    #    # Update 每個子分佈\n",
    "    #    for detector in self.Values():\n",
    "    #        detector.Update(data)"
   ]
  },
  {
   "cell_type": "markdown",
   "metadata": {},
   "source": [
    "以上更動也可以讓 Emitter 用父類別的 Update 方法，而不需要重載。\n",
    "\n",
    "所以這個版本更短，而且更快，因為不需要計算正規化常數 2 次"
   ]
  },
  {
   "cell_type": "code",
   "execution_count": 2,
   "metadata": {},
   "outputs": [
    {
     "data": {
      "image/png": "[encoded data removed]",
      "text/plain": [
       "<Figure size 432x288 with 1 Axes>"
      ]
     },
     "metadata": {
      "needs_background": "light"
     },
     "output_type": "display_data"
    }
   ],
   "source": [
    "# 假設給定\n",
    "f = 0.1\n",
    "k = 15\n",
    "rs = np.linspace(0.1, 500, 100) # 粒子數/秒\n",
    "rate_dist = Emitter(rs)\n",
    "plot_dist(rate_dist)\n",
    "rate_dist.Update(k)\n",
    "plot_dist(rate_dist)\n",
    "plt.legend([\"r prior\", \"r posterior\"])\n",
    "plt.title(\"r PMF\")\n",
    "plt.show()"
   ]
  }
 ],
 "metadata": {
  "kernelspec": {
   "display_name": "Python 3",
   "language": "python",
   "name": "python3"
  },
  "language_info": {
   "codemirror_mode": {
    "name": "ipython",
    "version": 3
   },
   "file_extension": ".py",
   "mimetype": "text/x-python",
   "name": "python",
   "nbconvert_exporter": "python",
   "pygments_lexer": "ipython3",
   "version": "3.6.6"
  }
 },
 "nbformat": 4,
 "nbformat_minor": 2
}
