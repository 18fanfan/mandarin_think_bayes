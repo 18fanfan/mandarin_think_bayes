{
 "cells": [
  {
   "cell_type": "markdown",
   "metadata": {},
   "source": [
    "# 章節 14：階層式模型\n",
    "\n",
    "## 14.6 討論\n",
    "\n",
    "Geiger 計數器問題實驗了因果關係跟階層是模型的關係。這章例子，射出頻率 r 會影響粒子射出數量 n ，n 又會影響粒子被偵測的數量 k。\n",
    "\n",
    "階層式模型反映了此系統的結構，從最上層的原因到最後的影響。\n",
    "\n",
    "1. 從最上層，我們開始一段範圍的假設 r\n",
    "1. 對每個數值 r ，我們有一段範圍的 n，以及 n 帶有參數 r 的先驗分佈\n",
    "1. 當更新模型，我們由下而上更新。我們對每個 r 計算其 n 的後驗分佈，在計算 r 的後驗分佈。\n",
    "\n",
    "因此，因果資訊由上而下沿著階層結構流動，參數推論（inference）由下而上。"
   ]
  }
 ],
 "metadata": {
  "kernelspec": {
   "display_name": "Python 3",
   "language": "python",
   "name": "python3"
  },
  "language_info": {
   "codemirror_mode": {
    "name": "ipython",
    "version": 3
   },
   "file_extension": ".py",
   "mimetype": "text/x-python",
   "name": "python",
   "nbconvert_exporter": "python",
   "pygments_lexer": "ipython3",
   "version": "3.6.6"
  }
 },
 "nbformat": 4,
 "nbformat_minor": 2
}
