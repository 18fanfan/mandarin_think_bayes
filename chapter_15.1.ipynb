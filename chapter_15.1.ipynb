{
 "cells": [
  {
   "cell_type": "markdown",
   "metadata": {},
   "source": [
    "# 章節 15：維度處理\n",
    "\n",
    "## 15.1 肚臍細菌\n",
    "\n",
    "肚臍生物多樣性 2.0（BBB2）是全民的科學計畫，宗旨是想發現人類肚臍上的細菌物種。這個計畫感覺很詼諧，但這是關注生活在人體皮膚和身體部位的微生物。\n",
    "\n",
    "在他們的先期研究，BBB2 的研究員收集了來自 60 位自願者的肚臍試紙，使用多重焦磷酸測序提取和測序 16S rDNA 片段，然後鑑定片段來源的物種或屬種。每一個被辨識的片段稱為「read」。我們可以用這些資料回答多個相關的問題：\n",
    "\n",
    "- 基於觀察到的物種數量，我們能預估環境的物種數量嗎？\n",
    "- 我們可以估計每個物種的流行程度嗎？也就是每個物種在全體所佔的比例。\n",
    "- 如果我們計畫收集額外的樣本，我們可以預測我們可能發現新物種的數量嗎？\n",
    "- 需要多少額外的「read」才能將觀察物種的比例增加到特定的門檻值？\n",
    "\n",
    "上述問題個成了**未見的物種問題**。"
   ]
  }
 ],
 "metadata": {
  "kernelspec": {
   "display_name": "Python 3",
   "language": "python",
   "name": "python3"
  },
  "language_info": {
   "codemirror_mode": {
    "name": "ipython",
    "version": 3
   },
   "file_extension": ".py",
   "mimetype": "text/x-python",
   "name": "python",
   "nbconvert_exporter": "python",
   "pygments_lexer": "ipython3",
   "version": "3.6.6"
  }
 },
 "nbformat": 4,
 "nbformat_minor": 2
}
