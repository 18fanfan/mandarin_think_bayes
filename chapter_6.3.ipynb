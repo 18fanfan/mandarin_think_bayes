{
 "cells": [
  {
   "cell_type": "markdown",
   "metadata": {},
   "source": [
    "## 章節 6：決策分析（Dicision Analysis）\n",
    "\n",
    "### 6.3 機率密度函數（Probability Density Functions）\n",
    "\n",
    "目前為止我們都是用機率質量函數（PMF）。一個 PMF 是一將數值與其發生機率對應的函數。在 thinkbayes.py 的實作中，Pmf 物件提供 Prob 方法回傳一個數值的機率，或稱作**機率質量(probability mass)**。\n",
    "\n",
    "一個機率密度函數（PDF）是連續版本的 PMF，其**可能的數值為一連續的範圍而非離散的數值組**。\n",
    "\n",
    "數學符號來說，PDF 通常寫成一個函數；例如下面是平均值為0，標準差為 1 的高斯分佈 PDF ：\n",
    "\n",
    "$$ f(x)=\\frac{1}{\\sqrt{2\\pi}} \\exp{(\\frac{-x^{2}}{2})} $$\n",
    "\n",
    "給定一個值 x ，這函數會計算**機率密度**。機率密度跟機率質量很像，越高的密度代表對應的數值可能性越大。\n",
    "\n",
    "但是**密度並不是機率**。密度可以是 0 或是任一正數；並且沒有上限，不像機率值是介於 0 跟 1 之間。\n",
    "\n",
    "如果你對密度函數做一連續範圍積分，那結果就是機率。但對本書的應用來說，我們很少需要這麼做。\n",
    "\n",
    "取而代之，我們主要用機率密度作為似然性函數（Likelihood）的一部分。等等就會看到例子。"
   ]
  }
 ],
 "metadata": {
  "kernelspec": {
   "display_name": "Python 3",
   "language": "python",
   "name": "python3"
  },
  "language_info": {
   "codemirror_mode": {
    "name": "ipython",
    "version": 3
   },
   "file_extension": ".py",
   "mimetype": "text/x-python",
   "name": "python",
   "nbconvert_exporter": "python",
   "pygments_lexer": "ipython3",
   "version": "3.6.6"
  }
 },
 "nbformat": 4,
 "nbformat_minor": 2
}
