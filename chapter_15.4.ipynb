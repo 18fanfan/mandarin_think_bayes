{
 "cells": [
  {
   "cell_type": "markdown",
   "metadata": {},
   "source": [
    "# 章節 15：維度處理\n",
    "\n",
    "## 15.4 隨機取樣\n",
    "\n",
    "有兩種方式從 Dirichlet 分佈隨機取樣。一種是用邊際 Beta 分佈，但在這種情況下你一次取一個種類並且縮放其他的種類，讓他們加起來為 1。(參考 http://en.wikipedia.org/wiki/Dirichlet_distribution#Random_number_generation)。\n",
    "\n",
    "另一個比較不明顯但比較快的方法是從 Gamma 分佈取樣並且用加總正規化：\n",
    "\n",
    "<pre>\n",
    "# class Dirichlet\n",
    "    def Random(self):\n",
    "        p = numpy.random.gamma(self.params)\n",
    "        return p / p.sum()\n",
    "</pre>\n",
    "\n",
    "現在我們可以看一些結果。這邊是產生 n 的後驗分佈的程式碼：\n",
    "<pre>\n",
    "def DistOfN(self):\n",
    "    pmf = thinkbayes.Pmf()\n",
    "    for hypo, prob in self.Items():\n",
    "        pmf.Set(hypo.n, prob)\n",
    "    return pmf\n",
    "</pre>\n",
    "\n",
    "DistOfN 迭代所有上層假設的 n 並且累積所有假設的機率。"
   ]
  },
  {
   "cell_type": "code",
   "execution_count": 66,
   "metadata": {},
   "outputs": [
    {
     "data": {
      "text/plain": [
       "0.8416209365048308"
      ]
     },
     "execution_count": 66,
     "metadata": {},
     "output_type": "execute_result"
    },
    {
     "data": {
      "image/png": "[encoded data removed]",
      "text/plain": [
       "<Figure size 432x288 with 1 Axes>"
      ]
     },
     "metadata": {
      "needs_background": "light"
     },
     "output_type": "display_data"
    }
   ],
   "source": [
    "import thinkbayes as tb\n",
    "import matplotlib.pyplot as plt\n",
    "import numpy as np\n",
    "\n",
    "np.random.seed(0)\n",
    "\n",
    "\n",
    "def plot_dist(dist, c=None):\n",
    "    x, y = zip(*sorted(dist.Items()))\n",
    "    plt.plot(x, y, c=c)\n",
    "\n",
    "    \n",
    "class Species(tb.Suite):\n",
    "\n",
    "    def __init__(self, ns):\n",
    "        # ns: 一序列可能的物種數量\n",
    "        \n",
    "        # 產生一序列的 Dirichlet 物件\n",
    "        hypos = [tb.Dirichlet(n) for n in ns]\n",
    "        \n",
    "        tb.Suite.__init__(self, hypos)\n",
    "\n",
    "        \n",
    "    def Update(self, data):\n",
    "        # 更新下層的每個假設\n",
    "        for hypo in self.Values():\n",
    "            if hypo.n < len(data):\n",
    "                continue\n",
    "                \n",
    "            hypo.Update(data)\n",
    "        \n",
    "        # 更新上層假設\n",
    "        tb.Suite.Update(self, data)\n",
    "                               \n",
    "    \n",
    "    def Likelihood(self, data, hypo):\n",
    "        # data: 一序列觀察到的次數\n",
    "\n",
    "        # hypo 是一個 Dirichlet 物件\n",
    "        dirichlet = hypo\n",
    "        like = 0\n",
    "        for i in range(100):\n",
    "\n",
    "            # 呼叫 Dirichlet.Likelihood 方法 1000 次，並且加總\n",
    "            like += dirichlet.Likelihood(data)\n",
    "\n",
    "        return like\n",
    "    \n",
    "    \n",
    "    def DistOfN(self):\n",
    "        pmf = tb.Pmf()\n",
    "        for hypo, prob in self.Items():\n",
    "            pmf.Set(hypo.n, prob)\n",
    "        return pmf\n",
    "    \n",
    "\n",
    "ns = range(3, 30)\n",
    "suite = Species(ns)\n",
    "suite.Update([3, 2, 1])\n",
    "\n",
    "\n",
    "pmf = suite.DistOfN()\n",
    "\n",
    "plot_dist(pmf)\n",
    "cdf = pmf.MakeCdf()\n",
    "cdf.Prob(7)"
   ]
  },
  {
   "cell_type": "markdown",
   "metadata": {},
   "source": [
    "上圖為後驗分佈的結果，3 到 7 種物種最有可能（CDF 大約為 84%）;在 7 種物種之後就下降很快。29 種物種的可能性幾乎可以不考慮；如果我們選一個更高的物種上限，也會得到差不多的結果。\n",
    "\n",
    "我們的 n 物種的先驗分佈是用均勻分佈。如果我們的有更多關於物種數量的背景知識，可能可以選擇不同的先驗分佈。"
   ]
  }
 ],
 "metadata": {
  "kernelspec": {
   "display_name": "Python 3",
   "language": "python",
   "name": "python3"
  },
  "language_info": {
   "codemirror_mode": {
    "name": "ipython",
    "version": 3
   },
   "file_extension": ".py",
   "mimetype": "text/x-python",
   "name": "python",
   "nbconvert_exporter": "python",
   "pygments_lexer": "ipython3",
   "version": "3.6.6"
  }
 },
 "nbformat": 4,
 "nbformat_minor": 2
}
