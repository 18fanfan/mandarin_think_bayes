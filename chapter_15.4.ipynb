{
 "cells": [
  {
   "cell_type": "markdown",
   "metadata": {},
   "source": [
    "# 章節 15：維度處理\n",
    "\n",
    "## 15.4 隨機取樣\n",
    "\n",
    "有兩種方式從 Dirichlet 分佈隨機取樣。一種是用邊際 Beta 分佈，但在這種情況下你一次取一個種類並且縮放其他的種類，讓他們加起來為 1。(參考 http://en.wikipedia.org/wiki/Dirichlet_distribution#Random_number_generation)。\n",
    "\n",
    "另一個比較不明顯但比較快的方法是從 Gamma 分佈取樣並且用加總正規化：\n",
    "\n",
    "<pre>\n",
    "# class Dirichlet\n",
    "    def Random(self):\n",
    "        p = numpy.random.gamma(self.params)\n",
    "        return p / p.sum()\n",
    "</pre>\n",
    "\n",
    "\n",
    "Now we’re ready to look at some results. Here is the code that extracts the posterior distribution of n:\n",
    "    def DistOfN(self):\n",
    "        pmf = thinkbayes.Pmf()\n",
    "        for hypo, prob in self.Items():\n",
    "            pmf.Set(hypo.n, prob)\n",
    "        return pmf\n",
    "DistOfN iterates through the top-level hypotheses and accumulates the probability of each n.\n",
    "Figure 15.2 shows the result. The most likely value is 4. Values from 3 to 7 are reasonably likely; after that the probabilities drop off quickly. The probability that there are 29 species is low enough to be negligible; if we chose a higher bound, we would get nearly the same result.\n",
    "\n",
    "Remember that this result is based on a uniform prior for n. If we have background information about the number of species in the environment, we might choose a different prior."
   ]
  }
 ],
 "metadata": {
  "kernelspec": {
   "display_name": "Python 3",
   "language": "python",
   "name": "python3"
  },
  "language_info": {
   "codemirror_mode": {
    "name": "ipython",
    "version": 3
   },
   "file_extension": ".py",
   "mimetype": "text/x-python",
   "name": "python",
   "nbconvert_exporter": "python",
   "pygments_lexer": "ipython3",
   "version": "3.6.6"
  }
 },
 "nbformat": 4,
 "nbformat_minor": 2
}
