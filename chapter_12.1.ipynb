{
 "cells": [
  {
   "cell_type": "markdown",
   "metadata": {},
   "source": [
    "# 章節 12：證據\n",
    "\n",
    "## 12.1 解讀 SAT 分數\n",
    "\n",
    "架設你是一位在馬薩諸塞洲的小型工程大學入學院長，你目前考慮兩個候選人，Alice 和 Bob，他們的資格在很多方面都很相似，除了 Alice 在 SAT 的數學部分獲得較高的分數（在衡量大學數學準備工作的標準化考試。）\n",
    "\n",
    "如果 Alice 得到 780 分和 Bob 得到 740 分（總共 800 分），你可能想知道這個證據的差別是否說明 Alice 準備的比 Bob 好。在現實上，兩者的分數都非常好，兩者都可能已經為大學數學做好了準備。所以真實的入學院長建議我們選擇在其他技能好的表現以及態度。但當作一個貝葉斯假設檢驗的例子，我們鎖定一個較小的問題：「說明 Alice 準備的比 Bob 好的證據有多強烈？」\n",
    "\n",
    "為了回答這個問題，我們需要做模型的選擇。先從簡化的情況開始這不真實；之後我們再來改進這個模型。先暫時假設所有 SAT 的問題的難度都一樣。事實上，設計者選擇 SAT 的問題是有一個難度的區間，因為這提高了測量考生之間統計差異的能力。\n",
    "\n",
    "但我們選擇一個模型假設所有 SAT 的問題的難度都一樣，我們可以定義一個特徵 p_correct 代表對每一個測試者答對任何一題的機率。這個簡化讓我們容易計算一個給定分數的似然性。"
   ]
  }
 ],
 "metadata": {
  "kernelspec": {
   "display_name": "Python 3",
   "language": "python",
   "name": "python3"
  },
  "language_info": {
   "codemirror_mode": {
    "name": "ipython",
    "version": 3
   },
   "file_extension": ".py",
   "mimetype": "text/x-python",
   "name": "python",
   "nbconvert_exporter": "python",
   "pygments_lexer": "ipython3",
   "version": "3.6.6"
  }
 },
 "nbformat": 4,
 "nbformat_minor": 2
}
