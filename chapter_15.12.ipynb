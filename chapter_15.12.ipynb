{
 "cells": [
  {
   "cell_type": "markdown",
   "metadata": {},
   "source": [
    "# 章節 15：維度處理\n",
    "\n",
    "## 15.12 覆蓋的範圍\n",
    "\n",
    "最後一個問題是「需要多少額外的讀數才能將觀察到的物種的比例增加到給定的門檻值？」\n",
    "\n",
    "要回答此問題，我們需要另一個 RunSimulation 的版本計算觀察到的物種比例而非新觀察到的物種。\n",
    "\n",
    "<pre>\n",
    "# class Subject\n",
    "    def RunSimulation(self, num_reads):\n",
    "        m, seen = self.GetSeenSpecies()\n",
    "        n, observations = self.GenerateObservations(num_reads)\n",
    "        curve = []\n",
    "        for k, obs in enumerate(observations):\n",
    "            seen.add(obs)\n",
    "            frac_seen = len(seen) / float(n)\n",
    "            curve.append((k+1, frac_seen))\n",
    "            \n",
    "        return curve\n",
    "</pre>\n",
    "\n",
    "接下來我們迭代每個 curve 產生一個字典 d，它把 k 個測序片段對應到一序列的 fracs ，也就是一序列在看到 k 個測序片段後觀察到物種的比例。\n",
    "\n",
    "<pre>\n",
    "    def MakeFracCdfs(self, curves):\n",
    "        d = {}\n",
    "        for curve in curves:\n",
    "            for k, frac in curve:\n",
    "                d.setdefault(k, []).append(frac)\n",
    "                \n",
    "        cdfs = {}\n",
    "        for k, fracs in d.iteritems():\n",
    "            cdf = thinkbayes.MakeCdfFromList(fracs)\n",
    "            cdfs[k] = cdf\n",
    "            \n",
    "        return cdfs\n",
    "</pre>\n",
    "\n",
    "對每一個 k 我們將 fracs 產生一個 Cdf；這個 Cdf 代表看到 k 個測序片段後觀察到物種的覆蓋比例分佈。Cdf 可以知道在某個門檻值之下的機率，所以互補的 Cdf 可以知道超過門檻值得機率。"
   ]
  },
  {
   "cell_type": "code",
   "execution_count": 2,
   "metadata": {},
   "outputs": [],
   "source": [
    "#TODO"
   ]
  },
  {
   "cell_type": "markdown",
   "metadata": {},
   "source": [
    "上圖是不同 k 值互補 CDFs 的圖型。\n",
    "\n",
    "To read this figure, select the level of coverage you want to achieve along the x-axis. As an example, choose 90%.\n",
    "Now you can read up the chart to find the probability of achieving 90% coverage after k reads. For example, with 200 reads, you have about a 40% chance of getting 90% coverage. With 1000 reads, you have a 90% chance of getting 90% coverage.\n",
    "\n",
    "有了上圖，我們已經回答了構成看不見的物種問題的四個問題。為了驗證本章的演算法在真實資料的表現，作者需要處理更多的細節。但本章節已經太多篇幅累，所以這邊就此打住。\n",
    "\n",
    "你可以在此閱讀作者如何解決此問題：http://allendowney.blogspot.com/2013/05/belly-button-biodiversity-end-game.html\n",
    "\n",
    "你可以在此下載作者的程式碼：http://thinkbayes.com/species.py\n"
   ]
  }
 ],
 "metadata": {
  "kernelspec": {
   "display_name": "Python 3",
   "language": "python",
   "name": "python3"
  },
  "language_info": {
   "codemirror_mode": {
    "name": "ipython",
    "version": 3
   },
   "file_extension": ".py",
   "mimetype": "text/x-python",
   "name": "python",
   "nbconvert_exporter": "python",
   "pygments_lexer": "ipython3",
   "version": "3.6.6"
  }
 },
 "nbformat": 4,
 "nbformat_minor": 2
}
