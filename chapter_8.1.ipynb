{
 "cells": [
  {
   "cell_type": "markdown",
   "metadata": {},
   "source": [
    "# 章節 8：觀察者偏誤（Observer Bias）\n",
    "\n",
    "## 8.1 紅線問題\n",
    "\n",
    "馬薩諸塞（Massachusetts），紅線是連接劍橋跟波士頓的地下鐵。當作者在劍橋工作時，他搭乘紅線從 Kendall 廣場到南站，並乘坐通勤鐵路到 Needham。在尖峰時刻紅線的火車平均每班約 7-8 分鐘。\n",
    "\n",
    "當我抵達火車站，我會看現在月台上有多少乘客來估計下一班火車到達的時間。如果只有一些人，我推測當時火車剛走，並且預期大約等 7 分鐘。如果有很多乘客，我預期火車即將到站。但如果有非常大量的乘客，我懷疑火車誤點，所以我會回到街上搭計程車。\n",
    "\n",
    "當我在等火車時，我在思考貝葉斯估計可以幫助我預測等待火車的時間，並且決定何時我該放棄去搭計程車。這章介紹我提出的分析方法。\n",
    "\n",
    "這章是基於 Brendan Ritter 和 Kai Austin 在我 Olin 大學課堂上的專案。\n",
    "\n",
    "- 你可以在此下載作者本章的程式碼：http://thinkbayes.com/redline.py\n",
    "- 作者抓資料的程式碼：http://thinkbayes.com/redline_data.py"
   ]
  }
 ],
 "metadata": {
  "kernelspec": {
   "display_name": "Python 3",
   "language": "python",
   "name": "python3"
  },
  "language_info": {
   "codemirror_mode": {
    "name": "ipython",
    "version": 3
   },
   "file_extension": ".py",
   "mimetype": "text/x-python",
   "name": "python",
   "nbconvert_exporter": "python",
   "pygments_lexer": "ipython3",
   "version": "3.6.6"
  }
 },
 "nbformat": 4,
 "nbformat_minor": 2
}
