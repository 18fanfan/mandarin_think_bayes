{
 "cells": [
  {
   "cell_type": "markdown",
   "metadata": {},
   "source": [
    "## 章節 2：計算統計學 (Computational Statistics)\n",
    "\n",
    "### 2.5 封裝框架（Encapsulating the framework）\n",
    "\n",
    "從餅乾問題到蒙提霍爾問題，可以發現基本架構是一樣的，我們用一個類別 Suite 來封裝整個框架。\n",
    "這個 Suite 類別提供 __init__, Update, Print 方法：\n",
    "\n",
    "<pre>\n",
    "class Suite(Pmf):\n",
    "\"\"\"表示一組假設跟他們對應的機率\"\"\"\n",
    "\n",
    "    def __init__(self, hypo=tuple()):\n",
    "        \"\"\"初始化機率分佈\"\"\"\n",
    "        \n",
    "    def Update(self, data):\n",
    "        \"\"\"根據看到的資料更新每個假設的機率\"\"\"\n",
    "        \n",
    "    def Print(self):\n",
    "        \"\"\"打印所有假設跟其對應的機率\"\"\"\n",
    "</pre>\n",
    "\n",
    "\n",
    "Suite 類別的實作也在 thinkbayes.py 中。\n",
    "要使用 Suite 類別，你應該寫個類別去繼承它，並且實作 Likelihood 方法。\n",
    "\n",
    "例如，改寫程式碼利用 Suite 類別解決蒙提霍爾問題。"
   ]
  },
  {
   "cell_type": "code",
   "execution_count": 5,
   "metadata": {},
   "outputs": [
    {
     "name": "stdout",
     "output_type": "stream",
     "text": [
      "A 0.3333333333333333\n",
      "B 0.0\n",
      "C 0.6666666666666666\n"
     ]
    }
   ],
   "source": [
    "from thinkbayes import Suite\n",
    "\n",
    "class Monty(Suite):\n",
    "    \n",
    "    def Likelihood(self, data, hypo):\n",
    "        if hypo == data:\n",
    "            return 0.0\n",
    "        elif hypo == 'A':\n",
    "            return 0.5\n",
    "        else:\n",
    "            return 1.0\n",
    "        \n",
    "suite = Monty('ABC')\n",
    "suite.Update('B')\n",
    "suite.Print() # 結果跟章節 2.4 一樣"
   ]
  }
 ],
 "metadata": {
  "kernelspec": {
   "display_name": "Python 3",
   "language": "python",
   "name": "python3"
  },
  "language_info": {
   "codemirror_mode": {
    "name": "ipython",
    "version": 3
   },
   "file_extension": ".py",
   "mimetype": "text/x-python",
   "name": "python",
   "nbconvert_exporter": "python",
   "pygments_lexer": "ipython3",
   "version": "3.6.6"
  }
 },
 "nbformat": 4,
 "nbformat_minor": 2
}
