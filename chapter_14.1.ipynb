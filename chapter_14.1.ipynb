{
 "cells": [
  {
   "cell_type": "markdown",
   "metadata": {},
   "source": [
    "# 章節 14：階層式模型\n",
    "\n",
    "## 14.1 Geiger 計數器問題\n",
    "\n",
    "本章文題是來自 Tom Campbell-Ricketts 的 Maximum Entropy 部落格 http://maximum-entropy-blog.blogspot.com\n",
    "\n",
    "而 Tom Campbell-Ricketts 的想法是來自 Probability Theory: The Logic of Science 的作者 E. T. Jaynes。\n",
    "\n",
    "> 假設有個放射源朝向 Geiger 計數器射出粒子，平均數量為 r 顆/秒，但是計數器只會記錄打中的部分比例（f）的粒子。如果 f 是 10% 並且計數器記錄到每秒 15 顆，請問真實打到計數器的粒子數 n 的後驗分佈，還有平均射出的粒子數量 r 的後驗分佈是什麼？\n",
    "\n",
    "開始這類的問題，想想因果關係鏈。從系統的參數開始到觀察到的資料結束：\n",
    "\n",
    "1. 放射源射出粒子，平均射出量 r\n",
    "1. 在任意秒的期間，放射源朝向計數器射出 n 顆例子\n",
    "1. 在 n 顆粒子中只有 k 個粒子被記錄到\n",
    "\n",
    "粒子衰退的機率在任何時間點都相同，所以放射線衰變可以很好的用 Poisson 過程。n 是服從一個給定 r 參數的 Poisson 分佈。\n",
    "\n",
    "如果我們假設每顆例子偵測的機率是獨立的，k 是服從一個給定參數 n 和 f 的二項次分佈。\n",
    "\n",
    "給定系統的參數，我們能找到資料的分佈。這個問題就是前向問題（forward problem）。\n",
    "\n",
    "現在反過來看：給定資料，我們想要找到系統的參數。這稱為反向問題（inverse problem）。\n",
    "\n",
    "如果你可以解決前向問題，那你可以**用貝葉斯方法解決反向問題**。"
   ]
  }
 ],
 "metadata": {
  "kernelspec": {
   "display_name": "Python 3",
   "language": "python",
   "name": "python3"
  },
  "language_info": {
   "codemirror_mode": {
    "name": "ipython",
    "version": 3
   },
   "file_extension": ".py",
   "mimetype": "text/x-python",
   "name": "python",
   "nbconvert_exporter": "python",
   "pygments_lexer": "ipython3",
   "version": "3.6.6"
  }
 },
 "nbformat": 4,
 "nbformat_minor": 2
}
