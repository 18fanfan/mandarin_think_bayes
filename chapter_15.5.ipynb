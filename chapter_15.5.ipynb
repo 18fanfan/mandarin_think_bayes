{
 "cells": [
  {
   "cell_type": "markdown",
   "metadata": {},
   "source": [
    "# 章節 15：維度處理\n",
    "\n",
    "## 15.5 最佳化\n",
    "\n",
    "作者很自豪本章節的範例。沒看過物種的問題不簡單，而且解決方法很簡單且清楚，目前大約只有 50 行左右的程式碼。但唯一的問題是計算效率慢。\n",
    "\n",
    "對於只有觀察到三個物種來說還可以接受，但是對於肚臍上物種的資料，有超過 100 種物種的樣本。\n",
    "\n",
    "接下來幾個小節我們進行一連串的優化，擴大解決方法的規模。在我們進入細節之前，這邊先敘述優化的規劃。\n",
    "\n",
    "- 更新 Dirichlet 分佈都是用相同的觀察資料，前 m 個參數對所有的分佈來說都一樣，差別只在後面沒看過的物種數量。所以我們不需要 n 個 Dirichlet 物件來記錄；我們可以將參數儲存在最上層的物件。Species2 實作了這個優化。\n",
    "- Species2 對所有的假設用相同一組的隨機樣本。這節省隨機取樣的時間，而另一個更重要的好處是所有假設都是用相同的樣本，讓假設之間的比較更公平，用更少迭代達到收斂。\n",
    "- 在計算效率上還有一個主要的問題。當觀察的物種增加時，亂數的機率陣列變大，選擇到幾乎正確的機率變得更小。所以絕大多數迭代產生很小的 likelihood，對於總共的貢獻很少，如此很難區分假設之間的差異。解決辦法就是更新一次更新一個物種。Species4 簡單實作此策略，用 Dirichlet 物件來表示子假設。\n",
    "- Species5 結果所有子假設放到最高的層，而且用 numpy 陣列加速運算。\n",
    "\n",
    "如果你不在意實作細節，請直接跳到 15.9 小節看肚臍物種資料的實驗結果。"
   ]
  }
 ],
 "metadata": {
  "kernelspec": {
   "display_name": "Python 3",
   "language": "python",
   "name": "python3"
  },
  "language_info": {
   "codemirror_mode": {
    "name": "ipython",
    "version": 3
   },
   "file_extension": ".py",
   "mimetype": "text/x-python",
   "name": "python",
   "nbconvert_exporter": "python",
   "pygments_lexer": "ipython3",
   "version": "3.6.6"
  }
 },
 "nbformat": 4,
 "nbformat_minor": 2
}
