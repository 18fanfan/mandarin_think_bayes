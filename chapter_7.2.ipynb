{
 "cells": [
  {
   "cell_type": "markdown",
   "metadata": {},
   "source": [
    "## 章節 7：預測（Prediction）\n",
    "\n",
    "### 7.2 帕松過程（Poisson process）\n",
    "\n",
    "在數學統計上，一個過程是一個物理系統的隨機模型（stochastic model）。「隨機」意味著模型中存在某種隨機性。\n",
    "\n",
    "例如，伯努利過程（Bernoulli process）是一個一序列事件的模型，又稱試驗序列（trials）。每一次試驗只有兩種可能的結果，像是成功與失敗。所以伯努利過程對一連串投擲硬幣的事件，或是一連串的射門事件是很直覺的。\n",
    "\n",
    "帕松過程是連續版本的伯努利過程，每個時間點都有可能發生事件，且每個時間點發生的機率是一樣的。帕松過程可以用於模擬顧客到達商店，公車到達公車站或是冰球比賽得分。在很多真實的系統中，\n",
    "\n",
    "事件發生的機率是隨時間改變的。顧客較有可能在一天的某些時段來訪商店，公車應該以固定的區間到達，比賽中得分多寡會隨比賽情況而不同。\n",
    "\n",
    "但所有模型都基於簡化，這個例子用帕松過程來模擬冰球比賽還算合理的選擇。Heuer, Müller 和 Rubner (2010)分析德國足球聯盟的得分情形得到相同的結論；參考 http://www.cimat.mx/Eventos/vpec10/img/poisson.pdf\n",
    "\n",
    "用這個模型的好處是，我們可以有效率的計算每場比賽的得分分佈，如果每場比賽得分的平均是 lam ，則每場比賽得分的分佈可用 帕松 Pmf：\n",
    "\n",
    "<pre>\n",
    "def EvalPoissonPmf(k, lam):\n",
    "    return (lam)**k * math.exp(-lam) / math.factorial(k)\n",
    "</pre>\n",
    "\n",
    "兩次得分的時間間距分佈用 exponential PDF 表示：\n",
    "\n",
    "<pre>\n",
    "def EvalExponentialPdf(x, lam):\n",
    "    return lam * math.exp(-lam * x)\n",
    "</pre>\n",
    "\n",
    "\n",
    "這邊用變數 lam 是因為 lambda 在 Python 中是一個保留字。上述兩個方法在 thinkbayes.py 都有提供。\n",
    "\n",
    "---\n",
    "\n",
    "這裡補充數學公式，用 λ 表示每場比賽得分的平均\n",
    "\n",
    "$$  Poisson(\\lambda)=\\frac{\\lambda^{k}}{k!} e^{-\\lambda} $$"
   ]
  }
 ],
 "metadata": {
  "kernelspec": {
   "display_name": "Python 3",
   "language": "python",
   "name": "python3"
  },
  "language_info": {
   "codemirror_mode": {
    "name": "ipython",
    "version": 3
   },
   "file_extension": ".py",
   "mimetype": "text/x-python",
   "name": "python",
   "nbconvert_exporter": "python",
   "pygments_lexer": "ipython3",
   "version": "3.6.6"
  }
 },
 "nbformat": 4,
 "nbformat_minor": 2
}
