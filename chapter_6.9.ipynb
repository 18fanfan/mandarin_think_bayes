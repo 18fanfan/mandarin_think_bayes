{
 "cells": [
  {
   "cell_type": "markdown",
   "metadata": {},
   "source": [
    "## 章節 6：決策分析（Dicision Analysis）\n",
    "\n",
    "### 6.9 討論\n",
    "\n",
    "貝葉斯估計得其中一項特徵是：**用後驗分佈表示結果**。古典的估計通常產生產生**點估計(point estimation)**或是**區間估計(interval estimation)**，如果此估算是你最後一個步驟，那也就足夠了。但如果你想要用估計的結果當作後續一連串分析的輸入，那點估計和區間估計通常不這麼有用。\n",
    "\n",
    "這章節的例字中，我們用後驗分佈計算最佳的出價。給定出價其回報是不對稱且非連續的（如果你出價過高，則你輸），所以很難用解析的方法解決問題。但是相對簡單用電腦計算的方法。\n",
    "\n",
    "貝葉斯思考的新手常常傾向於計算平均值或是最大似然估計來總結後驗分佈。如果這些就是你需要的，則這些總結就是有用的，但你可能一開始就不需要用貝葉斯的方法。\n",
    "\n",
    "貝葉斯方法最有用的地方在於，當你得到後驗分佈後，將其帶入下一步驟分析以做某種決策。就像是這章節所做的事情，或是做某些**預測**，在下一章節會看到。"
   ]
  }
 ],
 "metadata": {
  "kernelspec": {
   "display_name": "Python 3",
   "language": "python",
   "name": "python3"
  },
  "language_info": {
   "codemirror_mode": {
    "name": "ipython",
    "version": 3
   },
   "file_extension": ".py",
   "mimetype": "text/x-python",
   "name": "python",
   "nbconvert_exporter": "python",
   "pygments_lexer": "ipython3",
   "version": "3.6.6"
  }
 },
 "nbformat": 4,
 "nbformat_minor": 2
}
