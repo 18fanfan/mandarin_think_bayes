{
 "cells": [
  {
   "cell_type": "markdown",
   "metadata": {},
   "source": [
    "# 章節 13：模擬\n",
    "\n",
    "## 13.3 一個更通用的模型\n",
    "\n",
    "得知特定時間診斷腫瘤的大小，如果可以知道腫瘤在任意時間形成的機率是非常有用的；換句話說與年齡分佈的關係。\n",
    "\n",
    "為了找到分佈，這邊模擬腫瘤生長的情形來找到大小基於年齡的分佈 p(大小|年齡）。接著我們就可用貝葉斯方法找到年齡基於大小的分佈 p(年齡|大小）。\n",
    "\n",
    "模擬從一個小的腫瘤開始，並且由以下步驟構成：\n",
    "\n",
    "1. 從 RDT 的分佈中，取樣一個成長率\n",
    "1. 計算在某時間區間結束後腫瘤的大小\n",
    "1. 計算每個時間區間的腫瘤大小\n",
    "1. 重複直到腫瘤超過最大的大小\n",
    "\n",
    "初始的腫瘤大小，作者用 0.3 公分，因為小於此的腫瘤不太可能是有害的，並且不太可能具有快速生長所需的血液供應（參考：http://en.wikipedia.org/wiki/Carcinoma_in_situ ）\n",
    "\n",
    "作者用 245 天（約 8 個月）的時間區間，因為這個是資料量測的中位數。\n",
    "\n",
    "最大的大小作者用 20 公分。在資料集李被觀察到的大小事 1 到 12 公分，所以我們超過觀察的範圍，這不太會對結果造成太大的影響。\n",
    "\n",
    "模擬是基於一個很大的假設；增長率在每一個時間區間的取樣是獨立的，也就是説成長率跟年齡、大小或是上一個時間區間的生長率無關。\n",
    "\n",
    "在 13.7 小節，會重新考慮上述假設，並且考慮更細緻的模型。\n",
    "\n",
    "下一小節會實作模擬的過程。"
   ]
  }
 ],
 "metadata": {
  "kernelspec": {
   "display_name": "Python 3",
   "language": "python",
   "name": "python3"
  },
  "language_info": {
   "codemirror_mode": {
    "name": "ipython",
    "version": 3
   },
   "file_extension": ".py",
   "mimetype": "text/x-python",
   "name": "python",
   "nbconvert_exporter": "python",
   "pygments_lexer": "ipython3",
   "version": "3.6.6"
  }
 },
 "nbformat": 4,
 "nbformat_minor": 2
}
