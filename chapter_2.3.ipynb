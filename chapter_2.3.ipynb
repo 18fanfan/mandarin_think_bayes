{
 "cells": [
  {
   "cell_type": "markdown",
   "metadata": {},
   "source": [
    "## 章節 2：計算統計學 (Computational Statistics)\n",
    "\n",
    "### 2.3 貝葉斯框架（Bayesian Framework）\n",
    "\n",
    "再開始進入其他問題之前，作者想要重新撰寫之前的程式碼讓其更彈性。\n",
    "\n",
    "首先先用一個類別封裝（encapsulate）與此問題相關的程式碼："
   ]
  },
  {
   "cell_type": "code",
   "execution_count": 20,
   "metadata": {},
   "outputs": [
    {
     "name": "stdout",
     "output_type": "stream",
     "text": [
      "先驗分佈 {'Bowl1': 0.5, 'Bowl2': 0.5}\n",
      "後驗分佈 {'Bowl1': 0.6000000000000001, 'Bowl2': 0.4}\n"
     ]
    }
   ],
   "source": [
    "from thinkbayes import Pmf\n",
    "\n",
    "class Cookie(Pmf):\n",
    "    \n",
    "    mixes = { # P(D|H) 似然性分佈\n",
    "        'Bowl1': dict(vanilla=0.75, chocolate=0.25),\n",
    "        'Bowl2': dict(vanilla=0.5, chocolate=0.5),\n",
    "    }\n",
    "\n",
    "    \n",
    "    def __init__(self, hypos):\n",
    "        Pmf.__init__(self)\n",
    "        for hypo in hypos:\n",
    "            self.Set(hypo, 1) # 做均勻分佈（uniform distribution）\n",
    "        \n",
    "        self.Normalize()\n",
    "        \n",
    "        \n",
    "    def Update(self, data): # 更新機率\n",
    "        for hypo in self.Values(): # 拿到所有的假設\n",
    "            like = self.Likelihood(hypo, data)\n",
    "            self.Mult(hypo, like)\n",
    "        \n",
    "        self.Normalize()\n",
    "        \n",
    "    \n",
    "    def Likelihood(self, hypo, data): # 計算看到某個資料的似然性機率\n",
    "        mix = self.mixes[hypo]\n",
    "        like = mix[data]\n",
    "        return like\n",
    "    \n",
    "    \n",
    "\n",
    "# 就像之前的餅乾問題一樣，有兩個假設 Bow1, Bow2\n",
    "hypos = ['Bowl1', 'Bowl2']\n",
    "pmf = Cookie(hypos)\n",
    "print('先驗分佈', pmf.GetDict())\n",
    "\n",
    "pmf.Update('vanilla') # 抽到香草餅乾後更新分佈\n",
    "print('後驗分佈', pmf.GetDict())  # 答案跟上一章節的一樣"
   ]
  },
  {
   "cell_type": "markdown",
   "metadata": {},
   "source": [
    "上面的程式碼比上一章節的版本複雜。\n",
    "\n",
    "其中一個好處是我們可以任意的抽取多個餅乾（抽取後並放回碗中），來觀察其影響分佈的情況。"
   ]
  },
  {
   "cell_type": "code",
   "execution_count": 21,
   "metadata": {},
   "outputs": [
    {
     "name": "stdout",
     "output_type": "stream",
     "text": [
      "初始分佈 {'Bowl1': 0.5, 'Bowl2': 0.5}\n",
      "看到 vanilla 後分佈 {'Bowl1': 0.6000000000000001, 'Bowl2': 0.4}\n",
      "看到 chocolate 後分佈 {'Bowl1': 0.4285714285714286, 'Bowl2': 0.5714285714285714}\n",
      "看到 vanilla 後分佈 {'Bowl1': 0.5294117647058824, 'Bowl2': 0.4705882352941176}\n"
     ]
    }
   ],
   "source": [
    "hypos = ['Bowl1', 'Bowl2']\n",
    "pmf = Cookie(hypos)\n",
    "\n",
    "dataset = ['vanilla', 'chocolate', 'vanilla'] # 模擬抽取多個餅乾的情況\n",
    "print('初始分佈', pmf.GetDict())\n",
    "for data in dataset:\n",
    "    pmf.Update(data)\n",
    "    print('看到', data,'後分佈', pmf.GetDict()) \n",
    "    "
   ]
  },
  {
   "cell_type": "markdown",
   "metadata": {},
   "source": [
    "另一個好處是這個程式框架可以解決類似的問題。\n",
    "\n",
    "在下一章節我們就利用相同的框架解決蒙提霍爾問題（Monty Hall Problem）。"
   ]
  }
 ],
 "metadata": {
  "kernelspec": {
   "display_name": "Python 3",
   "language": "python",
   "name": "python3"
  },
  "language_info": {
   "codemirror_mode": {
    "name": "ipython",
    "version": 3
   },
   "file_extension": ".py",
   "mimetype": "text/x-python",
   "name": "python",
   "nbconvert_exporter": "python",
   "pygments_lexer": "ipython3",
   "version": "3.6.6"
  }
 },
 "nbformat": 4,
 "nbformat_minor": 2
}
