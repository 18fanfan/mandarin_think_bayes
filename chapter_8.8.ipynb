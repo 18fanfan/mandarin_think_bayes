{
 "cells": [
  {
   "cell_type": "markdown",
   "metadata": {},
   "source": [
    "# 章節 8：觀察者偏誤（Observer Bias）\n",
    "\n",
    "# TODO \n",
    "\n",
    "## 8.8 討論\n",
    "\n",
    "目前的分析都是假設每天乘客到達月台的頻率是固定的。這可能不是一個很差的假設，但有很明顯的例外。例如特別節日，會有大量乘客搭乘地下鐵。這種情況下 lam 的估計就太小了，導致 x 和 y 的估計太高。如果特別節日與重大延誤一樣常見，就需要將其納入考慮。我們可以用加入偶然的大數值來擴展 lam 的分佈。\n",
    "\n",
    "我們假設一開始知道分佈 z 。另一種情況是乘客可以估計 z ，但這不容易。一個乘客只能觀察到自己的等待時間 y 。除非你故意改搭下下一班車，你才能知道班距 z。但我可以對 zb 做推論。如果我知道當下有多少乘客等待，我們可以估計從上ㄧ班車次離開到現在的經過時間 x。接著觀察到 y。如果將 x 的後驗分佈加上 y，則得到觀察到的後驗分佈 zb。\n",
    "\n",
    "我們可以用這個分佈更新 zb \n",
    "\n",
    "We can use this distribution to update our beliefs about the distribution of\n",
    "zb. Finally, we can compute the inverse of BiasPmf to get from the distribution of zb to the distribution of z.\n",
    "I leave this analysis as an exercise for the reader. One suggestion: you\n",
    "should read Chapter 15 first. You can find the outline of a solution in\n",
    "http://thinkbayes.com/redline.py. For more information see Section 0.3."
   ]
  }
 ],
 "metadata": {
  "kernelspec": {
   "display_name": "Python 3",
   "language": "python",
   "name": "python3"
  },
  "language_info": {
   "codemirror_mode": {
    "name": "ipython",
    "version": 3
   },
   "file_extension": ".py",
   "mimetype": "text/x-python",
   "name": "python",
   "nbconvert_exporter": "python",
   "pygments_lexer": "ipython3",
   "version": "3.6.6"
  }
 },
 "nbformat": 4,
 "nbformat_minor": 2
}
