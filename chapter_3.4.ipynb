{
 "cells": [
  {
   "cell_type": "markdown",
   "metadata": {},
   "source": [
    "## 章節 3：估計 (Estimation)\n",
    "\n",
    "### 3.4 換個先驗分佈\n",
    "\n",
    "如果無法蒐集到更多的資料，另一個方法是用更多的背景知識來改進先驗分佈。\n",
    "\n",
    "其實我們不太有理由相信一家鐵路公司有 1000 台火車頭的機率跟只有 1 台的機率是一樣的。\n",
    "\n",
    "通過一些調查，我們可能可以找到一個鐵路公司擁有幾台火車頭的清單。或是訪談鐵路運輸的專家得到更多相關的資訊。\n",
    "\n",
    "但即使是沒有深入了解鐵路經濟學，我們還是可以做些有根據的猜測。\n",
    "\n",
    "在大多數領域中，小公司最多，中型公司次多，只有一兩家非常大的公司。事實上，公司的規模傾向符合冪律分佈（Power Law Distribution）。如 Robert Axtell 在 Science 中的報告一樣（但書中的連結失效）。\n",
    "\n",
    "這個冪律法則建議：\n",
    "\n",
    "- 有 1000 家的火車頭公司可能擁有少於 10 個火車頭\n",
    "- 有 100 家的火車頭公司可能擁有約 100 個火車頭\n",
    "- 有 10 家的火車頭公司可能擁有約 10000 個火車頭\n",
    "\n",
    "用數學上來說，冪律法則意味著公司數量跟擁有的火車頭數量成反比：\n",
    "\n",
    "$$PMF(x) \\propto \\Big(\\frac{1}{x}\\Big)^{\\alpha}$$ \n",
    "\n",
    "- x：擁有的火車頭數量\n",
    "- PMF(x)：對於火車頭數量的質量機率函數（Probability Mass Function）\n",
    "- $\\alpha$：是一個參數，通常設定接近 1(此參數跟下降的速度有關)\n",
    "\n",
    "參考下方 PMF(x) 對於不同的 alpha 值**取 log 作圖(因為可以放大差異)**，會發現橘色線條下降較快。"
   ]
  },
  {
   "cell_type": "code",
   "execution_count": 32,
   "metadata": {},
   "outputs": [
    {
     "data": {
      "image/png": "[encoded data removed]",
      "text/plain": [
       "<Figure size 432x288 with 1 Axes>"
      ]
     },
     "metadata": {
      "needs_background": "light"
     },
     "output_type": "display_data"
    }
   ],
   "source": [
    "import matplotlib.pyplot as plt\n",
    "import numpy as np\n",
    "\n",
    "x = np.arange(1, 1000)\n",
    "\n",
    "plt.plot(x, np.log(1/x)) # alpha = 1, 藍色線條\n",
    "plt.plot(x, np.log((1/x)**2)) # alpha = 2 橘色線條\n",
    "plt.show()"
   ]
  },
  {
   "cell_type": "markdown",
   "metadata": {},
   "source": [
    "接著我們改寫 Train 類別中的先驗分佈。"
   ]
  },
  {
   "cell_type": "code",
   "execution_count": 53,
   "metadata": {},
   "outputs": [
    {
     "name": "stdout",
     "output_type": "stream",
     "text": [
      "假設範圍 1 ~ 1000 在看到編號 [60, 30, 90] 後的期望值: 133.2752313750312\n",
      "假設範圍 1 ~ 500 在看到編號 [60, 30, 90] 後的期望值: 130.70846986256004\n",
      "假設範圍 1 ~ 2000 在看到編號 [60, 30, 90] 後的期望值: 133.99746308073065\n",
      "假設範圍 1 ~ 100000 在看到編號 [60, 30, 90] 後的期望值: 134.25408214850083\n"
     ]
    }
   ],
   "source": [
    "from thinkbayes import Suite\n",
    "\n",
    "\n",
    "class Train(Suite): # 將均勻分佈作為先驗分佈\n",
    "    \n",
    "    def Likelihood(self, data, hypo):\n",
    "        if data > hypo:\n",
    "            return 0.0\n",
    "\n",
    "        return 1.0/hypo\n",
    "\n",
    "\n",
    "class Train_PowerLaw(Train):\n",
    "    \n",
    "    def __init__(self, hypos, alpha=1.0):\n",
    "        super().__init__()\n",
    "        for hypo in hypos: # 將冪律分佈作為先驗分佈\n",
    "            self.Set(hypo, hypo**-alpha)\n",
    "            \n",
    "        self.Normalize()\n",
    "    \n",
    "\n",
    "def expected_values(hypos, data):\n",
    "    suite = Train_PowerLaw(hypos)\n",
    "    for datum in data:\n",
    "        suite.Update(datum)\n",
    "        \n",
    "    print(\"假設範圍\", hypos[0], \"~\", hypos[-1], \"在看到編號\", data,\"後的期望值:\", suite.Mean())\n",
    "    \n",
    "    \n",
    "data = [60, 30, 90]\n",
    "expected_values(range(1, 1001), data)\n",
    "expected_values(range(1, 501), data)\n",
    "expected_values(range(1, 2001), data)\n",
    "expected_values(range(1, 100001), data)"
   ]
  },
  {
   "cell_type": "markdown",
   "metadata": {},
   "source": [
    "可以看到對於不同的 N 所得到的後驗分佈期望值差異變小了。\n",
    "\n",
    "事實上對於任意大的 N 期望值大約收斂在 134（可以參考 N 從 1~100000 的例子）。\n",
    "\n",
    "下圖將依據不同先驗，均勻分佈或冪律分佈，所產生的後驗分佈做比較。可以看到用冪律分佈作為先驗分佈的情況下，N 為 700 台的機率幾乎為零（0.00012910），約只有均勻分佈在 N 為 700 台的機率的 1/5。"
   ]
  },
  {
   "cell_type": "code",
   "execution_count": 55,
   "metadata": {},
   "outputs": [
    {
     "name": "stdout",
     "output_type": "stream",
     "text": [
      "在看到 [60] 後火車頭數量為 700 台的機率, Train : 0.000506178675062559\n",
      "在看到 [60] 後火車頭數量為 700 台的機率, Train_PowerLaw : 0.00012910980381205072\n"
     ]
    },
    {
     "data": {
      "image/png": "[encoded data removed]",
      "text/plain": [
       "<Figure size 432x288 with 1 Axes>"
      ]
     },
     "metadata": {
      "needs_background": "light"
     },
     "output_type": "display_data"
    }
   ],
   "source": [
    "def plot_posterior(suite, data):\n",
    "    for datum in data:\n",
    "        suite.Update(datum)\n",
    "    \n",
    "    x, y = zip(*sorted(suite.Items()))\n",
    "    print(\"在看到\", data, \"後火車頭數量為 700 台的機率,\", suite.__class__.__name__,\":\", suite.Prob(700))\n",
    "    plt.plot(x, y)\n",
    "    \n",
    "data = [60]\n",
    "plot_posterior(Train(range(1, 1001)), data)\n",
    "plot_posterior(Train_PowerLaw(range(1, 1001)), data)"
   ]
  },
  {
   "cell_type": "markdown",
   "metadata": {},
   "source": [
    "所以將**冪律分佈作為先驗分佈是比較貼近真實情況的**，因為基於公司規模的訊息，還有上述的實驗中得知。\n",
    "\n",
    "你可以在此下載到作者的原始碼：http://www.greenteapress.com/thinkbayes/train3.py"
   ]
  }
 ],
 "metadata": {
  "kernelspec": {
   "display_name": "Python 3",
   "language": "python",
   "name": "python3"
  },
  "language_info": {
   "codemirror_mode": {
    "name": "ipython",
    "version": 3
   },
   "file_extension": ".py",
   "mimetype": "text/x-python",
   "name": "python",
   "nbconvert_exporter": "python",
   "pygments_lexer": "ipython3",
   "version": "3.6.6"
  }
 },
 "nbformat": 4,
 "nbformat_minor": 2
}
