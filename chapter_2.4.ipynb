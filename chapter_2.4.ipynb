{
 "cells": [
  {
   "cell_type": "code",
   "execution_count": null,
   "metadata": {},
   "outputs": [],
   "source": [
    "## 章節 2：計算統計學 (Computational Statistics)\n",
    "\n",
    "### 2.4 蒙提霍爾問題（Monty Hall Problem）\n",
    "\n",
    "要解決此問題，我們一樣先定義一個新的類別叫 Monty："
   ]
  },
  {
   "cell_type": "code",
   "execution_count": 4,
   "metadata": {},
   "outputs": [
    {
     "name": "stdout",
     "output_type": "stream",
     "text": [
      "先驗分佈： {'A': 0.3333333333333333, 'B': 0.3333333333333333, 'C': 0.3333333333333333}\n",
      "後驗分佈： {'A': 0.3333333333333333, 'B': 0.0, 'C': 0.6666666666666666}\n"
     ]
    }
   ],
   "source": [
    "from thinkbayes import Pmf\n",
    "\n",
    "class Monty(Pmf):\n",
    "    \n",
    "    def __init__(self, hypos): # 初始化函數與上章節的 Cookie 類別是一樣的\n",
    "        Pmf.__init__(self)\n",
    "        \n",
    "        for hypo in hypos:\n",
    "            self.Set(hypo, 1)\n",
    "        \n",
    "        self.Normalize()\n",
    "        \n",
    "    \n",
    "    def Update(self, data):\n",
    "        for hypo in hypos:\n",
    "            like = self.Likelihood(data, hypo)\n",
    "            self.Mult(hypo, like)\n",
    "            \n",
    "        self.Normalize()\n",
    "        \n",
    "        \n",
    "    def Likelihood(self, data, hypo):\n",
    "        if hypo == data:\n",
    "            return 0.0\n",
    "        elif hypo == 'A':\n",
    "            return 0.5\n",
    "        else:\n",
    "            return 1.0\n",
    "\n",
    "\n",
    "hypos = \"ABC\" # 汽車可能在門 A, B 或 C 後方\n",
    "pmf = Monty(hypos) # \n",
    "print('先驗分佈：', pmf.GetDict())\n",
    "pmf.Update('B') # 表示參賽者選擇了門 A，且主持人打開門 B\n",
    "print('後驗分佈：', pmf.GetDict())"
   ]
  },
  {
   "cell_type": "markdown",
   "metadata": {},
   "source": [
    "在上面的例子中，撰寫 Likelihood 方法有些複雜，但是此程式框架簡化了貝葉斯的分佈更新。"
   ]
  }
 ],
 "metadata": {
  "kernelspec": {
   "display_name": "Python 3",
   "language": "python",
   "name": "python3"
  },
  "language_info": {
   "codemirror_mode": {
    "name": "ipython",
    "version": 3
   },
   "file_extension": ".py",
   "mimetype": "text/x-python",
   "name": "python",
   "nbconvert_exporter": "python",
   "pygments_lexer": "ipython3",
   "version": "3.6.6"
  }
 },
 "nbformat": 4,
 "nbformat_minor": 2
}
