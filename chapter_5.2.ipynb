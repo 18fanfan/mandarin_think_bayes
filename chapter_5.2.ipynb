{
 "cells": [
  {
   "cell_type": "markdown",
   "metadata": {},
   "source": [
    "## 章節 5：發生比與分佈相加（Odds and Addends）\n",
    "\n",
    "### 5.2 用發生比表示的貝葉斯定理\n",
    "\n",
    "在第一章我用機率的形式表達貝葉斯定理：\n",
    "\n",
    "$$ p(H|D) = \\frac{p(H)p(D|H)}{P(D)} $$\n",
    "\n",
    "如果有兩個假設 A 和 B，我們可以寫出後驗機率的比率：\n",
    "\n",
    "$$ \\frac{p(H=A|D)}{p(H=B|D)} = \\frac{p(H=A)p(D|H=A)}{p(H=B)p(D|H=B)} $$\n",
    "\n",
    "請注意正規化常數 p(D) 在等式中被消除掉。\n",
    "\n",
    "如果 A 和 B 又符合彼此獨立，互不遺漏（MECE），則表示：\n",
    "\n",
    "$$ p(B) = 1 - p(A) $$\n",
    "\n",
    "所以我們可以將先驗機率與後驗機率的比率改成發生比的形式，用 o(A) 代表 A 的勝率：\n",
    "\n",
    "$$ o(H=A|D) = o(H=A)\\frac{p(D|H=A)}{p(D|H=B)} $$\n",
    "\n",
    "這就是發生比版本（Odds form）的貝葉斯定理。\n",
    "\n",
    "這種表示法比較易於在紙上或腦袋裡做貝葉斯更新。例如之前的餅乾問題：\n",
    "\n",
    "> 假設有兩碗餅乾。第一碗有 30 個香草餅乾和 10 個巧克力餅乾。第二碗有 20 個香草餅乾和 20 個巧克力餅乾。\n",
    "現在假設您在沒看的情況下隨機選擇一個碗中的餅乾。最後這個餅乾是香草餅乾。那這個餅乾從第一個碗抽出來的機率是多少？\n",
    "\n",
    "碗 1 的先驗機率是 50%，所以先驗發生比 = 1 : 1，或是 1。似然性的比例是\n",
    "\n",
    "$$ \\frac{3/4}{1/2} = \\frac{3}{2}$$\n",
    "\n",
    "所以後驗發生比 = 3 : 2，所以機率 p(H=A|D)為：\n",
    "\n",
    "$$ p(H=A|D) = \\frac{3}{3+2} = \\frac{3}{5} $$"
   ]
  }
 ],
 "metadata": {
  "kernelspec": {
   "display_name": "Python 3",
   "language": "python",
   "name": "python3"
  },
  "language_info": {
   "codemirror_mode": {
    "name": "ipython",
    "version": 3
   },
   "file_extension": ".py",
   "mimetype": "text/x-python",
   "name": "python",
   "nbconvert_exporter": "python",
   "pygments_lexer": "ipython3",
   "version": "3.6.6"
  }
 },
 "nbformat": 4,
 "nbformat_minor": 2
}
