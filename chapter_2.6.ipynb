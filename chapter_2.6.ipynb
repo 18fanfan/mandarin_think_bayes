{
 "cells": [
  {
   "cell_type": "markdown",
   "metadata": {},
   "source": [
    "## 章節 2：計算統計學 (Computational Statistics)\n",
    "\n",
    "### 2.6 M&M 問題\n",
    "\n",
    "我們利用 Suite 類別解決 M&M 問題。撰寫 Likelihood 方法固然棘手，但是其他的東西很直覺。\n",
    "首先需要將顏色混合的比例用 dictionary 表示。"
   ]
  },
  {
   "cell_type": "code",
   "execution_count": 13,
   "metadata": {},
   "outputs": [
    {
     "name": "stdout",
     "output_type": "stream",
     "text": [
      "A 0.7407407407407407\n",
      "B 0.2592592592592592\n"
     ]
    }
   ],
   "source": [
    "from thinkbayes import Suite\n",
    "\n",
    "class MM(Suite):\n",
    "    \n",
    "    mix94 = dict(brown=30, # 1994 年的混合百分比\n",
    "            yellow=20,\n",
    "            red=20,\n",
    "            green=10,\n",
    "            orange=10,\n",
    "            tan=10)\n",
    "\n",
    "    mix96 = dict(blue=24, # 1996 年的混合百分比\n",
    "            green=20,\n",
    "            orange=16,\n",
    "            yellow=14,\n",
    "            red=13,\n",
    "            brown=13)\n",
    "\n",
    "    # 列出兩個假設\n",
    "    hypoA = dict(bag1=mix94, bag2=mix96)\n",
    "    hypoB = dict(bag1=mix96, bag2=mix94)\n",
    "    \n",
    "    # 將假設分別對應到 A 跟 B\n",
    "    hypos = dict(A=hypoA, B=hypoB)\n",
    "    \n",
    "    def Likelihood(self, data, hypo):\n",
    "        bag, color = data\n",
    "        selected_hypo = self.hypos[hypo]\n",
    "        mix = selected_hypo[bag]\n",
    "        like = mix[color]\n",
    "        return like\n",
    "\n",
    "\n",
    "suite = MM('AB') # 初始兩個假設 A 跟 B\n",
    "# A: 第一包為 1994 年、第二包為 1996 年\n",
    "# B: 第一包為 1996 年、第二包為 1994 年\n",
    "suite.Update(('bag1', 'yellow'))\n",
    "suite.Update(('bag2', 'green'))\n",
    "suite.Print()\n",
    "\n",
    "# 假設 A 的後驗機率大約為 20/27，就是之前章節所得到的結果\n",
    "assert abs(suite.Prob('A') - 20/27) < 1e-15"
   ]
  }
 ],
 "metadata": {
  "kernelspec": {
   "display_name": "Python 3",
   "language": "python",
   "name": "python3"
  },
  "language_info": {
   "codemirror_mode": {
    "name": "ipython",
    "version": 3
   },
   "file_extension": ".py",
   "mimetype": "text/x-python",
   "name": "python",
   "nbconvert_exporter": "python",
   "pygments_lexer": "ipython3",
   "version": "3.6.6"
  }
 },
 "nbformat": 4,
 "nbformat_minor": 2
}
