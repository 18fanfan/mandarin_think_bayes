{
 "cells": [
  {
   "cell_type": "markdown",
   "metadata": {},
   "source": [
    "# 章節 9：二維空間\n",
    "\n",
    "## 9.2 套件（The Suite）\n",
    "\n",
    "我們需要用 Suite 類別代表一組對於敵方位置的假設。每個假設是一組座標：（alpha, beta）。\n",
    "\n",
    "這是 Paintball 類別的定義：\n",
    "\n",
    "Paintball 繼承自 Suite 類別以及 Joint 類別，之後的小節會解釋。"
   ]
  },
  {
   "cell_type": "code",
   "execution_count": 3,
   "metadata": {},
   "outputs": [],
   "source": [
    "import thinkbayes as tb\n",
    "\n",
    "# Paintball 繼承自 Suite 以及 Joint\n",
    "class Paintball(tb.Suite, tb.Joint):\n",
    "    \n",
    "    def __init__(self, alphas, betas, locations):\n",
    "        # alphas：一序列的 alpha 值\n",
    "        # betas：一序列的 beta 值\n",
    "        \n",
    "        # 所有可能漆彈的位置；為了之後 Likelihood 方法使用\n",
    "        self.locations = locations\n",
    "        \n",
    "        # pairs：所有 alpha, beta 的配對\n",
    "        pairs = [(alpha, beta)\n",
    "            for alpha in alphas\n",
    "            for beta in betas\n",
    "        ]\n",
    "        \n",
    "        tb.Suite.__init__(self, pairs)"
   ]
  },
  {
   "cell_type": "markdown",
   "metadata": {},
   "source": [
    "由於體育館是寬 30 英尺長 50 英尺，所以以下是產生 Paintball 物件的程式碼："
   ]
  },
  {
   "cell_type": "code",
   "execution_count": 6,
   "metadata": {},
   "outputs": [],
   "source": [
    "alphas = range(0, 31)\n",
    "betas = range(1, 51)\n",
    "locations = range(0, 31)\n",
    "suite = Paintball(alphas, betas, locations)"
   ]
  },
  {
   "cell_type": "code",
   "execution_count": null,
   "metadata": {},
   "outputs": [],
   "source": []
  }
 ],
 "metadata": {
  "kernelspec": {
   "display_name": "Python 3",
   "language": "python",
   "name": "python3"
  },
  "language_info": {
   "codemirror_mode": {
    "name": "ipython",
    "version": 3
   },
   "file_extension": ".py",
   "mimetype": "text/x-python",
   "name": "python",
   "nbconvert_exporter": "python",
   "pygments_lexer": "ipython3",
   "version": "3.6.6"
  }
 },
 "nbformat": 4,
 "nbformat_minor": 2
}
