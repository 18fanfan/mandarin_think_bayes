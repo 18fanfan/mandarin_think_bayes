{
 "cells": [
  {
   "cell_type": "markdown",
   "metadata": {},
   "source": [
    "## 章節 4：更多的估計\n",
    "\n",
    "### 4.1 歐元問題\n",
    "\n",
    "David MacKay 的書籍 Information Theory, Inference, and Learning Algorithms 中寫到下述問題：\n",
    "\n",
    "> 一個統計的論述出現在2002年1月4日星期五的英國《衛報》中：\n",
    "旋轉一枚比利時的一歐元硬幣250次，出現140正面，110次背面。\n",
    "一位倫敦經濟學院統計學講師 Barry Bligt 說到：「這令他非常懷疑。」\n",
    "如果此硬幣是公平的，出現此結果的機率小於7%。\n",
    "但這些證據是否指出此硬幣是不公平的嗎？\n",
    "\n",
    "回答此問題，我們將分成兩個步驟。\n",
    "\n",
    "1. 估計硬幣出現正面的機率。\n",
    "2. 評估證據是否支持硬幣為不公正的\n",
    "\n",
    "你可以在此下載到作者的程式碼：http://thinkbayes.com/euro.py\n",
    "更多細節請參考0.3章節\n",
    "\n",
    "給定任何一個硬幣，令旋轉硬幣後出現正面的機率 x 。我們似乎可以相信機率 x 跟硬幣的物理特性有關，主要是重量的分佈。如果一個硬幣是完美平衡的，我們期望 x 接近 50%。但對一個不平衡的硬幣，x 可能會很大的不同。我們用貝葉斯定理還有觀察到的資料來**估計 x**。\n",
    "\n",
    "我們定義101個假設，數值從0到100，Hx 就代表假設出現正面為 x% 的機率。\n",
    "我用均勻分佈來表示每個 Hx 出現的機率都依樣。隨後我們再回來考慮其他的先驗分佈。\n",
    "似然性函數相對簡單：如果 Hx 已經決定，那出現正面的機率就是 x/100，反面的機率為 1 - x/100\n",
    "\n",
    "請參考下方程式碼："
   ]
  },
  {
   "cell_type": "code",
   "execution_count": 16,
   "metadata": {},
   "outputs": [
    {
     "data": {
      "image/png": "[encoded data removed]",
      "text/plain": [
       "<Figure size 432x288 with 1 Axes>"
      ]
     },
     "metadata": {
      "needs_background": "light"
     },
     "output_type": "display_data"
    },
    {
     "name": "stdout",
     "output_type": "stream",
     "text": [
      "看到證據後，最大的正面機率為： 56 %, 等於 140/250= 0.56\n"
     ]
    }
   ],
   "source": [
    "from thinkbayes import Suite\n",
    "import matplotlib.pyplot as plt\n",
    "\n",
    "class Euro(Suite):\n",
    "    \n",
    "    def Likelihood(self, data, hypo):\n",
    "        if data == 'H':\n",
    "            return hypo/100.0\n",
    "        \n",
    "        return 1-hypo/100.0\n",
    "\n",
    "    \n",
    "head, tail = 140, 110 # 依據問題出現 140 次正面、110次反面\n",
    "suite = Euro(range(0, 101))\n",
    "dataset = 'H' * head + 'T' * tail # 觀察到的資料，不考慮順序\n",
    "\n",
    "for data in dataset:\n",
    "    suite.Update(data)\n",
    "\n",
    "x, y = zip(*sorted(suite.Items()))\n",
    "plt.plot(x, y)\n",
    "plt.show()\n",
    "print(\"看到證據後，最大的正面機率為：\", suite.MaximumLikelihood(), \"%, 等於 140/250=\", head/(head+tail))"
   ]
  },
  {
   "cell_type": "markdown",
   "metadata": {},
   "source": [
    "上方圖表可發現最大的似然性（Maximum Likelihood）出現在正面機率為 0.56 的時候。\n",
    "\n",
    "其實這就是找出二項次分佈(Binomial Distribution)的參數 p ，下方是假設我們已經得到參數 p=0.56 時，所有擲出正面次數為 0 到 "
   ]
  },
  {
   "cell_type": "code",
   "execution_count": 33,
   "metadata": {},
   "outputs": [
    {
     "data": {
      "image/png": "[encoded data removed]",
      "text/plain": [
       "<Figure size 432x288 with 1 Axes>"
      ]
     },
     "metadata": {
      "needs_background": "light"
     },
     "output_type": "display_data"
    },
    {
     "name": "stdout",
     "output_type": "stream",
     "text": [
      "在得知 p=0.56 的情況下，擲出正面次數為 140 的機率最大，即符合所看到的證據。\n",
      "機率和= 0.9999999999999998 約等於 1\n"
     ]
    }
   ],
   "source": [
    "import math\n",
    "import numpy as np \n",
    "\n",
    "def binomial(p, head, n):\n",
    "    combination = math.factorial(n)/(math.factorial(head)*math.factorial(n-head))\n",
    "    return combination*(p**head)*((1-p)**(n-head))\n",
    "\n",
    "p = 0.56\n",
    "x, y = zip(*[(i, binomial(p, i, 250)) for i in range(251)])\n",
    "plt.plot(x, y)\n",
    "plt.show()\n",
    "print(\"在得知 p=0.56 的情況下，擲出正面次數為\", np.argmax(y), \"的機率最大，即符合所看到的證據。\")\n",
    "print(\"機率和=\", sum(y), \"約等於 1\")"
   ]
  }
 ],
 "metadata": {
  "kernelspec": {
   "display_name": "Python 3",
   "language": "python",
   "name": "python3"
  },
  "language_info": {
   "codemirror_mode": {
    "name": "ipython",
    "version": 3
   },
   "file_extension": ".py",
   "mimetype": "text/x-python",
   "name": "python",
   "nbconvert_exporter": "python",
   "pygments_lexer": "ipython3",
   "version": "3.6.6"
  }
 },
 "nbformat": 4,
 "nbformat_minor": 2
}
