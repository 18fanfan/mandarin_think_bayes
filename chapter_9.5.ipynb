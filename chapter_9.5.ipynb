{
 "cells": [
  {
   "cell_type": "markdown",
   "metadata": {},
   "source": [
    "# 章節 9：二維空間\n",
    "\n",
    "## 9.5 聯合分佈（Joint Distributions）\n",
    "\n",
    "當分佈中每個數值是一組變量時，例如向量，這就稱為聯合分佈。因為它代表多個變數「一起出現」的分佈。聯合分佈包含變數的分佈以及變數之間的關聯資訊。\n",
    "\n",
    "給定一個聯合分佈，我們可以計算單個變數的機率分佈，又稱作邊際分佈（Marginal Distribution）。\n",
    "\n",
    "thinkbayes.Joint 類別提供一個方法計算邊際分佈：\n",
    "\n",
    "<pre>\n",
    "# class Joint:\n",
    "\n",
    "def Marginal(self, i):\n",
    "\n",
    "    # i 表示我們想知道的變數的索引值；漆彈例子來說 i=0 表示 alpha 的分佈, i=1 表示 beta 的分佈\n",
    "    \n",
    "    pmf = Pmf()\n",
    "    for vs, prob in self.Items():\n",
    "    pmf.Incr(vs[i], prob)\n",
    "    return pmf\n",
    "</pre>\n",
    "\n",
    "下方是計算邊際機率的程式碼(有合併 9.4 小節以前的程式碼)："
   ]
  },
  {
   "cell_type": "code",
   "execution_count": 22,
   "metadata": {},
   "outputs": [
    {
     "data": {
      "image/png": "[encoded data removed]",
      "text/plain": [
       "<Figure size 432x288 with 1 Axes>"
      ]
     },
     "metadata": {
      "needs_background": "light"
     },
     "output_type": "display_data"
    },
    {
     "name": "stdout",
     "output_type": "stream",
     "text": [
      "alpha 的中位數： 17\n"
     ]
    }
   ],
   "source": [
    "import thinkbayes as tb\n",
    "import math\n",
    "import matplotlib.pyplot as plt\n",
    "import numpy as np\n",
    "\n",
    "\n",
    "def plot_dist(dist, c=None):\n",
    "    x, y = zip(*sorted(dist.Items()))\n",
    "    plt.plot(x, y, c=c)\n",
    "\n",
    "    \n",
    "# Paintball 繼承自 Suite 以及 Joint\n",
    "class Paintball(tb.Suite, tb.Joint):\n",
    "    \n",
    "    def __init__(self, alphas, betas, locations):\n",
    "        # alphas：一序列的 alpha 值\n",
    "        # betas：一序列的 beta 值\n",
    "        \n",
    "        # 所有可能漆彈的位置；為了之後 Likelihood 方法使用\n",
    "        self.locations = locations\n",
    "        \n",
    "        # pairs：所有 alpha, beta 的配對\n",
    "        pairs = [(alpha, beta)\n",
    "            for alpha in alphas\n",
    "            for beta in betas\n",
    "        ]\n",
    "        \n",
    "        tb.Suite.__init__(self, pairs)\n",
    "    \n",
    "    \n",
    "    def Likelihood(self, data, hypo):\n",
    "        # alpha, beta：假設敵人的位置\n",
    "        alpha, beta = hypo\n",
    "\n",
    "        # x：觀察到的牆面漆彈位置\n",
    "        x = data\n",
    "        pmf = MakeLocationPmf(alpha, beta, self.locations)\n",
    "\n",
    "        # 從建立好的 pmf 得到漆彈位置的似然性\n",
    "        like = pmf.Prob(x)\n",
    "        return like\n",
    "        \n",
    "\n",
    "# 計算每個位置被漆彈打到的機率，跟掃射速度成反比\n",
    "def MakeLocationPmf(alpha, beta, locations):\n",
    "    # alpha, beta：敵人的座標\n",
    "    # locations：一序列牆上漆彈的位置\n",
    "\n",
    "    pmf = tb.Pmf()\n",
    "    for x in locations:\n",
    "        prob = 1.0 / StrafingSpeed(alpha, beta, x)\n",
    "        pmf.Set(x, prob)\n",
    "        \n",
    "    pmf.Normalize()\n",
    "    # 回傳漆彈位置與其對應的機率\n",
    "    return pmf       \n",
    "\n",
    "\n",
    "def StrafingSpeed(alpha, beta, x):\n",
    "    # alpha, beta：敵人的座標\n",
    "    # x：牆上漆彈的位置\n",
    "    \n",
    "    \n",
    "    theta = math.atan2(x - alpha, beta)\n",
    "    speed = beta / math.cos(theta)**2\n",
    "    \n",
    "    # 回傳 x 對 theta 的微分\n",
    "    return speed\n",
    "\n",
    "alphas = range(0, 31)\n",
    "betas = range(1, 51)\n",
    "locations = range(0, 31)\n",
    "suite = Paintball(alphas, betas, locations)\n",
    "\n",
    "# 根據牆上漆彈位置更新先驗分佈\n",
    "suite.UpdateSet([15, 16, 18, 21])\n",
    "\n",
    "# 計算後驗的邊際分佈\n",
    "marginal_alpha = suite.Marginal(0)\n",
    "marginal_beta = suite.Marginal(1)\n",
    "\n",
    "plot_dist(marginal_alpha.MakeCdf())\n",
    "plot_dist(marginal_beta.MakeCdf())\n",
    "plt.legend([\"alpha\", \"beta\"])\n",
    "plt.title(\"CDF\")\n",
    "plt.xlabel(\"distance\")\n",
    "plt.ylabel(\"probability\")\n",
    "plt.show()\n",
    "\n",
    "print(\"alpha 的中位數：\", marginal_alpha.MakeCdf().Percentile(50))"
   ]
  },
  {
   "cell_type": "markdown",
   "metadata": {},
   "source": [
    "上圖是 alpha, beta 各自邊際分佈的 CDF 圖。\n",
    "\n",
    "alpha 的中位數是 17，約是觀察到的漆彈位置的質心。beta 最有可能的值是靠牆壁，但超過 10 英尺的分佈幾乎是呈現均勻分佈，表示觀察到的市值沒辦法有效的區分這些 beta 值的差異。\n",
    "\n",
    "給定後驗邊際分佈，我們可以計算 alpha, beta 各自的可靠區間（credible interval）。"
   ]
  },
  {
   "cell_type": "code",
   "execution_count": 21,
   "metadata": {},
   "outputs": [
    {
     "name": "stdout",
     "output_type": "stream",
     "text": [
      "alpha 50% 可靠區間: (14, 21)\n",
      "beta 50% 可靠區間: (5, 31)\n"
     ]
    }
   ],
   "source": [
    "print('alpha 50% 可靠區間:', marginal_alpha.CredibleInterval(50))\n",
    "print('beta 50% 可靠區間:', marginal_beta.CredibleInterval(50))"
   ]
  },
  {
   "cell_type": "markdown",
   "metadata": {},
   "source": [
    "觀察上方的靠靠區間得知敵人在體育館的邊邊附近。但沒有很強烈的證據。\n",
    "\n",
    "如果是 90% 的可靠區間幾乎涵蓋了所有的體育館，看下方結果。"
   ]
  },
  {
   "cell_type": "code",
   "execution_count": 20,
   "metadata": {},
   "outputs": [
    {
     "name": "stdout",
     "output_type": "stream",
     "text": [
      "alpha 90% 可靠區間: (4, 28)\n",
      "beta 90% 可靠區間: (2, 47)\n"
     ]
    }
   ],
   "source": [
    "print('alpha 90% 可靠區間:', marginal_alpha.CredibleInterval(90))\n",
    "print('beta 90% 可靠區間:', marginal_beta.CredibleInterval(90))"
   ]
  }
 ],
 "metadata": {
  "kernelspec": {
   "display_name": "Python 3",
   "language": "python",
   "name": "python3"
  },
  "language_info": {
   "codemirror_mode": {
    "name": "ipython",
    "version": 3
   },
   "file_extension": ".py",
   "mimetype": "text/x-python",
   "name": "python",
   "nbconvert_exporter": "python",
   "pygments_lexer": "ipython3",
   "version": "3.6.6"
  }
 },
 "nbformat": 4,
 "nbformat_minor": 2
}
