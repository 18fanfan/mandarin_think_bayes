{
 "cells": [
  {
   "cell_type": "markdown",
   "metadata": {},
   "source": [
    "# 章節 12：證據\n",
    "\n",
    "## 12.8 預測分佈\n",
    "\n",
    "目前為止的分析是估計 Alice 和 Bob 的功率，但因為功率不是直接觀察得到，所以很難驗證結果。\n",
    "\n",
    "要給模型預測的能力，我們可以回答相關的問題：「如果 Alice 和 Bob 再考一次 SAT 的數學部分，有多大的機率 Alice 考的比較好？」我們將用兩步驟回答此問題：\n",
    "\n",
    "1. 用功率的後驗分佈對每位測試者產生預測的原始分數分佈\n",
    "2. 用預測的原始分數分佈計算 Alice 考比較高分的機率\n",
    "\n",
    "<pre>\n",
    "exam = Exam()\n",
    "a_sat = Sat(exam, 780)\n",
    "b_sat = Sat(exam, 740)\n",
    "a_pred = exam.MakeRawScoreDist(a_sat)\n",
    "b_pred = exam.MakeRawScoreDist(b_sat)\n",
    "</pre>\n",
    "\n",
    "接著我們計算 Alice 再下次考試考的比較好，或 Bob 比較好，我是一樣好的似然性：\n",
    "\n",
    "<pre>\n",
    "a_like = thinkbayes.PmfProbGreater(a_pred, b_pred)\n",
    "b_like = thinkbayes.PmfProbLess(a_pred, b_pred)\n",
    "c_like = thinkbayes.PmfProbEqual(a_pred, b_pred)\n",
    "</pre>\n",
    "\n",
    "最後 Alice 下次考試考比較好的機率是 63%，也就是 Bob 有 37% 的機會表現一樣或是更好。\n",
    "\n",
    "請注意到我們對於 Alice 的功率更有信心。後驗分佈的勝算比（odds）是 3:1 Alice 的功率較高，但下次考試 Alice 考更好的勝算只有 2:1 。"
   ]
  }
 ],
 "metadata": {
  "kernelspec": {
   "display_name": "Python 3",
   "language": "python",
   "name": "python3"
  },
  "language_info": {
   "codemirror_mode": {
    "name": "ipython",
    "version": 3
   },
   "file_extension": ".py",
   "mimetype": "text/x-python",
   "name": "python",
   "nbconvert_exporter": "python",
   "pygments_lexer": "ipython3",
   "version": "3.6.6"
  }
 },
 "nbformat": 4,
 "nbformat_minor": 2
}
