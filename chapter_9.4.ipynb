{
 "cells": [
  {
   "cell_type": "markdown",
   "metadata": {},
   "source": [
    "# 章節 9：二維空間\n",
    "\n",
    "## 9.4 似然性（Likelihood）\n",
    "\n",
    "現在我們需要一個似然性函數。我們可以用 MakeLocationPmf 方法計算任何牆面上漆彈位置 x 的似然性，在給定敵人的座標資訊下。"
   ]
  },
  {
   "cell_type": "code",
   "execution_count": 5,
   "metadata": {},
   "outputs": [],
   "source": [
    "def Likelihood(self, data, hypo):\n",
    "    # alpha, beta：假設敵人的位置\n",
    "    alpha, beta = hypo\n",
    "    \n",
    "    # x：觀察到的牆面漆彈位置\n",
    "    x = data\n",
    "    pmf = MakeLocationPmf(alpha, beta, self.locations)\n",
    "    \n",
    "    # 從建立好的 pmf 得到漆彈位置的似然性\n",
    "    like = pmf.Prob(x)\n",
    "    return like"
   ]
  },
  {
   "cell_type": "markdown",
   "metadata": {},
   "source": [
    "接下來要更新先驗分佈，我們用 Suite.UpdateSet 方法。\n",
    "\n",
    "<pre>\n",
    "# 15, 16, 18, 21 觀察到的牆面上漆彈位置\n",
    "suite.UpdateSet([15, 16, 18, 21])\n",
    "</pre>\n",
    "\n",
    "結果就是每個敵人假設座標 （alpha, beta）的後驗分佈。"
   ]
  }
 ],
 "metadata": {
  "kernelspec": {
   "display_name": "Python 3",
   "language": "python",
   "name": "python3"
  },
  "language_info": {
   "codemirror_mode": {
    "name": "ipython",
    "version": 3
   },
   "file_extension": ".py",
   "mimetype": "text/x-python",
   "name": "python",
   "nbconvert_exporter": "python",
   "pygments_lexer": "ipython3",
   "version": "3.6.6"
  }
 },
 "nbformat": 4,
 "nbformat_minor": 2
}
