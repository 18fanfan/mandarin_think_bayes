{
 "cells": [
  {
   "cell_type": "markdown",
   "metadata": {},
   "source": [
    "## 章節 3：估計 (Estimation)\n",
    "\n",
    "### 3.3 這個先驗分佈好嗎？\n",
    "\n",
    "為了要解決火車頭問題，我們需要做一些假設，並且有些假設還很隨性。尤其是我們選擇從1到1000的均勻分布的假設，並沒有太多的理由：\n",
    "\n",
    "1. 選擇Ｎ最多只到1000\n",
    "2. 1~N 服從均勻分佈\n",
    "\n",
    "相信鐵路公司可能有1000台火車頭並不誇張，但是一個理性的人可能會猜更多或是更少台。\n",
    "\n",
    "所以我們想知道後驗分佈對於這些假設的敏感度（sensitive）。在可能只有一個觀察數據的情況下。\n",
    "\n",
    "回想一下\n",
    "\n",
    "- 從 1 到 1000 的均勻先驗分佈，後驗分佈的期望值約等於 333。\n",
    "- 從 1 到 500 的均勻先驗分佈，後驗分佈的期望值約等於 207。\n",
    "- 從 1 到 2000 的均勻先驗分佈，後驗分佈的期望值約等於 552。\n",
    "\n",
    "請參考下方程式碼："
   ]
  },
  {
   "cell_type": "code",
   "execution_count": 11,
   "metadata": {},
   "outputs": [
    {
     "name": "stdout",
     "output_type": "stream",
     "text": [
      "假設範圍 1 ~ 1000 在看到編號 [60] 後的期望值: 333.41989326371095\n",
      "假設範圍 1 ~ 500 在看到編號 [60] 後的期望值: 207.079227983409\n",
      "假設範圍 1 ~ 2000 在看到編號 [60] 後的期望值: 552.179017164631\n"
     ]
    }
   ],
   "source": [
    "from thinkbayes import Suite\n",
    "\n",
    "class Train(Suite):\n",
    "    \n",
    "    def Likelihood(self, data, hypo):\n",
    "        if data > hypo:\n",
    "            return 0.0\n",
    "        \n",
    "        return 1.0/hypo\n",
    "    \n",
    "    \n",
    "def expected_values(hypos, data):\n",
    "    suite = Train(hypos)\n",
    "    for datum in data:\n",
    "        suite.Update(datum)\n",
    "        \n",
    "    print(\"假設範圍\", hypos[0], \"~\", hypos[-1], \"在看到編號\", data,\"後的期望值:\", suite.Mean())\n",
    "    \n",
    "    \n",
    "data = [60]\n",
    "expected_values(range(1, 1001), data)\n",
    "expected_values(range(1, 501), data)\n",
    "expected_values(range(1, 2001), data)"
   ]
  },
  {
   "cell_type": "markdown",
   "metadata": {},
   "source": [
    "上述的情形並不好（因為期望值變異度大，對於不同的Ｎ值太敏感）。\n",
    "\n",
    "我們有兩個方式處理它。\n",
    "\n",
    "1. 拿到更多的資料\n",
    "2. 用更多的背景資訊（定義更好符合真實情況的先驗分佈，3.4 小節會說明）\n",
    "\n",
    "對於拿到更多資料，即使不同的先驗分佈，後驗分佈還是傾向於收斂。\n",
    "\n",
    "例如，看到編號 60 的火車頭後，我們接著又看到 30 與 90 的火車頭。\n",
    "\n",
    "請參考下方程式碼："
   ]
  },
  {
   "cell_type": "code",
   "execution_count": 12,
   "metadata": {},
   "outputs": [
    {
     "name": "stdout",
     "output_type": "stream",
     "text": [
      "假設範圍 1 ~ 1000 在看到編號 [60, 30, 90] 後的期望值: 164.3055864227336\n",
      "假設範圍 1 ~ 500 在看到編號 [60, 30, 90] 後的期望值: 151.84958795903822\n",
      "假設範圍 1 ~ 2000 在看到編號 [60, 30, 90] 後的期望值: 171.3381810915094\n"
     ]
    }
   ],
   "source": [
    "data = [60, 30, 90]\n",
    "expected_values(range(1, 1001), data)\n",
    "expected_values(range(1, 501), data)\n",
    "expected_values(range(1, 2001), data)"
   ]
  },
  {
   "cell_type": "markdown",
   "metadata": {},
   "source": [
    "**看到更多資料後，他們期望值的變異度就小得多了。**"
   ]
  }
 ],
 "metadata": {
  "kernelspec": {
   "display_name": "Python 3",
   "language": "python",
   "name": "python3"
  },
  "language_info": {
   "codemirror_mode": {
    "name": "ipython",
    "version": 3
   },
   "file_extension": ".py",
   "mimetype": "text/x-python",
   "name": "python",
   "nbconvert_exporter": "python",
   "pygments_lexer": "ipython3",
   "version": "3.6.6"
  }
 },
 "nbformat": 4,
 "nbformat_minor": 2
}
