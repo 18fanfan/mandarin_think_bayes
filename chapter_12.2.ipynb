{
 "cells": [
  {
   "cell_type": "markdown",
   "metadata": {},
   "source": [
    "# 章節 12：證據\n",
    "\n",
    "## 12.2 尺度（The scale）\n",
    "\n",
    "為了理解 SAT 分數，我們必須理解評分與量尺分數過程。每個測試者得到一個依據答對與答錯題數的原始分數。原始分數轉換成區間在 200-800 的量尺分數。在 2009 年，SAT 有 54 題數學。每個測試者的原始分數是答對題目的數量扣掉答錯題目數量的 1/4。\n",
    "\n",
    "管理 SAT 的大學理事會公布原始分數與量尺分數的對應表。作者下載這份資料並且封裝成 Interpolator 物件提供正向查找（從原始分數對應到量尺分數）和反向查找。\n",
    "\n",
    "你可以在者邊下載到作者的程式碼：http://thinkbayes.com/sat.py"
   ]
  }
 ],
 "metadata": {
  "kernelspec": {
   "display_name": "Python 3",
   "language": "python",
   "name": "python3"
  },
  "language_info": {
   "codemirror_mode": {
    "name": "ipython",
    "version": 3
   },
   "file_extension": ".py",
   "mimetype": "text/x-python",
   "name": "python",
   "nbconvert_exporter": "python",
   "pygments_lexer": "ipython3",
   "version": "3.6.6"
  }
 },
 "nbformat": 4,
 "nbformat_minor": 2
}
