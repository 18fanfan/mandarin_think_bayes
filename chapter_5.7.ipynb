{
 "cells": [
  {
   "cell_type": "markdown",
   "metadata": {},
   "source": [
    "## 章節 5：發生比與分佈相加（Odds and Addends）\n",
    "\n",
    "### 5.7 討論\n",
    "\n",
    "除了發生比形式（Odds form）的貝葉斯定理以外，這章並不是在探討貝葉斯。但是貝葉斯分析全都是關於分佈，所以了解分佈的觀念是很重要的。\n",
    "\n",
    "從計算的觀點來說，一個分佈就是任何一種能夠表達一組數值（隨機過程的可能結果）對應機率的資料結構。我們已經用兩種方式表式分佈：Pmf 和 Cdf。他們用不同的角度表達相同的資訊，所以彼此可以互相轉換。兩者主要的差異在於計算效率：有些操作用 Pmf 會比較快且容易，有些則是用 Cdf 較快。\n",
    "\n",
    "這章的另一個目的是介紹分佈的運算子，像是 Pmf.\\_\\_add\\_\\_ 方法、Cdf.Max 方法和 thinkbayes.MakeMixture方法。我們之後的章節會用這些運算子，但我在這邊就介紹這些是為了鼓勵你練習**用分佈作為基本運算元的思考方式**，不僅僅是一個數值與機率的資料結構。"
   ]
  }
 ],
 "metadata": {
  "kernelspec": {
   "display_name": "Python 3",
   "language": "python",
   "name": "python3"
  },
  "language_info": {
   "codemirror_mode": {
    "name": "ipython",
    "version": 3
   },
   "file_extension": ".py",
   "mimetype": "text/x-python",
   "name": "python",
   "nbconvert_exporter": "python",
   "pygments_lexer": "ipython3",
   "version": "3.6.6"
  }
 },
 "nbformat": 4,
 "nbformat_minor": 2
}
