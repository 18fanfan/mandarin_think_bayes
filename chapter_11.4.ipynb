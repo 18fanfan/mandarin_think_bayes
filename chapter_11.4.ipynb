{
 "cells": [
  {
   "cell_type": "markdown",
   "metadata": {},
   "source": [
    "# 章節 11：假設檢定（Hypothesis Testing）\n",
    "\n",
    "## 11.4 討論\n",
    "\n",
    "b_uniform 相對於 F 的貝葉斯因子為 0.47，這表示資料反對 b_uniform 的假設。\n",
    "\n",
    "在之前的小節用「微弱」的證據，但沒有說為什麼。\n",
    "\n",
    "一部分的原因是歷史性的。Harold Jeffreys 一位早期貝葉斯統計的支持者，建議了一個解釋貝葉斯因子的量表：\n",
    "\n",
    "<table border=1>\n",
    "    <tr><td>貝葉斯因子</td><td>強度</td></tr>\n",
    "    <tr><td>1-3</td><td>免強一提</td></tr>\n",
    "    <tr><td>3-10</td><td>實在的</td></tr>\n",
    "    <tr><td>10-30</td><td>強烈地</td></tr>\n",
    "    <tr><td>30-100</td><td>非常強烈地</td></tr>\n",
    "    <tr><td>> 100</td><td>決定性的</td></tr>\n",
    "</table>\n",
    "\n",
    "本章例子中，b_uniform 相對於 F 的貝葉斯因子為 0.47，所以是 1/0.47=2.1 支持假設 F，Jeffreys 則會認為「免強一提」。\n",
    "\n",
    "其他的作者提出了不同的用詞。為了避免形容詞的爭論，我們改用勝率（odds）思考。\n",
    "\n",
    "如果你的先驗勝率比是 1:1 ，然後你看到資料後貝葉斯因子為 2，表示後驗勝率比是 2:1。就機率而言，資料改變了你原本信念的程度，從  50% 到 66%。\n",
    "\n",
    "大部分真實世界的問題，相對於建模的誤差或其他不確定因素，這種變化會很小。換句話說，如果你看到資料後的貝葉斯因子為 100，那你的後驗勝率比為 100:1，或是機率為 99%。不論你是否同意這個「決定性的」證據，但這肯定是強而有力的。"
   ]
  }
 ],
 "metadata": {
  "kernelspec": {
   "display_name": "Python 3",
   "language": "python",
   "name": "python3"
  },
  "language_info": {
   "codemirror_mode": {
    "name": "ipython",
    "version": 3
   },
   "file_extension": ".py",
   "mimetype": "text/x-python",
   "name": "python",
   "nbconvert_exporter": "python",
   "pygments_lexer": "ipython3",
   "version": "3.6.6"
  }
 },
 "nbformat": 4,
 "nbformat_minor": 2
}
