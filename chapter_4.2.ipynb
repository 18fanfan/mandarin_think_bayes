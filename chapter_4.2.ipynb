{
 "cells": [
  {
   "cell_type": "markdown",
   "metadata": {},
   "source": [
    "## 章節 4：更多的估計\n",
    "\n",
    "### 4.2 總結後驗分佈\n",
    "\n",
    "有很多方式總結後驗分佈。其一是找到最有可能出現在後驗分佈出現的數值。\n",
    "thinkbayes.py 提供一個函數可以做到：\n",
    "\n",
    "<pre>\n",
    "def MaximumLikelihood(pmf):\n",
    "    \"\"\"Returns the value with the highest probability.\"\"\"\n",
    "    prob, val = max((prob, val) for val, prob in pmf.Items())\n",
    "    return val\n",
    "</pre>\n",
    "\n",
    "在之前的例子是 56，也是觀察到正面的比例 140/250 = 56%。因此觀察到（正確上也是）的正面比例就是最大似然性的估計。\n",
    "\n",
    "我們也可以用平均值、中位數與信賴區間（Credible Interval）來總結後驗分佈：\n",
    "\n",
    "<pre>\n",
    "print 'Mean', suite.Mean()\n",
    "print 'Median', thinkbayes.Percentile(suite, 50)\n",
    "print 'CI', thinkbayes.CredibleInterval(suite, 90)\n",
    "The result is (51, 61).\n",
    "</pre>\n",
    "\n",
    "請參考下方程式碼最後的部分："
   ]
  },
  {
   "cell_type": "code",
   "execution_count": 11,
   "metadata": {},
   "outputs": [
    {
     "data": {
      "image/png": "[encoded data removed]",
      "text/plain": [
       "<Figure size 432x288 with 1 Axes>"
      ]
     },
     "metadata": {
      "needs_background": "light"
     },
     "output_type": "display_data"
    },
    {
     "name": "stdout",
     "output_type": "stream",
     "text": [
      "看到證據後，最大的正面機率為： 56 %, 等於 140/250= 0.56\n",
      "平均值 55.952380952380956\n",
      "中位數 56\n",
      "90% 的信賴區間 (51, 61)\n"
     ]
    }
   ],
   "source": [
    "from thinkbayes import Suite, Percentile, CredibleInterval\n",
    "import matplotlib.pyplot as plt\n",
    "\n",
    "class Euro(Suite):\n",
    "    \n",
    "    def Likelihood(self, data, hypo):\n",
    "        if data == 'H':\n",
    "            return hypo/100.0\n",
    "        \n",
    "        return 1-hypo/100.0\n",
    "\n",
    "    \n",
    "head, tail = 140, 110 # 依據問題出現 140 次正面、110次反面\n",
    "suite = Euro(range(0, 101))\n",
    "dataset = 'H' * head + 'T' * tail # 觀察到的資料，不考慮順序\n",
    "\n",
    "for data in dataset:\n",
    "    suite.Update(data)\n",
    "\n",
    "x, y = zip(*sorted(suite.Items()))\n",
    "plt.plot(x, y)\n",
    "plt.show()\n",
    "print(\"看到證據後，最大的正面機率為：\", suite.MaximumLikelihood(), \"%, 等於 140/250=\", head/(head+tail))\n",
    "print(\"平均值\", suite.Mean())\n",
    "print(\"中位數\", Percentile(suite, 50))\n",
    "print(\"90% 的信賴區間\", CredibleInterval(suite, 90))"
   ]
  },
  {
   "cell_type": "markdown",
   "metadata": {},
   "source": [
    "回到原始的問題，我們想知道硬幣是否公平。我們觀察後驗分佈的90%信賴區間得知 不包含 50% 的正面機率。這表示硬幣不公平。\n",
    "\n",
    "但這也不精確是一開始的問題。 MacKay 說：「這些證據支持說硬幣是比較不公平的嗎？」\n",
    "\n",
    "要回答此問題，我要必須要更精準的回答數據構成假設的證據有什麼意義。這也是下一章節要講的主題。\n",
    "\n",
    "在繼續之前，我想解決一個可能混淆的情況。因為我們想知道硬幣是否公平，所以可能會問出現 x=50% 的機率是多少。"
   ]
  },
  {
   "cell_type": "code",
   "execution_count": 6,
   "metadata": {},
   "outputs": [
    {
     "name": "stdout",
     "output_type": "stream",
     "text": [
      "出現 x=50% 的機率是 0.02097652612954468\n"
     ]
    }
   ],
   "source": [
    "print(\"出現 x=50% 的機率是：\", suite.Prob(50))"
   ]
  },
  {
   "cell_type": "markdown",
   "metadata": {},
   "source": [
    "答案約是 0.021，但數值是沒有意義的。\n",
    "\n",
    "因為決定評估101個假設的決定是任意的（也可以在0~100間切出1000個假設）；我們可以將範圍劃分為更多或更少的部分，如果有的話，任何給定假設的概率都會更大或更小。\n",
    "\n",
    "下方程式碼便用 0~1000 總共 1001 個假設"
   ]
  },
  {
   "cell_type": "code",
   "execution_count": 40,
   "metadata": {},
   "outputs": [
    {
     "data": {
      "image/png": "[encoded data removed]",
      "text/plain": [
       "<Figure size 432x288 with 1 Axes>"
      ]
     },
     "metadata": {
      "needs_background": "light"
     },
     "output_type": "display_data"
    },
    {
     "name": "stdout",
     "output_type": "stream",
     "text": [
      "看到證據後，最大的正面機率為： 55.95595595595596 %, 等於 140/250= 0.56\n",
      "平均值 55.95238095238095\n",
      "中位數 55.95595595595596\n",
      "90% 的信賴區間 (50.750750750750754, 61.06106106106107)\n",
      "出現 x=50% 的機率是： 0\n",
      "列印假設 50 附近的數值： [49.54954955 49.64964965 49.74974975 49.84984985 49.94994995 50.05005005\n",
      " 50.15015015 50.25025025 50.35035035 50.45045045]\n"
     ]
    }
   ],
   "source": [
    "import numpy as np\n",
    "\n",
    "suite = Euro(np.linspace(0, 100, 1000)) # 0~100間切出1000個假設\n",
    "dataset = 'H' * head + 'T' * tail # 觀察到的資料，不考慮順序\n",
    "\n",
    "for data in dataset:\n",
    "    suite.Update(data)\n",
    "\n",
    "x, y = zip(*sorted(suite.Items()))\n",
    "plt.plot(x, y)\n",
    "plt.show()\n",
    "print(\"看到證據後，最大的正面機率為：\", suite.MaximumLikelihood(), \"%, 等於 140/250=\", head/(head+tail))\n",
    "print(\"平均值\", suite.Mean())\n",
    "print(\"中位數\", Percentile(suite, 50))\n",
    "print(\"90% 的信賴區間\", CredibleInterval(suite, 90))\n",
    "print(\"出現 x=50% 的機率是：\", suite.Prob(50)) # 因為沒有剛好為 50 的假設\n",
    "\n",
    "hypos, probs = zip(*suite.Items())\n",
    "\n",
    "hypos = np.array(hypos)\n",
    "hypos.sort()\n",
    "print(\"列印假設 50 附近的數值：\", hypos[np.all([hypos > 49.5, hypos < 50.5], axis=0)])\n"
   ]
  }
 ],
 "metadata": {
  "kernelspec": {
   "display_name": "Python 3",
   "language": "python",
   "name": "python3"
  },
  "language_info": {
   "codemirror_mode": {
    "name": "ipython",
    "version": 3
   },
   "file_extension": ".py",
   "mimetype": "text/x-python",
   "name": "python",
   "nbconvert_exporter": "python",
   "pygments_lexer": "ipython3",
   "version": "3.6.6"
  }
 },
 "nbformat": 4,
 "nbformat_minor": 2
}
