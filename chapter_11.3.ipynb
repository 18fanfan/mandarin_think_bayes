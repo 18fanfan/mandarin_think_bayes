{
 "cells": [
  {
   "cell_type": "markdown",
   "metadata": {},
   "source": [
    "# 章節 11：假設檢定（Hypothesis Testing）\n",
    "\n",
    "## 11.3 三角形先驗\n",
    "\n",
    "在第四章我們也有考慮用三角形的先驗分佈，x 接近 50% 處有較高的機率。用此先驗分佈作為一組偏差的子假設："
   ]
  },
  {
   "cell_type": "code",
   "execution_count": 9,
   "metadata": {},
   "outputs": [
    {
     "name": "stdout",
     "output_type": "stream",
     "text": [
      "b_triangle 與硬幣公平假設 f 的比率： 0.838661024823856\n"
     ]
    }
   ],
   "source": [
    "import thinkbayes as tb\n",
    "\n",
    "class TrianglePrior(tb.Suite):\n",
    "    \n",
    "    def __init__(self):\n",
    "        pmf = tb.Pmf()\n",
    "        \n",
    "        for i in range(101):\n",
    "            if i > 50:\n",
    "                pmf.Set(i, 100-i)\n",
    "            else:\n",
    "                pmf.Set(i, i)\n",
    "                \n",
    "        super().__init__(pmf)\n",
    "        \n",
    "    \n",
    "    def Likelihood(self, data, hypo):\n",
    "        heads, tails = data\n",
    "        x = hypo/100.0\n",
    "        like = x**heads * (1-x)**tails\n",
    "        return like\n",
    "    \n",
    "data = (140, 110)\n",
    "b_triangle = TrianglePrior()\n",
    "b_triangle_likelihood = b_triangle.Update(data)\n",
    "f = b_triangle.Likelihood(data, 50)\n",
    "\n",
    "print(\"b_triangle 與硬幣公平假設 f 的比率：\", b_triangle_likelihood/f)"
   ]
  },
  {
   "cell_type": "markdown",
   "metadata": {},
   "source": [
    "得到的似然性約為 0.84。所以資料略為反對假設 b_triangle。\n",
    "\n",
    "以下表格顯示不同的先驗偏差假設，其對應的似然性，還有似然性相對於 F 的比率。\n",
    "\n",
    "<table border=1>\n",
    "    <tr><td>假設</td><td>似然性 x10^-76</td><td>貝葉斯因子（比率）</td></tr>\n",
    "    <tr><td>F</td><td>5.5</td><td>-</td></tr>\n",
    "    <tr><td>b_cheat</td><td>34</td><td>6.1</td></tr>\n",
    "    <tr><td>b_two</td><td>7.4</td><td>1.3</td></tr>\n",
    "    <tr><td>b_uniform</td><td>2.6</td><td>0.47</td></tr>\n",
    "    <tr><td>b_triangle</td><td>4.6</td><td>0.84</td></tr>\n",
    "</table>\n",
    "\n",
    "根據不同的假設，數據可能贊成或反對有偏見的假設，但大多數情況下都是相對較弱的支持。\n",
    "\n",
    "總結來說，我們可以用貝葉斯做假設檢定，比較 F 跟 B 的似然性，但我們需要精確具體找出 B 代表的意義。這需要根據硬幣的資訊，硬幣旋轉的方式，所以大家可以各自提出意見。\n",
    "\n",
    "此例子的介紹是遵循 Daivd MacKay 的討論，並且得出相同的結論。\n",
    "\n",
    "你可以在此下載作者個程式碼：http://thinkbayes.com/euro3.py"
   ]
  }
 ],
 "metadata": {
  "kernelspec": {
   "display_name": "Python 3",
   "language": "python",
   "name": "python3"
  },
  "language_info": {
   "codemirror_mode": {
    "name": "ipython",
    "version": 3
   },
   "file_extension": ".py",
   "mimetype": "text/x-python",
   "name": "python",
   "nbconvert_exporter": "python",
   "pygments_lexer": "ipython3",
   "version": "3.6.6"
  }
 },
 "nbformat": 4,
 "nbformat_minor": 2
}
